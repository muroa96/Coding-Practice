{
 "cells": [
  {
   "cell_type": "code",
   "execution_count": 39,
   "id": "ce3ff32e-d386-4470-bc3d-8d6da029b32f",
   "metadata": {},
   "outputs": [
    {
     "name": "stdin",
     "output_type": "stream",
     "text": [
      " 6 5\n"
     ]
    },
    {
     "name": "stdout",
     "output_type": "stream",
     "text": [
      "4\n",
      "9\n"
     ]
    }
   ],
   "source": [
    "##### 1926\n",
    "#그림\n",
    "'''\n",
    "그림의 개수, 가장 큰 그림의 넓이 출력\n",
    "그림 : 1로 연결돼있음 (대각선 X 가로, 세로로 연결돼있어야됨)\n",
    "'''\n",
    "from collections import deque\n",
    "n, m = map(int, input().split())\n",
    "# arr = [list(map(int, input().split())) for _ in range(n)]\n",
    "visited = [[False]*m for _ in range(n)]\n",
    "arr = [[1, 1, 0, 1, 1], [0, 1, 1, 0, 0], [0, 0, 0, 0, 0], [1, 0, 1, 1, 1], [0, 0, 1, 1, 1], [0, 0, 1, 1, 1]]\n",
    "dx = [-1,1,0,0]\n",
    "dy = [0,0,-1,1]\n",
    "def bfs(x0,y0):\n",
    "    q = deque()\n",
    "    q.append((x0,y0))\n",
    "    visited[x0][y0] = True\n",
    "    cnt  = 0 #그림의 넓이(1의 개수)\n",
    "    while q:\n",
    "        x, y = q.popleft()\n",
    "        cnt+=1\n",
    "        for i in range(4):\n",
    "            nx = x+dx[i]\n",
    "            ny = y+dy[i]\n",
    "            if nx<0 or ny<0 or nx>=n or ny>=m:\n",
    "                continue\n",
    "            if arr[nx][ny]==1 and not visited[nx][ny]:\n",
    "                arr[nx][ny] = arr[x][y]+1\n",
    "                visited[nx][ny] = True\n",
    "                q.append((nx,ny))\n",
    "    return cnt\n",
    "\n",
    "ans = 0\n",
    "size =0 \n",
    "for i in range(n):\n",
    "    for j in range(m):\n",
    "        if arr[i][j]==1:\n",
    "            size = max(size, bfs(i,j))\n",
    "            ans+=1\n",
    "print(ans)\n",
    "print(size)"
   ]
  },
  {
   "cell_type": "code",
   "execution_count": 49,
   "id": "4cd4fef9-d941-4d59-bd15-cb8ede6d7a81",
   "metadata": {},
   "outputs": [
    {
     "name": "stdin",
     "output_type": "stream",
     "text": [
      " 2 25\n",
      " 1011101110111011101110111\n",
      " 1110111011101110111011101\n"
     ]
    },
    {
     "name": "stdout",
     "output_type": "stream",
     "text": [
      "38\n"
     ]
    }
   ],
   "source": [
    "#2178\n",
    "#미로 탐색\n",
    "from collections import deque\n",
    "n, m = map(int, input().split())\n",
    "graph = [list(map(int, input())) for _ in range(n)]\n",
    "dx = [-1,1,0,0]\n",
    "dy = [0,0,-1,1]\n",
    "def bfs():\n",
    "    q = deque()\n",
    "    q.append((0,0))\n",
    "    while q:\n",
    "        x, y = q.popleft()\n",
    "        for i in range(4):\n",
    "            nx, ny = x+dx[i], y+dy[i]\n",
    "            if nx<0 or ny<0 or nx>=n or ny>=m:\n",
    "                continue\n",
    "            if graph[nx][ny]==1:\n",
    "                graph[nx][ny] = graph[x][y]+1\n",
    "                q.append((nx,ny))\n",
    "    return graph[n-1][m-1]\n",
    "print(bfs())"
   ]
  },
  {
   "cell_type": "code",
   "execution_count": 50,
   "id": "1ceeb499-ca76-4d5e-9f1a-3dc19370ac12",
   "metadata": {},
   "outputs": [
    {
     "name": "stdin",
     "output_type": "stream",
     "text": [
      " 6 4\n",
      " 0 0 0 0 0 0\n",
      " 0 0 0 0 0 0\n",
      " 0 0 0 0 0 0\n",
      " 0 0 0 0 0 1\n"
     ]
    },
    {
     "name": "stdout",
     "output_type": "stream",
     "text": [
      "8\n"
     ]
    }
   ],
   "source": [
    "## 7576\n",
    "#토마토\n",
    "from collections import deque\n",
    "m, n = map(int, input().split())\n",
    "graph = [list(map(int, input().split())) for _ in range(n)]\n",
    "# graph = [[1, -1, 0, 0, 0, 0], [0, -1, 0, 0, 0, 0], [0, 0, 0, 0, -1, 0], [0, 0, 0, 0, -1, 1]]\n",
    "visited = [[False]*m for _ in range(n)]\n",
    "dx = [-1,1,0,0]\n",
    "dy = [0,0,-1,1]\n",
    "def bfs():\n",
    "    q = deque()\n",
    "    for i in range(len(graph)):\n",
    "        for j in range(len(graph[i])):\n",
    "            if graph[i][j]==1:\n",
    "                q.append((i,j))\n",
    "                visited[i][j] = True\n",
    "    while q:\n",
    "        x, y = q.popleft()\n",
    "        for i in range(4):\n",
    "            nx = x+dx[i]\n",
    "            ny = y+dy[i]\n",
    "            if nx<0 or ny<0 or nx>=n or ny>=m:\n",
    "                continue\n",
    "            if graph[nx][ny]==0 and not visited[nx][ny]:\n",
    "                graph[nx][ny] = graph[x][y]+1\n",
    "                visited[nx][ny] = True\n",
    "                q.append((nx,ny))\n",
    "bfs()\n",
    "answ = 0\n",
    "isbreak = False\n",
    "for i in graph:\n",
    "    for j in i:\n",
    "        if j==0:\n",
    "            isbreak = True\n",
    "            break\n",
    "    if isbreak == True:\n",
    "        break\n",
    "    answ = max(answ,max(i))\n",
    "if isbreak == False:\n",
    "    print(answ-1)\n",
    "else:\n",
    "    print(-1)"
   ]
  },
  {
   "cell_type": "code",
   "execution_count": 57,
   "id": "16cb09c2-3d6a-4cd0-9553-c1ab921d0200",
   "metadata": {},
   "outputs": [
    {
     "name": "stdin",
     "output_type": "stream",
     "text": [
      " 4 4\n",
      " ####\n",
      " #JF#\n",
      " ####\n",
      " ####\n"
     ]
    },
    {
     "name": "stdout",
     "output_type": "stream",
     "text": [
      "0\n"
     ]
    }
   ],
   "source": [
    "#4179\n",
    "#불!\n",
    "'''\n",
    "# 벽 .길 J지훈 F 불\n",
    "'''\n",
    "from collections import deque\n",
    "n, m = map(int, input().split())\n",
    "arr = [list(input()) for _ in range(n)]\n",
    "q = deque() #불\n",
    "visited = [[0]*m for _ in range(m)]\n",
    "for i in range(n):\n",
    "    for j in range(m):\n",
    "        if arr[i][j] == 'J':\n",
    "            q.append((i,j))\n",
    "            start, end = i,j\n",
    "            visited[i][j] = 1\n",
    "        elif arr[i][j] == 'F':\n",
    "            q.appendleft((i,j)) #불을 먼저\n",
    "            visited[i][j] = -1\n",
    "dx = [-1,1,0,0]\n",
    "dy = [0,0,-1,1]\n",
    "\n",
    "def bfs(start, end,q):\n",
    "    answer = 0\n",
    "    while q:\n",
    "        x, y = q.popleft()\n",
    "        for i in range(4):\n",
    "            nx = x+dx[i]\n",
    "            ny = y+dy[i]\n",
    "            if graph[nx][ny]=='#': #벽\n",
    "                continue\n",
    "            if nx<0 or ny<0 or nx>=n or ny>=m: \n",
    "                continue\n",
    "            elif graph[nx][ny] =='.' and visited[nx][ny]==0:\n",
    "                if visited[x][y] ==-1: #불인 경우\n",
    "                    visited[nx][ny] = -1\n",
    "                    q.append((nx,ny))\n",
    "                elif visited[x][y]>0: #불이 안붙은 경우\n",
    "                    if nx==0 or ny==0 or nx==n-1 or ny==m-1:\n",
    "                        answer += graph[x][y]\n",
    "                        q = []\n",
    "                        break\n",
    "                    else:\n",
    "                        visited[nx][ny] = visited[x][y]+1\n",
    "                        q.append((nx,ny))\n",
    "        if len(q) == []:\n",
    "            answer +='IMPOSSIBLE'\n",
    "    return answer\n",
    "\n",
    "print(bfs(start, end,q))"
   ]
  },
  {
   "cell_type": "code",
   "execution_count": 11,
   "id": "fe90a9e0-f6db-4525-9840-e1d27429f53a",
   "metadata": {},
   "outputs": [
    {
     "name": "stdin",
     "output_type": "stream",
     "text": [
      " 5 10\n"
     ]
    },
    {
     "name": "stdout",
     "output_type": "stream",
     "text": [
      "1\n"
     ]
    }
   ],
   "source": [
    "#1697\n",
    "#숨박꼭질\n",
    "from collections import deque\n",
    "n, k = map(int, input().split())\n",
    "visited =  [0] * (max(n,k)*3+1)\n",
    "def bfs(n,k):\n",
    "    q = deque()\n",
    "    q.append(n)\n",
    "    \n",
    "    while q:\n",
    "        x = q.popleft()\n",
    "        if x==k:\n",
    "            break\n",
    "        dx = [1,-1,x]\n",
    "        for i in range(3):\n",
    "            nx = x+dx[i]\n",
    "            if nx<0 or nx>=len(visited):\n",
    "                continue\n",
    "            if visited[nx]==0:\n",
    "                visited[nx] = visited[x]+1\n",
    "                q.append(nx)\n",
    "    return visited[x]\n",
    "\n",
    "print(bfs(n,k))"
   ]
  },
  {
   "cell_type": "code",
   "execution_count": 41,
   "id": "3e10745f-52fe-4583-919e-ff03e7ca833d",
   "metadata": {},
   "outputs": [
    {
     "name": "stdin",
     "output_type": "stream",
     "text": [
      " 1\n",
      " 5 3 6\n",
      " 0 2\n",
      " 1 2\n",
      " 2 2\n",
      " 3 2\n",
      " 4 2\n",
      " 4 0\n"
     ]
    },
    {
     "name": "stdout",
     "output_type": "stream",
     "text": [
      "5\n"
     ]
    }
   ],
   "source": [
    "#1012\n",
    "#유기농 배추\n",
    "from collections import deque   \n",
    "def bfs(x0,y0):\n",
    "    q = deque()\n",
    "    q.append((x0,y0))\n",
    "    dx = [-1,1,0,0]\n",
    "    dy = [0,0,-1,1]\n",
    "    cnt =0\n",
    "    while q:\n",
    "        x, y = q.popleft()\n",
    "        for i in range(4):\n",
    "            nx = x+dx[i]\n",
    "            ny = y+dy[i]\n",
    "            if nx<0 or ny<0 or nx>=n or ny>=m:\n",
    "                continue\n",
    "            if graph[nx][ny]==1:\n",
    "                cnt+=1\n",
    "                graph[nx][ny] = graph[x][y]+1\n",
    "                q.append((nx,ny))\n",
    "    return cnt\n",
    "\n",
    "t = int(input())\n",
    "for _ in range(t):\n",
    "    m, n, k = map(int, input().split())\n",
    "    graph = [[0]*m for _ in range(n)]\n",
    "    for _ in range(k):\n",
    "        y, x = map(int, input().split())\n",
    "        graph[x][y] = 1 \n",
    "    answer = 0\n",
    "\n",
    "    for i in range(n):\n",
    "        for j in range(m):\n",
    "            if graph[i][j]==1:\n",
    "                ans = bfs(i,j)\n",
    "                answer+=ans\n",
    "    \n",
    "    print(answer)"
   ]
  },
  {
   "cell_type": "code",
   "execution_count": 65,
   "id": "7dbdf219-7bea-4a18-aa5c-a296c4b74d05",
   "metadata": {},
   "outputs": [
    {
     "name": "stdin",
     "output_type": "stream",
     "text": [
      " 5\n",
      " RRRBB\n",
      " GGBBB\n",
      " BBBRR\n",
      " BBRRR\n",
      " RRRRR\n"
     ]
    },
    {
     "name": "stdout",
     "output_type": "stream",
     "text": [
      "[['R', 'R', 'R', 'B', 'B'], ['R', 'R', 'B', 'B', 'B'], ['B', 'B', 'B', 'R', 'R'], ['B', 'B', 'R', 'R', 'R'], ['R', 'R', 'R', 'R', 'R']]\n",
      "[[True, True, True, True, True], [True, True, True, True, True], [True, True, True, True, True], [True, True, True, True, True], [True, True, True, True, True]]\n",
      "16\n",
      "0\n"
     ]
    }
   ],
   "source": [
    "#10026\n",
    "#적록색약\n",
    "#적록 : R or G\n",
    "from collections import deque\n",
    "n = int(input())\n",
    "graph1 = [list(input()) for _ in range(n)] #색약X\n",
    "graph2 = [i for i in graph1] #색약\n",
    "for i in range(n): #색약->초록을 빨간색으로 통일\n",
    "    for j in range(n):\n",
    "        if graph1[i][j] == 'G':\n",
    "            graph2[i][j] = 'R'\n",
    "visited1 = [[False]*n for _ in range(n)]\n",
    "visited2 = visited1.copy()\n",
    "print(graph2)\n",
    "dx = [-1,1,0,0]\n",
    "dy = [0,0,-1,1]\n",
    "def bfs(x0,y0,graph,visited):\n",
    "    q = deque()\n",
    "    q.append((x0,y0))\n",
    "    visited[x0][y0] = True\n",
    "    color= graph[x0][y0] #구역 색깔\n",
    "    while q:\n",
    "        x, y = q.popleft()\n",
    "        if graph[x][y]!=color:\n",
    "            break\n",
    "        for i in range(4):\n",
    "            nx = x+dx[i]\n",
    "            ny = y=dy[i]\n",
    "            if nx<0 or ny<0 or nx>=n or ny>=n:\n",
    "                continue\n",
    "            if not visited[nx][ny] and graph[nx][ny]==color:\n",
    "                visited[nx][ny] = True\n",
    "                q.append((nx,ny))\n",
    "answer1 = 0\n",
    "answer2 = 0\n",
    "for i in range(n):\n",
    "    for j in range(n):\n",
    "        if not visited1[i][j]:\n",
    "            bfs(i,j,graph1,visited1)\n",
    "            answer1+=1\n",
    "        elif not visited2[i][j]:\n",
    "            bfs(i,j,graph2,visited2)\n",
    "            answer2+=1\n",
    "print(visited1)        \n",
    "print(answer1)\n",
    "print(answer2)"
   ]
  },
  {
   "cell_type": "code",
   "execution_count": 8,
   "id": "0694224b-2707-4ea8-8824-417a2845be7d",
   "metadata": {},
   "outputs": [],
   "source": [
    "#7569\n",
    "#토마토"
   ]
  },
  {
   "cell_type": "code",
   "execution_count": 9,
   "id": "eba25f4f-7714-4949-87f4-358b4e145c6b",
   "metadata": {},
   "outputs": [],
   "source": [
    "#7562\n",
    "#나이트의 이동"
   ]
  },
  {
   "cell_type": "code",
   "execution_count": 48,
   "id": "28eb062a-0f80-401f-8ca1-503165e3d3b5",
   "metadata": {},
   "outputs": [
    {
     "name": "stdout",
     "output_type": "stream",
     "text": [
      "deque([(1, 2)])\n",
      "deque([(1, 1)])\n"
     ]
    }
   ],
   "source": [
    "#5427\n",
    "#불\n",
    "'''\n",
    "불 먼저\n",
    "벽, 불붙은곳 이동 X\n",
    "탈출 O->시간, 탈출X->IMPOSSIBLE\n",
    ". 빈공간 # 벽 @ 시작 *불\n",
    "'''\n",
    "from collections import deque\n",
    "n, m = 3, 4\n",
    "arr = [['#', '#', '#', '#'], ['#', '*', '@', '.'], ['#', '#', '#', '#']]\n",
    "visited = [[False]*m for _ in range(m)]\n",
    "p = deque() #상근이의 위치\n",
    "f = deque() #불의 위치\n",
    "for i in range(n):\n",
    "    for j in range(m):\n",
    "        if arr[i][j] == '@':\n",
    "            p.append((i,j))\n",
    "        elif arr[i][j]=='*':\n",
    "            f.append((i,j))\n",
    "dx = [-1,1,0,0]\n",
    "dy = [0,0,-1,1]\n",
    "def bfs(start):\n",
    "    visited[start[0]][start[1]] = True\n",
    "    while True:\n",
    "        #1. 불 확산\n",
    "        x1, y1 = f.popleft()\n",
    "        \n",
    "            "
   ]
  },
  {
   "cell_type": "code",
   "execution_count": 11,
   "id": "26ddde2d-e6ae-46ff-9ba1-b65c5005aeb6",
   "metadata": {},
   "outputs": [],
   "source": [
    "#2583\n",
    "#영역 구하기"
   ]
  },
  {
   "cell_type": "code",
   "execution_count": 12,
   "id": "35d2c152-3985-472f-976d-74814007a9e0",
   "metadata": {},
   "outputs": [],
   "source": [
    "#2667\n",
    "#단지번호붙이기"
   ]
  },
  {
   "cell_type": "code",
   "execution_count": 13,
   "id": "126f3524-5679-41cb-9e20-ff6e481c2133",
   "metadata": {},
   "outputs": [],
   "source": [
    "#5014\n",
    "#스타트링크"
   ]
  },
  {
   "cell_type": "code",
   "execution_count": 14,
   "id": "edcf38e3-f7ab-4aa6-9a7f-afa58137cd0e",
   "metadata": {},
   "outputs": [],
   "source": [
    "#2468\n",
    "#안전 영역"
   ]
  },
  {
   "cell_type": "code",
   "execution_count": 15,
   "id": "f759fcbc-162f-4781-9c4d-f241c558e682",
   "metadata": {},
   "outputs": [],
   "source": [
    "#6593\n",
    "#상범 빌딩"
   ]
  },
  {
   "cell_type": "code",
   "execution_count": 16,
   "id": "02658793-b386-445a-bc9c-fa335f13e672",
   "metadata": {},
   "outputs": [],
   "source": [
    "#2206\n",
    "#벽 부수고 이동하기"
   ]
  },
  {
   "cell_type": "code",
   "execution_count": 17,
   "id": "d8c06be2-91c3-4825-a667-197083d9d66f",
   "metadata": {},
   "outputs": [],
   "source": [
    "#9466\n",
    "#텀 프로젝트"
   ]
  },
  {
   "cell_type": "code",
   "execution_count": 18,
   "id": "4baaca0e-8d6a-4e61-923d-bc4557150eff",
   "metadata": {},
   "outputs": [],
   "source": [
    "#2573\n",
    "#빙산"
   ]
  },
  {
   "cell_type": "code",
   "execution_count": 19,
   "id": "403595f2-05e0-419e-b3f9-7b59e12feb8c",
   "metadata": {},
   "outputs": [],
   "source": [
    "#2146\n",
    "#다리 만들기"
   ]
  },
  {
   "cell_type": "code",
   "execution_count": 20,
   "id": "20dd8650-a5d0-4a7a-8a2c-95b79198ee3d",
   "metadata": {},
   "outputs": [],
   "source": [
    "#13549\n",
    "#숨바꼭질 3"
   ]
  },
  {
   "cell_type": "code",
   "execution_count": 21,
   "id": "a2d857c9-55ea-4a16-b57a-a2f8f1217f49",
   "metadata": {},
   "outputs": [],
   "source": [
    "#1600\n",
    "#말이 되고픈 원숭이"
   ]
  },
  {
   "cell_type": "code",
   "execution_count": 22,
   "id": "b273b71c-ed54-4736-898b-dc2b5a3e7473",
   "metadata": {},
   "outputs": [],
   "source": [
    "#13913\n",
    "#숨바꼭질 4"
   ]
  },
  {
   "cell_type": "code",
   "execution_count": 23,
   "id": "bf9a8a54-f464-4be1-95ff-7541e5ac4040",
   "metadata": {},
   "outputs": [],
   "source": [
    "#14442\n",
    "#벽 부수고 이동하기 2"
   ]
  },
  {
   "cell_type": "code",
   "execution_count": 24,
   "id": "4190ab84-701c-4dca-b3ca-0d2854700698",
   "metadata": {},
   "outputs": [],
   "source": [
    "#16933\n",
    "#벽 부수고 이동하기 3"
   ]
  },
  {
   "cell_type": "code",
   "execution_count": 25,
   "id": "2464813d-5239-46f1-b513-31abb8bd19d5",
   "metadata": {},
   "outputs": [],
   "source": [
    "#16920\n",
    "#확장 게임"
   ]
  },
  {
   "cell_type": "code",
   "execution_count": 26,
   "id": "330ae01a-8a0f-4028-9353-49f77d47b7e0",
   "metadata": {},
   "outputs": [],
   "source": [
    "#11967\n",
    "#불켜기"
   ]
  },
  {
   "cell_type": "code",
   "execution_count": 27,
   "id": "672c6154-0858-4b6c-915f-65ba39abd226",
   "metadata": {},
   "outputs": [],
   "source": [
    "#17071\n",
    "#숨바꼭질 5"
   ]
  },
  {
   "cell_type": "code",
   "execution_count": 28,
   "id": "e2ba99ef-c803-4a29-a97b-7e84f3fec62b",
   "metadata": {},
   "outputs": [],
   "source": [
    "#9328\n",
    "#열쇠"
   ]
  },
  {
   "cell_type": "code",
   "execution_count": 29,
   "id": "ca82527c-9bb0-468c-ba95-06476f007f20",
   "metadata": {},
   "outputs": [],
   "source": [
    "#3197\n",
    "#백조의 호수"
   ]
  },
  {
   "cell_type": "code",
   "execution_count": 30,
   "id": "1e44d104-5ea2-4610-8aeb-8d4fce258534",
   "metadata": {},
   "outputs": [],
   "source": [
    "#20304\n",
    "#비밀번호 제작"
   ]
  }
 ],
 "metadata": {
  "kernelspec": {
   "display_name": "Python 3",
   "language": "python",
   "name": "python3"
  },
  "language_info": {
   "codemirror_mode": {
    "name": "ipython",
    "version": 3
   },
   "file_extension": ".py",
   "mimetype": "text/x-python",
   "name": "python",
   "nbconvert_exporter": "python",
   "pygments_lexer": "ipython3",
   "version": "3.8.8"
  }
 },
 "nbformat": 4,
 "nbformat_minor": 5
}
