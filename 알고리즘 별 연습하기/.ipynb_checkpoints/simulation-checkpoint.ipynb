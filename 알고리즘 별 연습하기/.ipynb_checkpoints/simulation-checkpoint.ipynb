{
 "cells": [
  {
   "cell_type": "code",
   "execution_count": 32,
   "id": "a81cfe2d-a57f-4d59-9944-b659a873e023",
   "metadata": {
    "tags": []
   },
   "outputs": [
    {
     "name": "stdout",
     "output_type": "stream",
     "text": [
      "20\n",
      "[(1, 1, 1), (1, 1, 2), (1, 1, 3), (1, 1, 4), (1, 2, 2), (1, 2, 3), (1, 2, 4), (1, 3, 3), (1, 3, 4), (1, 4, 4), (2, 2, 2), (2, 2, 3), (2, 2, 4), (2, 3, 3), (2, 3, 4), (2, 4, 4), (3, 3, 3), (3, 3, 4), (3, 4, 4), (4, 4, 4)]\n"
     ]
    }
   ],
   "source": [
    "#15683\n",
    "#감시\n",
    "from itertools import combinations_with_replacement\n",
    "# n, m = map(int, input().split())\n",
    "# arr=  [list(map(int, input().split()))for _ in range(n)]\n",
    "n, m = 6, 6\n",
    "arr = [[0, 0, 0, 0, 0, 0], [0, 2, 0, 0, 0, 0], [0, 0, 0, 0, 6, 0], [0, 6, 0, 0, 2, 0], [0, 0, 0, 0, 0, 0], [0, 0, 0, 0, 0, 5]]\n",
    "camera = [] #카메라 위치\n",
    "for i in range(n):\n",
    "    for j in range(m):\n",
    "        if 0<arr[i][j]<=5:\n",
    "            camera.append((i,j))\n",
    "\n",
    "ls = [1,2,3,4]\n",
    "cases = list(combinations_with_replacement(ls,len(camera))) #카메라의 모든 방향\n",
    "for i in cases:\n",
    "    for j in range(len(camera)):\n",
    "        cam = camera[j]\n",
    "        direction = cases[j]\n",
    "        \n",
    "def supervise(cam, direction):\n",
    "    if cam == 1:\n",
    "        dx = [-1,1,0,0]\n",
    "        dy = [0,0,-1,1]\n",
    "        while True:\n",
    "            nx = \n",
    "#동서남북\n",
    "#북1 서2 남3 동4\n",
    "#1번\n",
    "# (i, j+n), (i, j-n), (i+n, j), (i-n, j)"
   ]
  },
  {
   "cell_type": "code",
   "execution_count": 33,
   "id": "5a06e936-0bcf-425d-bb64-d4ccd69be8c4",
   "metadata": {},
   "outputs": [
    {
     "name": "stdin",
     "output_type": "stream",
     "text": [
      " 5 4 4\n",
      " 3 3\n",
      " 1 0 1\n",
      " 1 1 1\n",
      " 1 0 1\n",
      " 2 5\n",
      " 1 1 1 1 1\n",
      " 0 0 0 1 0\n",
      " 2 3\n",
      " 1 1 1\n",
      " 1 0 1\n",
      " 3 3\n",
      " 1 0 0\n",
      " 1 1 1\n",
      " 1 0 0\n"
     ]
    },
    {
     "name": "stdout",
     "output_type": "stream",
     "text": [
      "[[[1, 0, 1], [1, 1, 1], [1, 0, 1]], [[1, 1, 1, 1, 1], [0, 0, 0, 1, 0]], [[1, 1, 1], [1, 0, 1]], [[1, 0, 0], [1, 1, 1], [1, 0, 0]]]\n"
     ]
    }
   ],
   "source": [
    "#18808\n",
    "#스티커 붙이기\n",
    "'''\n",
    "각 행, 열에 대해 통째로 0이면 안됨\n",
    "스티커 연결이 끊기면 안됨\n",
    "받은 순서로 노트북 위쪽, 왼쪽\n",
    "못붙이면 90도 씩 회전-> 공간 없으면 버린다.\n",
    "'''\n",
    "def rotate(arr): #90도씩 회전\n",
    "    return [list(reversed(i)) for i in zip(*arr)]\n",
    "\n",
    "n, m, k = map(int, input().split())\n",
    "notebook = [[0]*m for _ in range(n)]\n",
    "# sticker = []\n",
    "# for _ in range(k):\n",
    "#     n, m = map(int, input().split())\n",
    "#     arr = [list(map(int, input().split())) for _ in range(n)]\n",
    "#     sticker.append(arr)\n",
    "sticker = [[[1, 0, 1], [1, 1, 1], [1, 0, 1]], [[1, 1, 1, 1, 1], [0, 0, 0, 1, 0]], \n",
    "           [[1, 1, 1], [1, 0, 1]], [[1, 0, 0], [1, 1, 1], [1, 0, 0]]]\n",
    "for i in sticker:\n",
    "    \n"
   ]
  }
 ],
 "metadata": {
  "kernelspec": {
   "display_name": "Python 3",
   "language": "python",
   "name": "python3"
  },
  "language_info": {
   "codemirror_mode": {
    "name": "ipython",
    "version": 3
   },
   "file_extension": ".py",
   "mimetype": "text/x-python",
   "name": "python",
   "nbconvert_exporter": "python",
   "pygments_lexer": "ipython3",
   "version": "3.8.8"
  }
 },
 "nbformat": 4,
 "nbformat_minor": 5
}
