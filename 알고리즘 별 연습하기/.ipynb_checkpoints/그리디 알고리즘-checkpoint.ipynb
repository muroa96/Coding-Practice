{
 "cells": [
  {
   "cell_type": "code",
   "execution_count": 8,
   "id": "cd096a9c-cd79-4f6f-91b8-32690fbddbbc",
   "metadata": {},
   "outputs": [
    {
     "name": "stdin",
     "output_type": "stream",
     "text": [
      " 10 4790\n",
      " 1\n",
      " 5\n",
      " 10\n",
      " 50\n",
      " 100\n",
      " 500\n",
      " 1000\n",
      " 5000\n",
      " 1000\n",
      " 50000\n"
     ]
    },
    {
     "name": "stdout",
     "output_type": "stream",
     "text": [
      "12\n"
     ]
    }
   ],
   "source": [
    "#11047\n",
    "#동전 0\n",
    "n, k = map(int, input().split())\n",
    "coin = sorted([int(input()) for _ in range(n)], reverse = True)\n",
    "answer = 0\n",
    "\n",
    "for i in coin:\n",
    "    if k<=0:\n",
    "        break\n",
    "    else:\n",
    "        if i<=k:\n",
    "            n = k//i\n",
    "            k -=n*i\n",
    "            if k>=0:\n",
    "                answer+=n\n",
    "print(answer)"
   ]
  },
  {
   "cell_type": "code",
   "execution_count": null,
   "id": "0aa9e6b3-7c29-414e-8c5f-2898946bd80e",
   "metadata": {},
   "outputs": [],
   "source": [
    "#1931\n",
    "#회의실 배정\n",
    "n = int(input())\n",
    "room = []\n",
    "\n",
    "for i in range(n):\n",
    "    a, b = map(int, input().split())\n",
    "    room.append([a, b])\n",
    "\n",
    "room.sort(key = lambda x: x[0])\n",
    "room.sort(key = lambda x: x[1])\n",
    "\n",
    "cnt = 1\n",
    "end = room[0][1]\n",
    "for i in range(1, n):\n",
    "    if room[i][0] >= end:\n",
    "        cnt += 1\n",
    "        end = room[i][1]\n",
    "\n",
    "print(cnt)"
   ]
  },
  {
   "cell_type": "code",
   "execution_count": 21,
   "id": "f2ffc879-9a58-4afa-a7a6-9a4718a610ed",
   "metadata": {},
   "outputs": [
    {
     "name": "stdin",
     "output_type": "stream",
     "text": [
      " 5\n",
      " 10\n",
      " 20\n",
      " 50\n",
      " 90\n",
      " 135\n"
     ]
    },
    {
     "name": "stdout",
     "output_type": "stream",
     "text": [
      "[180]\n"
     ]
    }
   ],
   "source": [
    "#2217\n",
    "#로프\n",
    "n = int(input())\n",
    "arr = sorted([int(input()) for _ in range(n)])\n",
    "num = [i for i in range(len(arr),0,-1)]\n",
    "stack = []\n",
    "for i in range(len(arr)):\n",
    "    weight= arr[i]*num[i]\n",
    "    if len(stack)==0:\n",
    "        stack.append(weight)\n",
    "    else:\n",
    "        if weight>stack[-1]:\n",
    "            stack.pop()\n",
    "            stack.append(weight)\n",
    "print(stack[0])"
   ]
  },
  {
   "cell_type": "code",
   "execution_count": 16,
   "id": "35f97ffc-0595-4a72-ab26-9cf58a65b6b4",
   "metadata": {},
   "outputs": [
    {
     "name": "stdin",
     "output_type": "stream",
     "text": [
      " 5\n",
      " 1 1 1 6 0\n",
      " 2 7 8 3 1\n"
     ]
    },
    {
     "name": "stdout",
     "output_type": "stream",
     "text": [
      "18\n"
     ]
    }
   ],
   "source": [
    "#1026\n",
    "#보물\n",
    "n = int(input())\n",
    "a = list(map(int, input().split()))\n",
    "b = list(map(int, input().split()))\n",
    "a = sorted(a)\n",
    "answer = 0\n",
    "while True:\n",
    "    if len(a)==0 and len(b)==0:\n",
    "        break\n",
    "    minb = min(b)\n",
    "    answer+=minb*a[-1]\n",
    "    a.pop()\n",
    "    b.remove(minb)\n",
    "print(answer)"
   ]
  },
  {
   "cell_type": "code",
   "execution_count": 9,
   "id": "59a92a99-cc29-486b-9314-bb5907f01eb4",
   "metadata": {},
   "outputs": [
    {
     "name": "stdin",
     "output_type": "stream",
     "text": [
      " 5\n",
      " 3 1 4 3 2\n"
     ]
    },
    {
     "name": "stdout",
     "output_type": "stream",
     "text": [
      "32\n"
     ]
    }
   ],
   "source": [
    "#11399\n",
    "#ATM\n",
    "n = int(input())\n",
    "arr = sorted(list(map(int, input().split())))\n",
    "answer = 0\n",
    "for i in range(len(arr)):\n",
    "    answer+=sum(arr[:i+1])\n",
    "print(answer)"
   ]
  },
  {
   "cell_type": "code",
   "execution_count": 2,
   "id": "8e658377-88df-4258-8c2d-642c8e4272c2",
   "metadata": {},
   "outputs": [],
   "source": [
    "#2457\n",
    "#공주님의 정원\n",
    "'''\n",
    "같은 해에 피어서 같은 해에 진다.\n",
    "피는날 지는날 정해져있음 a<=x<b\n",
    "3/1 ~ 11/30 매일 꽃이 한가지 이상 피어있음\n",
    "가능한 적은 꽃\n",
    "'''\n"
   ]
  },
  {
   "cell_type": "code",
   "execution_count": 4,
   "id": "afc072e7-fd94-4ae5-988f-a14d00002b04",
   "metadata": {},
   "outputs": [],
   "source": [
    "#1541\n",
    "#잃어버린 괄호"
   ]
  },
  {
   "cell_type": "code",
   "execution_count": 45,
   "id": "3a7500dc-e5a4-4b69-8a18-4f3d34ca5b9e",
   "metadata": {},
   "outputs": [
    {
     "name": "stdin",
     "output_type": "stream",
     "text": [
      " 3\n",
      " 3\n",
      " 10 7 6\n"
     ]
    },
    {
     "name": "stdout",
     "output_type": "stream",
     "text": [
      "0\n"
     ]
    },
    {
     "name": "stdin",
     "output_type": "stream",
     "text": [
      " 3\n",
      " 3 5 9\n"
     ]
    },
    {
     "name": "stdout",
     "output_type": "stream",
     "text": [
      "-8\n"
     ]
    },
    {
     "name": "stdin",
     "output_type": "stream",
     "text": [
      " 5\n",
      " 1 1 3 1 2\n"
     ]
    },
    {
     "name": "stdout",
     "output_type": "stream",
     "text": [
      "3\n"
     ]
    }
   ],
   "source": [
    "#11501\n",
    "#주식\n",
    "t = int(input())\n",
    "for _ in range(t):\n",
    "    n = int(input())\n",
    "    arr = list(map(int, input().split()))\n",
    "    cnt = 0 #주식 보유 개수\n",
    "    answer = 0 #최대 이익\n",
    "    for i in range(len(arr)-1):\n",
    "        if arr[i]<=arr[i+1]:\n",
    "            cnt+=1\n",
    "            answer-=arr[i]\n",
    "        else:\n",
    "            answer+=cnt * arr[i]\n",
    "            cnt = 0\n",
    "    print(answer)"
   ]
  },
  {
   "cell_type": "code",
   "execution_count": 6,
   "id": "14104830-8eb2-40ce-b677-8f63740fcc61",
   "metadata": {},
   "outputs": [],
   "source": [
    "#1744\n",
    "#수 묶기"
   ]
  },
  {
   "cell_type": "code",
   "execution_count": 23,
   "id": "e7c2313c-206f-4f3a-aa58-4e70156ff7d3",
   "metadata": {},
   "outputs": [
    {
     "name": "stdin",
     "output_type": "stream",
     "text": [
      " 4\n",
      " 5\n",
      " 3\n",
      " 7\n",
      " 5\n"
     ]
    },
    {
     "name": "stdout",
     "output_type": "stream",
     "text": [
      "[5, 4, 3, 2]\n",
      "6\n"
     ]
    }
   ],
   "source": [
    "##### 2847\n",
    "#게임을 만든 동준이\n",
    "'''\n",
    "reverse ->앞에서부터 내림차순\n",
    "'''\n",
    "n = int(input())\n",
    "arr = [int(input()) for _ in range(n)]\n",
    "arr.reverse()\n",
    "answer = 0\n",
    "for i in range(len(arr)-1):\n",
    "    if arr[i]<=arr[i+1]:\n",
    "        answer+=arr[i+1]-arr[i]+1\n",
    "        arr[i+1] = arr[i]-1\n",
    "        \n",
    "# print(arr)\n",
    "print(answer)"
   ]
  },
  {
   "cell_type": "code",
   "execution_count": 41,
   "id": "87b7daed-7e0c-4922-b727-eb657ebf9df4",
   "metadata": {},
   "outputs": [
    {
     "name": "stdin",
     "output_type": "stream",
     "text": [
      " 11001100110011000001\n"
     ]
    },
    {
     "name": "stdout",
     "output_type": "stream",
     "text": [
      "4\n"
     ]
    }
   ],
   "source": [
    "#1439\n",
    "#뒤집기\n",
    "'''\n",
    "0000 or 1111만들기\n",
    "'''\n",
    "\n",
    "n = input()\n",
    "arr0 = n.split('0')\n",
    "arr1 = n.split('1')\n",
    "num0 = len(arr0)-arr0.count('')\n",
    "num1 = len(arr1)-arr1.count('')\n",
    "print(min(num1, num0))"
   ]
  },
  {
   "cell_type": "code",
   "execution_count": 8,
   "id": "ff5c36c0-5713-437d-9b05-73cccf266716",
   "metadata": {},
   "outputs": [
    {
     "name": "stdin",
     "output_type": "stream",
     "text": [
      " 3\n",
      " 1 3\n",
      " 2 4\n",
      " 3 5\n"
     ]
    },
    {
     "name": "stdout",
     "output_type": "stream",
     "text": [
      "2\n"
     ]
    }
   ],
   "source": [
    "# 11000\n",
    "#강의실 배정\n",
    "n = int(input())\n"
   ]
  },
  {
   "cell_type": "code",
   "execution_count": null,
   "id": "0c3ead42-3620-497c-9dfd-4e3082153a2e",
   "metadata": {},
   "outputs": [],
   "source": [
    "stocks = [\"Samsung\", \"SK\", \"LG\"]\n",
    "for company in stocks:\n",
    "    print(\"%s: Buy 10\" % company)"
   ]
  },
  {
   "cell_type": "code",
   "execution_count": 47,
   "id": "401f93b4-dabd-4af4-95b5-2061d8146723",
   "metadata": {},
   "outputs": [
    {
     "name": "stdin",
     "output_type": "stream",
     "text": [
      " 4 2\n",
      " 4 2 3 1\n"
     ]
    },
    {
     "name": "stdout",
     "output_type": "stream",
     "text": [
      "[1, 2, 3, 4]\n",
      "19\n"
     ]
    }
   ],
   "source": [
    "#15903\n",
    "#카드 합체 놀이\n",
    "'''\n",
    "ai, aj = ai+aj, ai+aj\n",
    "m번->sum(n)이 최소\n",
    "'''\n",
    "n, m = map(int, input().split())\n",
    "arr = list(map(int, input().split()))\n",
    "arr = sorted(arr)\n",
    "for _ in range(m):\n",
    "    arr.sort()\n",
    "    arr[0], arr[1] = arr[0]+arr[1], arr[0]+arr[1]\n",
    "print(sum(arr))"
   ]
  },
  {
   "cell_type": "code",
   "execution_count": 11,
   "id": "d1abff16-a03b-4934-9a95-d29791deb7b6",
   "metadata": {},
   "outputs": [],
   "source": [
    "#2170\n",
    "#선 긋기"
   ]
  },
  {
   "cell_type": "code",
   "execution_count": 12,
   "id": "6372b5db-a926-43e4-beaa-d7a12afb8dff",
   "metadata": {},
   "outputs": [],
   "source": [
    "#1700\n",
    "#멀티탭 스케줄링"
   ]
  },
  {
   "cell_type": "code",
   "execution_count": 13,
   "id": "16803cc4-b0d3-4b4d-ac52-e2d341a50f63",
   "metadata": {},
   "outputs": [],
   "source": [
    "#8980\n",
    "#택배"
   ]
  },
  {
   "cell_type": "code",
   "execution_count": 14,
   "id": "b847d35e-463a-4d4f-a6da-57404a961cf1",
   "metadata": {},
   "outputs": [],
   "source": [
    "#7570\n",
    "#줄세우기"
   ]
  }
 ],
 "metadata": {
  "kernelspec": {
   "display_name": "Python 3",
   "language": "python",
   "name": "python3"
  },
  "language_info": {
   "codemirror_mode": {
    "name": "ipython",
    "version": 3
   },
   "file_extension": ".py",
   "mimetype": "text/x-python",
   "name": "python",
   "nbconvert_exporter": "python",
   "pygments_lexer": "ipython3",
   "version": "3.8.8"
  }
 },
 "nbformat": 4,
 "nbformat_minor": 5
}
