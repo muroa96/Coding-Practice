{
 "cells": [
  {
   "cell_type": "code",
   "execution_count": 8,
   "id": "cd096a9c-cd79-4f6f-91b8-32690fbddbbc",
   "metadata": {},
   "outputs": [
    {
     "name": "stdin",
     "output_type": "stream",
     "text": [
      " 10 4790\n",
      " 1\n",
      " 5\n",
      " 10\n",
      " 50\n",
      " 100\n",
      " 500\n",
      " 1000\n",
      " 5000\n",
      " 1000\n",
      " 50000\n"
     ]
    },
    {
     "name": "stdout",
     "output_type": "stream",
     "text": [
      "12\n"
     ]
    }
   ],
   "source": [
    "#11047\n",
    "#동전 0\n",
    "n, k = map(int, input().split())\n",
    "coin = sorted([int(input()) for _ in range(n)], reverse = True)\n",
    "answer = 0\n",
    "\n",
    "for i in coin:\n",
    "    if k<=0:\n",
    "        break\n",
    "    else:\n",
    "        if i<=k:\n",
    "            n = k//i\n",
    "            k -=n*i\n",
    "            if k>=0:\n",
    "                answer+=n\n",
    "print(answer)"
   ]
  },
  {
   "cell_type": "code",
   "execution_count": 9,
   "id": "59a92a99-cc29-486b-9314-bb5907f01eb4",
   "metadata": {},
   "outputs": [
    {
     "name": "stdin",
     "output_type": "stream",
     "text": [
      " 5\n",
      " 3 1 4 3 2\n"
     ]
    },
    {
     "name": "stdout",
     "output_type": "stream",
     "text": [
      "32\n"
     ]
    }
   ],
   "source": [
    "#11399\n",
    "#ATM\n",
    "n = int(input())\n",
    "arr = sorted(list(map(int, input().split())))\n",
    "answer = 0\n",
    "for i in range(len(arr)):\n",
    "    answer+=sum(arr[:i+1])\n",
    "print(answer)"
   ]
  },
  {
   "cell_type": "code",
   "execution_count": 21,
   "id": "f2ffc879-9a58-4afa-a7a6-9a4718a610ed",
   "metadata": {},
   "outputs": [
    {
     "name": "stdin",
     "output_type": "stream",
     "text": [
      " 5\n",
      " 10\n",
      " 20\n",
      " 50\n",
      " 90\n",
      " 135\n"
     ]
    },
    {
     "name": "stdout",
     "output_type": "stream",
     "text": [
      "[180]\n"
     ]
    }
   ],
   "source": [
    "#2217\n",
    "#로프\n",
    "n = int(input())\n",
    "arr = sorted([int(input()) for _ in range(n)])\n",
    "num = [i for i in range(len(arr),0,-1)]\n",
    "stack = []\n",
    "for i in range(len(arr)):\n",
    "    weight= arr[i]*num[i]\n",
    "    if len(stack)==0:\n",
    "        stack.append(weight)\n",
    "    else:\n",
    "        if weight>stack[-1]:\n",
    "            stack.pop()\n",
    "            stack.append(weight)\n",
    "print(stack[0])"
   ]
  },
  {
   "cell_type": "code",
   "execution_count": null,
   "id": "fb26d4bf-7b60-4bbe-a04d-f40c532a9e00",
   "metadata": {},
   "outputs": [],
   "source": [
    "#11000\n",
    "#강의실 배정\n",
    "n = 3\n",
    "classes = [map(int, input().split()) for _ in range(n)]\n",
    "classes = sorted(classes, key = lambda(x:(x[0],x[1])))\n",
    "13 35 57\n",
    "24 58\n",
    "end = classes[0][1]\n",
    "while True:\n",
    "    if len(classes)==0:\n",
    "        break\n",
    "    end = classes[0][1]\n",
    "    for i in classes:\n",
    "        if "
   ]
  },
  {
   "cell_type": "code",
   "execution_count": 33,
   "id": "eeae89d5-7826-4052-a3bb-92692e73feb3",
   "metadata": {},
   "outputs": [
    {
     "name": "stdin",
     "output_type": "stream",
     "text": [
      " 5\n",
      " 10 9 10 9 10\n",
      " 7 2\n"
     ]
    },
    {
     "name": "stdout",
     "output_type": "stream",
     "text": [
      "13\n"
     ]
    }
   ],
   "source": [
    "#13458\n",
    "#시험 감독\n",
    "import math\n",
    "n = int(input())\n",
    "classes= list(map(int, input().split()))\n",
    "b, c = map(int, input().split())\n",
    "\n",
    "num = len(classes)\n",
    "classes = [i-b for i in classes] #총감독\n",
    "for i in classes:\n",
    "    num+=int(math.ceil(i/c))\n",
    "print(num)"
   ]
  },
  {
   "cell_type": "code",
   "execution_count": 89,
   "id": "dc079cbc-628e-4962-bb06-9b62cddb9dc5",
   "metadata": {},
   "outputs": [
    {
     "name": "stdin",
     "output_type": "stream",
     "text": [
      " 1\n",
      " 7\n",
      " 3 6\n",
      " 7 3\n",
      " 4 2\n",
      " 1 4\n",
      " 5 7\n",
      " 2 5\n",
      " 6 1\n"
     ]
    },
    {
     "name": "stdout",
     "output_type": "stream",
     "text": [
      "3\n"
     ]
    }
   ],
   "source": [
    "#1946\n",
    "#신입 사원\n",
    "testcase = int(input())\n",
    "for _ in range(testcase):\n",
    "    n = int(input())\n",
    "    arr = [list(map(int, input().split())) for _ in range(n)]\n",
    "    arr.sort(key = lambda x:x[0])\n",
    "    answer = len(arr)\n",
    "    for i in range(1,len(arr)):\n",
    "        if arr[i][1]>arr[i-1][1]:\n",
    "            answer-=1\n",
    "    print(answer)"
   ]
  },
  {
   "cell_type": "code",
   "execution_count": 97,
   "id": "d6713987-8cc7-4f43-abd8-0a121fde2e08",
   "metadata": {},
   "outputs": [
    {
     "name": "stdout",
     "output_type": "stream",
     "text": [
      "3\n"
     ]
    }
   ],
   "source": [
    "# arr = [[1,7],[7,1],[2,3],[3,4],[4,6],[5,2],[6,5]]\n",
    "# arr = [[3,2],[1,4],[4,1],[2,3],[5,5]]\n",
    "arr = [[3,6],[7,3],[4,2],[1,4],[5,7],[2,5],[6,1]]\n",
    "arr.sort(key = lambda x:x[0])\n",
    "answer = len(arr)\n",
    "for i in range(1,len(arr)):\n",
    "    if arr[i][1]>arr[i-1][1]:\n",
    "        answer-=1\n",
    "print(answer)"
   ]
  }
 ],
 "metadata": {
  "kernelspec": {
   "display_name": "Python 3",
   "language": "python",
   "name": "python3"
  },
  "language_info": {
   "codemirror_mode": {
    "name": "ipython",
    "version": 3
   },
   "file_extension": ".py",
   "mimetype": "text/x-python",
   "name": "python",
   "nbconvert_exporter": "python",
   "pygments_lexer": "ipython3",
   "version": "3.8.8"
  }
 },
 "nbformat": 4,
 "nbformat_minor": 5
}
