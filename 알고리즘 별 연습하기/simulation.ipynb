{
 "cells": [
  {
   "cell_type": "code",
   "execution_count": 15,
   "id": "a81cfe2d-a57f-4d59-9944-b659a873e023",
   "metadata": {
    "tags": []
   },
   "outputs": [
    {
     "ename": "SyntaxError",
     "evalue": "invalid syntax (<ipython-input-15-d76c0317a272>, line 15)",
     "output_type": "error",
     "traceback": [
      "\u001b[1;36m  File \u001b[1;32m\"<ipython-input-15-d76c0317a272>\"\u001b[1;36m, line \u001b[1;32m15\u001b[0m\n\u001b[1;33m    print(cases)\u001b[0m\n\u001b[1;37m    ^\u001b[0m\n\u001b[1;31mSyntaxError\u001b[0m\u001b[1;31m:\u001b[0m invalid syntax\n"
     ]
    }
   ],
   "source": [
    "#15683\n",
    "#감시\n",
    "# n, m = map(int, input().split())\n",
    "# arr=  [list(map(int, input().split()))for _ in range(n)]\n",
    "from itertools import permutations\n",
    "n, m = 6, 6\n",
    "arr = [[0, 0, 0, 0, 0, 0], [0, 2, 0, 0, 0, 0], [0, 0, 0, 0, 6, 0], [0, 6, 0, 0, 2, 0], [0, 0, 0, 0, 0, 0], [0, 0, 0, 0, 0, 5]]\n",
    "cam = []\n",
    "for i in range(n):\n",
    "    for j in range(m):\n",
    "        if 0<arr[i][j]<=5:\n",
    "            cam.append((i,j))\n",
    "x = [i for i in range(4)]\n",
    "cases = list(permutations(x, 5)\n",
    "print(cases)\n",
    "#1,2,3,4"
   ]
  },
  {
   "cell_type": "code",
   "execution_count": null,
   "id": "fda3ac3d-ebeb-4667-ad21-31e97182919b",
   "metadata": {},
   "outputs": [],
   "source": []
  }
 ],
 "metadata": {
  "kernelspec": {
   "display_name": "Python 3",
   "language": "python",
   "name": "python3"
  },
  "language_info": {
   "codemirror_mode": {
    "name": "ipython",
    "version": 3
   },
   "file_extension": ".py",
   "mimetype": "text/x-python",
   "name": "python",
   "nbconvert_exporter": "python",
   "pygments_lexer": "ipython3",
   "version": "3.8.8"
  }
 },
 "nbformat": 4,
 "nbformat_minor": 5
}
