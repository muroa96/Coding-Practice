{
 "cells": [
  {
   "cell_type": "code",
   "execution_count": null,
   "id": "3bc82a43-b684-4227-9865-451c4bd541c5",
   "metadata": {},
   "outputs": [],
   "source": [
    "#프로그래머스\n",
    "#k진수에서 소수 개수 구하기\n",
    "\n",
    "# 소수 구하는 방법\n",
    "def convert_iter(num, base):\n",
    "    power = 0\n",
    "    tmp = ''\n",
    "    while num:\n",
    "        tmp = str(num%base) + tmp\n",
    "        num //= base\n",
    "    return tmp"
   ]
  }
 ],
 "metadata": {
  "kernelspec": {
   "display_name": "Python 3",
   "language": "python",
   "name": "python3"
  },
  "language_info": {
   "codemirror_mode": {
    "name": "ipython",
    "version": 3
   },
   "file_extension": ".py",
   "mimetype": "text/x-python",
   "name": "python",
   "nbconvert_exporter": "python",
   "pygments_lexer": "ipython3",
   "version": "3.8.8"
  }
 },
 "nbformat": 4,
 "nbformat_minor": 5
}
