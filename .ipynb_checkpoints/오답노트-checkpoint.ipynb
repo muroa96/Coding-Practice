{
 "cells": [
  {
   "cell_type": "code",
   "execution_count": 22,
   "id": "e8f68afc-1a6d-49c4-b9c7-a61f318cb7e2",
   "metadata": {},
   "outputs": [],
   "source": [
    "#10진수 -> n<=10진수 변환\n",
    "def convert_iter(num, base):\n",
    "    power = 0\n",
    "    tmp = ''\n",
    "    while num:\n",
    "        tmp = str(num%base) + tmp\n",
    "        num //= base\n",
    "    return tmp"
   ]
  },
  {
   "cell_type": "code",
   "execution_count": 1,
   "id": "3bc82a43-b684-4227-9865-451c4bd541c5",
   "metadata": {},
   "outputs": [
    {
     "name": "stdout",
     "output_type": "stream",
     "text": [
      "[2, 3, 5, 7, 11]\n"
     ]
    }
   ],
   "source": [
    "# 소수 판별\n",
    "import math\n",
    "def primenumber(x):\n",
    "    for i in range (2, int(math.sqrt(x) + 1):\t# 2부터 x의 제곱근까지의 숫자\n",
    "    \tif x % i == 0:\t\t# 나눠떨어지는 숫자가 있으면 소수가 아님\n",
    "        \treturn False\n",
    "    return True\t\n",
    "\n",
    "#에라토스테네스의 체(n까지 소수 구하기)\n",
    "def prime(n):\n",
    "    sieve = [True] * (n+1)\n",
    "    m = int(n**0.5)\n",
    "    for i in range(2,m+1):\n",
    "        if sieve[i]:\n",
    "            for j in range(i+i,n+1,i):\n",
    "                sieve[j] = False\n",
    "    return [i for i in range(2,n+1) if sieve[i]]\n",
    "\n",
    "print(prime(11))"
   ]
  },
  {
   "cell_type": "code",
   "execution_count": null,
   "id": "f4e00e36-0e1c-402b-baeb-7f0618072681",
   "metadata": {},
   "outputs": [],
   "source": [
    "#2차원 배열 회전하기(90도씩)\n",
    "def rotate(tgt_list):\n",
    "    return [list(reversed(elem)) for elem in zip(*tgt_list)]\n",
    "arr = [[1,0,0],[0,0,0],[0,0,0]]\n",
    "arr = rotate(arr)\n",
    "arr = rotate(arr)\n",
    "arr = rotate(arr)\n",
    "arr = rotate(arr)\n",
    "print(arr)"
   ]
  },
  {
   "cell_type": "code",
   "execution_count": 5,
   "id": "b049485f-4b49-4e88-bd18-b0fede19068b",
   "metadata": {},
   "outputs": [
    {
     "name": "stdout",
     "output_type": "stream",
     "text": [
      "17\n"
     ]
    }
   ],
   "source": [
    "#eval 함수\n",
    "x = 2\n",
    "y = eval('x**4+1')\n",
    "print(y)"
   ]
  },
  {
   "cell_type": "code",
   "execution_count": 11,
   "id": "e1f11060-de09-4e44-a05d-12ee4a9831f5",
   "metadata": {},
   "outputs": [
    {
     "name": "stdout",
     "output_type": "stream",
     "text": [
      "[(1, 2), (1, 3), (2, 3)]\n",
      "[(1, 1), (1, 2), (1, 3), (2, 2), (2, 3), (3, 3)]\n",
      "[(1, 2), (1, 3), (2, 1), (2, 3), (3, 1), (3, 2)]\n",
      "[(1, 1), (1, 2), (1, 3), (2, 1), (2, 2), (2, 3), (3, 1), (3, 2), (3, 3)]\n"
     ]
    }
   ],
   "source": [
    "#순열 조합\n",
    "from itertools import combinations, combinations_with_replacement, permutations, product\n",
    "\n",
    "arr = [1,2,3]\n",
    "print(list(combinations(arr,2)))\n",
    "print(list(combinations_with_replacement(arr,2)))\n",
    "print(list(permutations(arr,2)))\n",
    "print(list(product(arr, repeat = 2)))"
   ]
  },
  {
   "cell_type": "code",
   "execution_count": 14,
   "id": "1e1544e9-1a01-40d7-8c02-91a4949857e2",
   "metadata": {},
   "outputs": [
    {
     "name": "stdout",
     "output_type": "stream",
     "text": [
      "DCBA\n",
      "[3, 2, 1]\n"
     ]
    }
   ],
   "source": [
    "#문자열 뒤집기\n",
    "st = 'ABCD'\n",
    "print(st[::-1])\n",
    "#리스트 뒤집기\n",
    "arr = [1,2,3]\n",
    "arr.reverse()\n",
    "print(arr)"
   ]
  },
  {
   "cell_type": "code",
   "execution_count": 15,
   "id": "c38900ca-0280-4026-918f-712033da1f22",
   "metadata": {},
   "outputs": [
    {
     "name": "stdout",
     "output_type": "stream",
     "text": [
      "dceav\n"
     ]
    }
   ],
   "source": [
    "#문자열 속 고육값 찾기\n",
    "my_string = \"aavvccccddddeee\"\n",
    "# converting the string to a set\n",
    "temp_set = set(my_string)\n",
    "\n",
    "# stitching set into a string using join\n",
    "new_string = ''.join(temp_set)\n",
    "\n",
    "print(new_string)"
   ]
  },
  {
   "cell_type": "code",
   "execution_count": 16,
   "id": "04713f89-db90-4715-9faa-33dedd18a486",
   "metadata": {},
   "outputs": [
    {
     "name": "stdout",
     "output_type": "stream",
     "text": [
      "['51', '66', '88', '5', '1', '6']\n",
      "['51', '+', '66', '-', '88', '%', '5', '+', '1', '*', '6']\n"
     ]
    }
   ],
   "source": [
    "#문자열 여러 구분자(split 여러번)\n",
    "import re\n",
    "test = '51+66-88%5+1*6'\n",
    "case1 = re.split('[-|+|%|*]',test)\n",
    "case2 = re.split('([-|+|%|*])',test)\n",
    "print(case1)\n",
    "print(case2)"
   ]
  },
  {
   "cell_type": "code",
   "execution_count": 17,
   "id": "31d7c04f-7c29-4fc2-93c3-46b7525e3eba",
   "metadata": {},
   "outputs": [
    {
     "name": "stdout",
     "output_type": "stream",
     "text": [
      "palindrome\n"
     ]
    }
   ],
   "source": [
    "#주어진 문자열이 거꾸로 읽어도 같은 문자열인지 판별(palindrome)\n",
    "my_string = \"abcba\"\n",
    "\n",
    "if my_string == my_string[::-1]:\n",
    "    print(\"palindrome\")\n",
    "else:\n",
    "    print(\"not palindrome\")\n",
    "    "
   ]
  },
  {
   "cell_type": "code",
   "execution_count": 18,
   "id": "2d5fcf05-3115-49ff-86e6-92f9ba836432",
   "metadata": {},
   "outputs": [
    {
     "name": "stdout",
     "output_type": "stream",
     "text": [
      "Counter({'d': 5, 'b': 3, 'a': 2, 'c': 1})\n",
      "3\n",
      "[('d', 5), ('b', 3)]\n"
     ]
    }
   ],
   "source": [
    "#리스트 속 요소의 개수 구하기\n",
    "from collections import Counter\n",
    "\n",
    "my_list = ['a','a','b','b','b','c','d','d','d','d','d']\n",
    "count = Counter(my_list) # defining a counter object\n",
    "\n",
    "print(count) # Of all elements\n",
    "# Counter({'d': 5, 'b': 3, 'a': 2, 'c': 1})\n",
    "\n",
    "print(count['b']) # of individual element\n",
    "# 3\n",
    "\n",
    "print(count.most_common(2)) # 가장 자주 나오는 요소(TOP n)\n",
    "# [('d', 5)]"
   ]
  },
  {
   "cell_type": "code",
   "execution_count": 19,
   "id": "926c8184-8dbf-46f5-b82d-c1345e1d9cc2",
   "metadata": {},
   "outputs": [],
   "source": [
    "#DFS, BFS\n",
    "def dfs(graph, v, visited):\n",
    "    # 현재 노드 방문 처리\n",
    "    visited[v] = True\n",
    "    print(v, end=' ')\n",
    "\n",
    "    # 현재 노드와 연결된 다른 노드를 재귀적으로 방문\n",
    "    for i in graph[v]:\n",
    "        if not visited[i]:\n",
    "            dfs(graph, i, visited)\n",
    "\n",
    "\n",
    "from collections import deque\n",
    "def bfs(graph, start, visited):\n",
    "    queue = deque([start])\n",
    "    # node visited\n",
    "    visited[start] = True\n",
    "\n",
    "    # loop till queue is empty\n",
    "    while queue:\n",
    "        # visted node 'v' \n",
    "        v = queue.popleft()\n",
    "        print(v, end=' ')\n",
    "\n",
    "        # v 노드에 연결된 노드들 투입 -> 방문 안한 노드만 queue에 추가\n",
    "        for i in graph[v]:\n",
    "            if not visited[i]:\n",
    "                queue.append(i)\n",
    "                visited[i] = True"
   ]
  },
  {
   "cell_type": "code",
   "execution_count": 21,
   "id": "96d60eb7-6ffc-4497-b2f3-9be20ffb847f",
   "metadata": {},
   "outputs": [
    {
     "name": "stdout",
     "output_type": "stream",
     "text": [
      "65\n"
     ]
    }
   ],
   "source": [
    "#이진 탐색\n",
    "n = 100\n",
    "target = 70\n",
    "array = [i for i in range(5,n)]\n",
    "array.sort() #반드시 정렬돼있어야함\n",
    "def binary_search(array, target, start, end):\n",
    "    while start <= end:\n",
    "        mid = (start + end) // 2\n",
    "        if array[mid] == target:\n",
    "            return mid\n",
    "        elif array[mid] > target:\n",
    "            end = mid -1\n",
    "        else:\n",
    "            start = mid +1\n",
    "    return None\n",
    "result = binary_search(array, target, 0, n - 1)\n",
    "print(result)"
   ]
  },
  {
   "cell_type": "code",
   "execution_count": null,
   "id": "283f3009-a89c-4e0e-9e78-20f1c69556f7",
   "metadata": {},
   "outputs": [],
   "source": []
  }
 ],
 "metadata": {
  "kernelspec": {
   "display_name": "Python 3",
   "language": "python",
   "name": "python3"
  },
  "language_info": {
   "codemirror_mode": {
    "name": "ipython",
    "version": 3
   },
   "file_extension": ".py",
   "mimetype": "text/x-python",
   "name": "python",
   "nbconvert_exporter": "python",
   "pygments_lexer": "ipython3",
   "version": "3.8.8"
  }
 },
 "nbformat": 4,
 "nbformat_minor": 5
}
