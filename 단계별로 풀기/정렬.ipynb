{
 "cells": [
  {
   "cell_type": "markdown",
   "id": "6b3b6f5f-ed74-4d85-b76a-be2d187897aa",
   "metadata": {},
   "source": [
    "시간 복잡도가 O(n**2)인 정렬 알고리즘\n",
    "1. 버블 정렬(Bubble Sort)\n",
    "2. 선택 정렬(Selection Sort)\n",
    "3. 삽입 정렬(Insertion Sort)"
   ]
  },
  {
   "cell_type": "code",
   "execution_count": 40,
   "id": "ff5935ab-9b35-47c7-9cc5-8dd8dc3c4cd9",
   "metadata": {},
   "outputs": [],
   "source": [
    "##### 2750\n",
    "#수 정렬하기\n",
    "#1. 버블정렬\n",
    "n = int(input())\n",
    "arr = [int(input()) for _ in range(n)]\n",
    "for i in range(n-1,-1,-1):\n",
    "    for j in range(i):\n",
    "        if arr[j]>arr[j+1]:\n",
    "            arr[j], arr[j+1] = arr[j+1], arr[j]\n",
    "for i in range(n):\n",
    "    print(arr[i])"
   ]
  },
  {
   "cell_type": "code",
   "execution_count": 40,
   "id": "3dc70fb4-4ec1-48e8-a331-d4efc5d82944",
   "metadata": {},
   "outputs": [],
   "source": [
    "#2. 선택정렬\n",
    "n = int(input())\n",
    "arr = [int(input()) for _ in range(n)]\n",
    "for i in range(n-1):\n",
    "    mini = min(arr[i+1:])\n",
    "    j = arr.index(mini)\n",
    "    if arr[i]>=mini:\n",
    "        arr[i], arr[j] = arr[j], arr[i]\n",
    "for i in range(n):\n",
    "    print(arr[i])"
   ]
  },
  {
   "cell_type": "code",
   "execution_count": 50,
   "id": "85044a5b-a9e4-496e-81ec-b955aab70753",
   "metadata": {},
   "outputs": [
    {
     "name": "stdin",
     "output_type": "stream",
     "text": [
      " 5\n",
      " 2\n",
      " 3\n",
      " 5\n",
      " 1\n",
      " 4\n"
     ]
    },
    {
     "name": "stdout",
     "output_type": "stream",
     "text": [
      "1\n",
      "2\n",
      "3\n",
      "4\n",
      "5\n"
     ]
    }
   ],
   "source": [
    "#2750\n",
    "#수 정렬하기\n",
    "#3. 삽입정렬\n",
    "n = int(input())\n",
    "arr = [int(input()) for _ in range(n)]\n",
    "for end in range(1,len(arr)):\n",
    "    for i in range(end, 0, -1):\n",
    "        if arr[i-1]>arr[i]:\n",
    "            arr[i-1], arr[i] = arr[i], arr[i-1]\n",
    "for i in range(n):\n",
    "    print(arr[i])"
   ]
  },
  {
   "cell_type": "code",
   "execution_count": 7,
   "id": "44e579c8-611d-4262-860d-7798c89eb8fb",
   "metadata": {},
   "outputs": [
    {
     "name": "stdin",
     "output_type": "stream",
     "text": [
      " 5\n",
      " 5\n",
      " 4\n",
      " 2\n",
      " 3\n",
      " 1\n"
     ]
    },
    {
     "name": "stdout",
     "output_type": "stream",
     "text": [
      "1\n",
      "2\n",
      "3\n",
      "4\n",
      "5\n"
     ]
    }
   ],
   "source": [
    "# 2751\n",
    "#수 정렬하기 2\n",
    "n = int(input())\n",
    "arr = [int(input()) for _ in range(n)]\n",
    "for i in sorted(arr):\n",
    "    print(i)"
   ]
  },
  {
   "cell_type": "code",
   "execution_count": null,
   "id": "e1df0d13-d158-4d0f-9999-e506da111b75",
   "metadata": {},
   "outputs": [],
   "source": [
    "#10989\n",
    "#수 정렬하기 3 (카운팅 정렬)\n",
    "import sys\n",
    "\n",
    "n = int(sys.stdin.readline())\n",
    "num_list = [0] * 10001\n",
    "\n",
    "for _ in range(n):\n",
    "    num_list[int(sys.stdin.readline())] += 1\n",
    "\n",
    "for i in range(10001):\n",
    "    if num_list[i] != 0:\n",
    "        for j in range(num_list[i]):\n",
    "            print(i)"
   ]
  },
  {
   "cell_type": "code",
   "execution_count": 198,
   "id": "6aa148b7-8fec-488b-acfd-37149195768e",
   "metadata": {},
   "outputs": [
    {
     "name": "stdin",
     "output_type": "stream",
     "text": [
      " 5\n",
      " 1\n",
      " 1\n",
      " 1\n",
      " 1\n",
      " 1\n"
     ]
    },
    {
     "name": "stdout",
     "output_type": "stream",
     "text": [
      "1\n",
      "1\n",
      "1\n",
      "0\n"
     ]
    }
   ],
   "source": [
    "#2108\n",
    "#통계학\n",
    "#test case\n",
    "from collections import Counter\n",
    "n = int(input())\n",
    "arr = [int(input()) for _ in range(n)]\n",
    "#1. 산술평균\n",
    "sum_arr = sum(arr)\n",
    "print(round(sum_arr/n))\n",
    "#2. 중앙값\n",
    "arr2 = sorted(arr)\n",
    "print(arr2[int((n-1)/2)])\n",
    "#3. 최빈값\n",
    "counter = Counter(arr2)\n",
    "cnt = [counter[i] for i in arr2]\n",
    "arr3 = [[i, counter[i]] for i in arr2]\n",
    "arr3.sort(key = lambda x:(x[1],-x[0]), reverse = True)\n",
    "if len(counter)==1:\n",
    "    max_cnt = 0\n",
    "else:\n",
    "    max_cnt = arr3[0][1]\n",
    "print(arr3[0][0] if arr3[0][1]!=arr3[max_cnt][1] else arr3[max_cnt][0])\n",
    "#4. 범위\n",
    "print(arr2[-1]-arr2[0])\n"
   ]
  },
  {
   "cell_type": "code",
   "execution_count": 98,
   "id": "554a0a6c-c2db-43df-a318-4220d4679907",
   "metadata": {},
   "outputs": [
    {
     "name": "stdin",
     "output_type": "stream",
     "text": [
      " 2143\n"
     ]
    },
    {
     "name": "stdout",
     "output_type": "stream",
     "text": [
      "4321\n"
     ]
    }
   ],
   "source": [
    "#1427\n",
    "#소트인사이드\n",
    "num = int(input())\n",
    "arr = [int(i) for i in str(num)]\n",
    "arr.sort(reverse = True)\n",
    "answer = ''\n",
    "for i in arr:\n",
    "    answer+=str(i)\n",
    "print(int(answer))"
   ]
  },
  {
   "cell_type": "code",
   "execution_count": 102,
   "id": "5acc785f-c6d1-4764-b964-3a6c53b3eb56",
   "metadata": {},
   "outputs": [
    {
     "name": "stdin",
     "output_type": "stream",
     "text": [
      " 5\n",
      " 3 4\n",
      " 1 1\n",
      " 1 -1\n",
      " 2 2\n",
      " 3 3\n"
     ]
    },
    {
     "name": "stdout",
     "output_type": "stream",
     "text": [
      "1 -1\n",
      "1 1\n",
      "2 2\n",
      "3 3\n",
      "3 4\n"
     ]
    }
   ],
   "source": [
    "#11650\n",
    "#좌표 정렬하기\n",
    "n = int(input())\n",
    "arr = [list(map(int, input().split())) for _ in range(n)]\n",
    "arr.sort(key = lambda x:(x[0],x[1]))\n",
    "for i in arr:\n",
    "    print(i[0], i[1])"
   ]
  },
  {
   "cell_type": "code",
   "execution_count": 103,
   "id": "d26c8494-181e-4afe-8760-80ca903bb293",
   "metadata": {},
   "outputs": [
    {
     "name": "stdin",
     "output_type": "stream",
     "text": [
      " 5\n",
      " 0 4\n",
      " 1 2\n",
      " 1 -1\n",
      " 2 2\n",
      " 3 3\n"
     ]
    },
    {
     "name": "stdout",
     "output_type": "stream",
     "text": [
      "1 -1\n",
      "1 2\n",
      "2 2\n",
      "3 3\n",
      "0 4\n"
     ]
    }
   ],
   "source": [
    "#11651\n",
    "#좌표 정렬하기 2\n",
    "n = int(input())\n",
    "arr = [list(map(int, input().split())) for _ in range(n)]\n",
    "arr.sort(key = lambda x:(x[1],x[0]))\n",
    "for i in arr:\n",
    "    print(i[0], i[1])"
   ]
  },
  {
   "cell_type": "code",
   "execution_count": 62,
   "id": "58ef8b9a-210b-4f09-b2fd-97c73b0db8e8",
   "metadata": {},
   "outputs": [
    {
     "name": "stdout",
     "output_type": "stream",
     "text": [
      "i\n",
      "im\n",
      "it\n",
      "no\n",
      "but\n",
      "more\n",
      "wait\n",
      "wont\n",
      "yours\n",
      "cannot\n",
      "hesitate\n"
     ]
    }
   ],
   "source": [
    "#1181\n",
    "#단어 정렬\n",
    "n = int(input())\n",
    "arr = [input() for _ in range(n)]\n",
    "#testcase\n",
    "# n = 13\n",
    "# arr = ['but', 'i', 'wont', 'hesitate', 'no', 'more', 'no', 'more',\n",
    "#        'it', 'cannot', 'wait', 'im', 'yours']\n",
    "arr = list(set(arr))\n",
    "arr.sort(key = lambda x:(len(x),x))\n",
    "for i in arr:\n",
    "    print(i)"
   ]
  },
  {
   "cell_type": "code",
   "execution_count": 112,
   "id": "77f79d2a-741b-40be-96e6-b53e98ede543",
   "metadata": {},
   "outputs": [
    {
     "name": "stdin",
     "output_type": "stream",
     "text": [
      " 3\n",
      " 21 j\n",
      " 21 d\n",
      " 20 s\n"
     ]
    },
    {
     "name": "stdout",
     "output_type": "stream",
     "text": [
      "20 s\n",
      "21 j\n",
      "21 d\n"
     ]
    }
   ],
   "source": [
    "#10814\n",
    "#나이순 정렬\n",
    "n = int(input())\n",
    "arr = [list(input().split()) for _ in range(n)]\n",
    "ans = sorted(arr, key = lambda x:int(x[0]))\n",
    "for i in ans:\n",
    "    print(int(i[0]), i[1])"
   ]
  },
  {
   "cell_type": "code",
   "execution_count": 130,
   "id": "ece04d0b-9777-46a8-b968-74e8d862c1db",
   "metadata": {},
   "outputs": [
    {
     "name": "stdout",
     "output_type": "stream",
     "text": [
      "2 3 0 3 1 "
     ]
    }
   ],
   "source": [
    "#18870\n",
    "#좌표 압축\n",
    "# n = int(input())\n",
    "# arr = list(map(int, input().split()))\n",
    "arr = [2,4,-10,4,-9]\n",
    "ans = sorted(list(set(arr)))\n",
    "dic = {ans[i] : i for i in range(len(ans))}\n",
    "for i in arr:\n",
    "    print(dic[i],end =' ')"
   ]
  }
 ],
 "metadata": {
  "kernelspec": {
   "display_name": "Python 3",
   "language": "python",
   "name": "python3"
  },
  "language_info": {
   "codemirror_mode": {
    "name": "ipython",
    "version": 3
   },
   "file_extension": ".py",
   "mimetype": "text/x-python",
   "name": "python",
   "nbconvert_exporter": "python",
   "pygments_lexer": "ipython3",
   "version": "3.8.8"
  }
 },
 "nbformat": 4,
 "nbformat_minor": 5
}
