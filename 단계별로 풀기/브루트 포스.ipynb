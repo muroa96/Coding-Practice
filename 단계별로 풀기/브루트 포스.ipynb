{
 "cells": [
  {
   "cell_type": "code",
   "execution_count": 11,
   "id": "b492476a-0634-48c2-9f3e-8148d51c5bee",
   "metadata": {},
   "outputs": [
    {
     "name": "stdin",
     "output_type": "stream",
     "text": [
      " 5 500\n",
      " 93 181 245 214 315 36 185 138 216 295\n"
     ]
    },
    {
     "name": "stdout",
     "output_type": "stream",
     "text": [
      "497\n"
     ]
    }
   ],
   "source": [
    "#2798 \n",
    "#블랙잭\n",
    "from itertools import permutations\n",
    "n, m = map(int, input().split())\n",
    "num = list(map(int, input().split()))\n",
    "num.sort()\n",
    "\n",
    "ls = list(permutations(num, 3))\n",
    "\n",
    "answer = [sum(ls[i]) for i in range(len(ls)) if sum(ls[i])<=m]\n",
    "\n",
    "print(max(answer))"
   ]
  },
  {
   "cell_type": "code",
   "execution_count": 31,
   "id": "6c799e39-831c-4e56-b3ac-6787b27230cf",
   "metadata": {},
   "outputs": [
    {
     "name": "stdin",
     "output_type": "stream",
     "text": [
      " 216\n"
     ]
    },
    {
     "name": "stdout",
     "output_type": "stream",
     "text": [
      "198\n"
     ]
    }
   ],
   "source": [
    "#2231\n",
    "#분해합\n",
    "answer = 0\n",
    "n = int(input())\n",
    "for i in range(n):\n",
    "    arr = [int(j) for j in str(i)]\n",
    "    if sum(arr)+i==n:\n",
    "        answer+=i\n",
    "        break\n",
    "print(answer)"
   ]
  },
  {
   "cell_type": "code",
   "execution_count": 36,
   "id": "3f133d3c-b12c-4286-bd25-677c1f14770c",
   "metadata": {},
   "outputs": [
    {
     "name": "stdin",
     "output_type": "stream",
     "text": [
      " 5\n",
      " 55 185\n",
      " 58 183\n",
      " 88 186\n",
      " 60 175\n",
      " 46 155\n"
     ]
    },
    {
     "name": "stdout",
     "output_type": "stream",
     "text": [
      "2 2 1 2 5 "
     ]
    }
   ],
   "source": [
    "#7568\n",
    "#덩치\n",
    "# x>p and y>q\n",
    "n = int(input())\n",
    "size = [list(map(int, input().split())) for _ in range(n)]\n",
    "\n",
    "answer = []\n",
    "for i in size:\n",
    "    cnt = 1\n",
    "    for j in size:\n",
    "        if j[0]>i[0] and j[1]>i[1]: #나보다 덩치가 큰게 있는경우\n",
    "            cnt+=1\n",
    "    answer.append(cnt)\n",
    "for an in answer:\n",
    "    print(an, end = ' ')#일렬로 출력"
   ]
  },
  {
   "cell_type": "code",
   "execution_count": 33,
   "id": "cebd48cb-3361-4ae2-b36d-74d075681e83",
   "metadata": {},
   "outputs": [
    {
     "name": "stdin",
     "output_type": "stream",
     "text": [
      " 9 23\n",
      " BBBBBBBBBBBBBBBBBBBBBBB\n",
      " BBBBBBBBBBBBBBBBBBBBBBB\n",
      " BBBBBBBBBBBBBBBBBBBBBBB\n",
      " BBBBBBBBBBBBBBBBBBBBBBB\n",
      " BBBBBBBBBBBBBBBBBBBBBBB\n",
      " BBBBBBBBBBBBBBBBBBBBBBB\n",
      " BBBBBBBBBBBBBBBBBBBBBBB\n",
      " BBBBBBBBBBBBBBBBBBBBBBB\n",
      " BBBBBBBBBBBBBBBBBBBBBBW\n"
     ]
    },
    {
     "name": "stdout",
     "output_type": "stream",
     "text": [
      "31\n"
     ]
    }
   ],
   "source": [
    "#1018\n",
    "#체스판 다시 칠하기\n",
    "n, m = map(int, input().split())\n",
    "board = [input() for _ in range(n)] #보드\n",
    "\n",
    "black_start = 'BWBWBWBWWBWBWBWB'*4\n",
    "white_start = 'WBWBWBWBBWBWBWBW'*4\n",
    "\n",
    "# test\n",
    "# board = ['BBBBBBBBWBWBW',\n",
    "#          'BBBBBBBBBWBWB',\n",
    "#          'BBBBBBBBWBWBW',\n",
    "#          'BBBBBBBBBWBWB',\n",
    "#          'BBBBBBBBWBWBW',\n",
    "#          'BBBBBBBBBWBWB',\n",
    "#          'BBBBBBBBWBWBW',\n",
    "#          'BBBBBBBBBWBWB',\n",
    "#          'WWWWWWWWWWBWB',\n",
    "#          'WWWWWWWWWWBWB']\n",
    "def howmany(words, black_start, white_start):\n",
    "    black = 0\n",
    "    white = 0\n",
    "    for i in range(len(words)):\n",
    "        if words[i]!= black_start[i]:\n",
    "            black+=1\n",
    "        if words[i]!= white_start[i]:\n",
    "            white +=1\n",
    "    return(min(black, white))\n",
    "    \n",
    "\n",
    "# board[0][0:7]+board[1][0:7]+...board[7][0:7]\n",
    "\n",
    "ans = []\n",
    "for i in range(n-7):\n",
    "    for j in range(m-7):\n",
    "        words = ''\n",
    "        for k in range(i,i+8):\n",
    "            words+=board[k][j:j+8]\n",
    "        ans.append(howmany(words, black_start, white_start))\n",
    "print(min(ans))\n",
    "    "
   ]
  },
  {
   "cell_type": "code",
   "execution_count": 47,
   "id": "59c30d17-8ad0-4a31-9566-7c6e65477741",
   "metadata": {},
   "outputs": [
    {
     "name": "stdin",
     "output_type": "stream",
     "text": [
      " 500\n"
     ]
    },
    {
     "name": "stdout",
     "output_type": "stream",
     "text": [
      "166699\n"
     ]
    }
   ],
   "source": [
    "#1436\n",
    "#영화감독 숌\n",
    "num = 665\n",
    "n = int(input())\n",
    "cnt = 0\n",
    "\n",
    "while True:\n",
    "    num+=1\n",
    "    if '666' in str(num): #종말 숫자\n",
    "        cnt+=1\n",
    "    if cnt == n: #n번째 종말숫자\n",
    "        print(num)\n",
    "        break"
   ]
  },
  {
   "cell_type": "code",
   "execution_count": 4,
   "id": "ee62533d-1c6a-48d3-bf7a-31bde1f8e76e",
   "metadata": {},
   "outputs": [
    {
     "name": "stdin",
     "output_type": "stream",
     "text": [
      " 20\n",
      " 7\n",
      " 23\n",
      " 19\n",
      " 10\n",
      " 15\n",
      " 25\n",
      " 8\n",
      " 13\n"
     ]
    },
    {
     "name": "stdout",
     "output_type": "stream",
     "text": [
      "7\n",
      "8\n",
      "10\n",
      "13\n",
      "19\n",
      "20\n",
      "23\n"
     ]
    }
   ],
   "source": [
    "#2309\n",
    "#일곱 난쟁이\n",
    "h = [int(input()) for _ in range(9)]\n",
    "total = sum(h)\n",
    "isbreak = True\n",
    "h.sort()\n",
    "for i in h:\n",
    "    for j in h:\n",
    "        if i==j:\n",
    "            continue\n",
    "        if i+j==total-100:\n",
    "            h.remove(i)\n",
    "            h.remove(j)\n",
    "            isbreak = False\n",
    "            break\n",
    "    if isbreak == False:\n",
    "        break\n",
    "for i in h:\n",
    "    print(i)"
   ]
  },
  {
   "cell_type": "code",
   "execution_count": 14,
   "id": "8baa1aa9-96a4-48e1-b51b-206e37e010ff",
   "metadata": {},
   "outputs": [
    {
     "name": "stdin",
     "output_type": "stream",
     "text": [
      " 4\n",
      " PPPP\n",
      " CYZY\n",
      " CCPY\n",
      " PPCC\n"
     ]
    },
    {
     "name": "stdout",
     "output_type": "stream",
     "text": [
      "[['P', 'C', 'C', 'P'], ['C', 'Y', 'C', 'P'], ['C', 'C', 'P', 'C'], ['P', 'P', 'C', 'C']]\n",
      "[['P', 'C', 'C', 'P'], ['C', 'Y', 'C', 'P'], ['C', 'C', 'P', 'C'], ['P', 'P', 'C', 'C']]\n"
     ]
    }
   ],
   "source": [
    "#3085\n",
    "#사탕게임\n",
    "'''\n",
    "n x m\n",
    "C, P, Z, Y\n",
    "색이 다른 인접한 두칸 고르기->교환\n",
    "모두 같은 색으로 이루어진 가장 긴 연속부분(행 또는 열)\n",
    "'''\n",
    "n = int(input())\n",
    "arr_r = [list(input()) for _ in range(n)]\n",
    "arr_c = arr_r.copy()\n",
    "for i in range(n):\n",
    "    for j in range(n):\n",
    "        arr_c[i][j] = arr_c[j][i]\n",
    "print(arr_r)\n",
    "print(arr_c)"
   ]
  }
 ],
 "metadata": {
  "kernelspec": {
   "display_name": "Python 3",
   "language": "python",
   "name": "python3"
  },
  "language_info": {
   "codemirror_mode": {
    "name": "ipython",
    "version": 3
   },
   "file_extension": ".py",
   "mimetype": "text/x-python",
   "name": "python",
   "nbconvert_exporter": "python",
   "pygments_lexer": "ipython3",
   "version": "3.8.8"
  }
 },
 "nbformat": 4,
 "nbformat_minor": 5
}
