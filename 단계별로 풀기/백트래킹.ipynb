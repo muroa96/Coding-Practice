{
 "cells": [
  {
   "cell_type": "code",
   "execution_count": 44,
   "id": "e7cacb4c-7d17-4cd5-a3aa-7abb89472524",
   "metadata": {},
   "outputs": [
    {
     "name": "stdin",
     "output_type": "stream",
     "text": [
      " 3 2\n"
     ]
    },
    {
     "name": "stdout",
     "output_type": "stream",
     "text": [
      "1 2\n",
      "1 3\n",
      "2 1\n",
      "2 3\n",
      "3 1\n",
      "3 2\n"
     ]
    }
   ],
   "source": [
    "#15649\n",
    "#N과 M(1)\n",
    "n, m = map(int, input().split())\n",
    "\n",
    "s = []\n",
    "def f():\n",
    "    if len(s) == m:\n",
    "        print(' '.join(map(str, s)))\n",
    "        return\n",
    "\n",
    "    for i in range(1, n + 1):\n",
    "        if i in s:\n",
    "            continue\n",
    "        s.append(i)\n",
    "        f()\n",
    "        s.pop()\n",
    "\n",
    "f()\n"
   ]
  },
  {
   "cell_type": "code",
   "execution_count": 16,
   "id": "735428f4-e835-4ab3-9ca0-5f804a705a73",
   "metadata": {},
   "outputs": [
    {
     "name": "stdin",
     "output_type": "stream",
     "text": [
      " 3 3\n"
     ]
    },
    {
     "name": "stdout",
     "output_type": "stream",
     "text": [
      "1 2 3\n"
     ]
    }
   ],
   "source": [
    "#15650\n",
    "#N과 M(2)\n",
    "n, m = map(int, input().split())\n",
    "s =[]\n",
    "def f():\n",
    "    if len(s)==m:\n",
    "        x = sorted(s)\n",
    "        if s==x:\n",
    "            print(' '.join(map(str,s)))\n",
    "            return\n",
    "    for i in range(1,n+1):\n",
    "        if i in s:\n",
    "            continue\n",
    "        s.append(i)\n",
    "        f()\n",
    "        s.pop()\n",
    "f()"
   ]
  },
  {
   "cell_type": "code",
   "execution_count": 15,
   "id": "b98b3a4c-2390-4859-811b-6b304e7b7388",
   "metadata": {},
   "outputs": [
    {
     "name": "stdin",
     "output_type": "stream",
     "text": [
      " 3 3\n"
     ]
    },
    {
     "name": "stdout",
     "output_type": "stream",
     "text": [
      "1 1 1\n",
      "1 1 2\n",
      "1 1 3\n",
      "1 2 1\n",
      "1 2 2\n",
      "1 2 3\n",
      "1 3 1\n",
      "1 3 2\n",
      "1 3 3\n",
      "2 1 1\n",
      "2 1 2\n",
      "2 1 3\n",
      "2 2 1\n",
      "2 2 2\n",
      "2 2 3\n",
      "2 3 1\n",
      "2 3 2\n",
      "2 3 3\n",
      "3 1 1\n",
      "3 1 2\n",
      "3 1 3\n",
      "3 2 1\n",
      "3 2 2\n",
      "3 2 3\n",
      "3 3 1\n",
      "3 3 2\n",
      "3 3 3\n"
     ]
    }
   ],
   "source": [
    "#15651\n",
    "#N과 M(3)\n",
    "n, m = map(int, input().split())\n",
    "s = []\n",
    "def f():\n",
    "    if len(s)==m:\n",
    "        print(' '.join(map(str,s)))\n",
    "        return\n",
    "    for i in range(1,n+1):\n",
    "        s.append(i)\n",
    "        f()\n",
    "        s.pop()\n",
    "f()"
   ]
  },
  {
   "cell_type": "code",
   "execution_count": 41,
   "id": "e04f1271-f2f1-4cad-a22e-0d66f83b6908",
   "metadata": {},
   "outputs": [
    {
     "name": "stdin",
     "output_type": "stream",
     "text": [
      " 3 2\n"
     ]
    },
    {
     "name": "stdout",
     "output_type": "stream",
     "text": [
      "[1]\n",
      "[1, 1]\n",
      "[1] 뒤\n",
      "[1, 2]\n",
      "[1] 뒤\n",
      "[1, 3]\n",
      "[1] 뒤\n",
      "[] 뒤\n",
      "[2]\n",
      "[2, 2]\n",
      "[2] 뒤\n",
      "[2, 3]\n",
      "[2] 뒤\n",
      "[] 뒤\n",
      "[3]\n",
      "[3, 3]\n",
      "[3] 뒤\n",
      "[] 뒤\n"
     ]
    }
   ],
   "source": [
    "#15652\n",
    "#N과 M(4)\n",
    "n, m = map(int, input().split())\n",
    "s = []\n",
    "def f():\n",
    "    if len(s)==m:\n",
    "        print(' '.join(map(str, s)))\n",
    "        return\n",
    "    for i in range(1,n+1):\n",
    "        if len(s)!=0 and i<s[-1]:\n",
    "            continue\n",
    "        s.append(i)\n",
    "        f()\n",
    "        s.pop()\n",
    "\n",
    "f()"
   ]
  },
  {
   "cell_type": "code",
   "execution_count": 46,
   "id": "978570a9-846d-45cf-bc6a-c9178567ddce",
   "metadata": {},
   "outputs": [
    {
     "name": "stdin",
     "output_type": "stream",
     "text": [
      " 3\n"
     ]
    },
    {
     "name": "stdout",
     "output_type": "stream",
     "text": [
      "[[True, True, True], [True, True, True], [True, True, True]]\n"
     ]
    }
   ],
   "source": [
    "#9663\n",
    "#N-Queen\n",
    "n = int(input())\n",
    "arr = [[True]*n for _ in range(n)]\n",
    "visit = [[True]*n for _ in range(n)]\n",
    "print(arr)\n"
   ]
  },
  {
   "cell_type": "code",
   "execution_count": 6,
   "id": "c62aef12-77ed-4caa-8a27-0a67a4d78157",
   "metadata": {},
   "outputs": [],
   "source": [
    "#2580\n",
    "#스도쿠"
   ]
  },
  {
   "cell_type": "code",
   "execution_count": 50,
   "id": "266e739d-0c8e-43ab-b445-0fc694e7ecf7",
   "metadata": {},
   "outputs": [
    {
     "data": {
      "text/plain": [
       "0"
      ]
     },
     "execution_count": 50,
     "metadata": {},
     "output_type": "execute_result"
    }
   ],
   "source": [
    "#14888\n",
    "#연산자 끼워넣기\n",
    "# n - int(input())\n",
    "# arr =  list(map(int, input().split()))\n",
    "# operator = list(map(int, input().split()))\n",
    "def cnt(x,y,operator):\n",
    "    if operator=='+':\n",
    "        return x+y\n",
    "    elif operator == '-':\n",
    "        return x-y\n",
    "    elif operator == '*':\n",
    "        return x*y\n",
    "    elif operator == '/':\n",
    "        return x//y\n",
    "\n",
    "def recursive()"
   ]
  },
  {
   "cell_type": "code",
   "execution_count": null,
   "id": "f4a8e096-fa80-478c-a6c7-76a188c2a44a",
   "metadata": {},
   "outputs": [],
   "source": [
    "#14889\n",
    "#스타트와 링크\n",
    "n = 4\n",
    "[1,2,3],[4,5,6]\n",
    "arr = [[0,1,2,3],[4,0,5,6],[7,1,0,2],[3,4,5,0]]\n",
    "#팀의 경우의 수 (n-1)C(n/2-1)\n",
    "def stat(s,arr):\n",
    "    "
   ]
  },
  {
   "cell_type": "code",
   "execution_count": 45,
   "id": "88294b0c-8bd1-44ab-8c5e-dbcab2a9cb92",
   "metadata": {},
   "outputs": [
    {
     "name": "stdout",
     "output_type": "stream",
     "text": [
      "1 번째 재귀함수에서 2 번째 재귀함수를 호출합니다\n",
      "2 번째 재귀함수에서 3 번째 재귀함수를 호출합니다\n",
      "3 번째 재귀함수에서 4 번째 재귀함수를 호출합니다\n",
      "4 번째 재귀함수에서 5 번째 재귀함수를 호출합니다\n",
      "4 번째 재귀함수를 종료합니다\n",
      "3 번째 재귀함수를 종료합니다\n",
      "2 번째 재귀함수를 종료합니다\n",
      "1 번째 재귀함수를 종료합니다\n"
     ]
    }
   ],
   "source": [
    "def recursive_function(i):\n",
    "    # 100번째 호출을 했을 때 종료되도록 종료 조건 명시\n",
    "    if i== 5:\n",
    "        return\n",
    "    print(i, '번째 재귀함수에서', i + 1, '번째 재귀함수를 호출합니다')\n",
    "    recursive_function(i + 1)\n",
    "    print(i, '번째 재귀함수를 종료합니다')\n",
    "\n",
    "recursive_function(1)"
   ]
  },
  {
   "cell_type": "code",
   "execution_count": 47,
   "id": "62c91191-7a80-4519-bde7-dfa2c6b67a1d",
   "metadata": {},
   "outputs": [
    {
     "name": "stdout",
     "output_type": "stream",
     "text": [
      "dfs() called\n",
      "current lst: []\n",
      "i = 1\n",
      "append 1\n",
      "dfs() called\n",
      "current lst: [1]\n",
      "i = 1\n",
      "i = 2\n",
      "append 2\n",
      "dfs() called\n",
      "current lst: [1, 2]\n",
      "1 2\n",
      "popped 2\n",
      "i = 3\n",
      "append 3\n",
      "dfs() called\n",
      "current lst: [1, 3]\n",
      "1 3\n",
      "popped 3\n",
      "i = 4\n",
      "append 4\n",
      "dfs() called\n",
      "current lst: [1, 4]\n",
      "1 4\n",
      "popped 4\n",
      "dfs() exited\n",
      "popped 1\n",
      "i = 2\n",
      "append 2\n",
      "dfs() called\n",
      "current lst: [2]\n",
      "i = 1\n",
      "append 1\n",
      "dfs() called\n",
      "current lst: [2, 1]\n",
      "2 1\n",
      "popped 1\n",
      "i = 2\n",
      "i = 3\n",
      "append 3\n",
      "dfs() called\n",
      "current lst: [2, 3]\n",
      "2 3\n",
      "popped 3\n",
      "i = 4\n",
      "append 4\n",
      "dfs() called\n",
      "current lst: [2, 4]\n",
      "2 4\n",
      "popped 4\n",
      "dfs() exited\n",
      "popped 2\n",
      "i = 3\n",
      "append 3\n",
      "dfs() called\n",
      "current lst: [3]\n",
      "i = 1\n",
      "append 1\n",
      "dfs() called\n",
      "current lst: [3, 1]\n",
      "3 1\n",
      "popped 1\n",
      "i = 2\n",
      "append 2\n",
      "dfs() called\n",
      "current lst: [3, 2]\n",
      "3 2\n",
      "popped 2\n",
      "i = 3\n",
      "i = 4\n",
      "append 4\n",
      "dfs() called\n",
      "current lst: [3, 4]\n",
      "3 4\n",
      "popped 4\n",
      "dfs() exited\n",
      "popped 3\n",
      "i = 4\n",
      "append 4\n",
      "dfs() called\n",
      "current lst: [4]\n",
      "i = 1\n",
      "append 1\n",
      "dfs() called\n",
      "current lst: [4, 1]\n",
      "4 1\n",
      "popped 1\n",
      "i = 2\n",
      "append 2\n",
      "dfs() called\n",
      "current lst: [4, 2]\n",
      "4 2\n",
      "popped 2\n",
      "i = 3\n",
      "append 3\n",
      "dfs() called\n",
      "current lst: [4, 3]\n",
      "4 3\n",
      "popped 3\n",
      "i = 4\n",
      "dfs() exited\n",
      "popped 4\n",
      "dfs() exited\n"
     ]
    }
   ],
   "source": [
    "# N, M = map(int, input().split())\n",
    "N = 4\n",
    "M = 2\n",
    "lst = []\n",
    "\n",
    "def dfs():\n",
    "    print('dfs() called')\n",
    "    print('current lst:', lst)\n",
    "    if len(lst) == M:\n",
    "        print(' '.join(map(str,lst)))\n",
    "        return\n",
    "    else:\n",
    "        for i in range(1, N+1):\n",
    "            print('i =', i)\n",
    "            if i not in lst:\n",
    "                print('append', i)\n",
    "                lst.append(i)\n",
    "                dfs()\n",
    "                pop = lst.pop()\n",
    "                print('popped', pop)\n",
    "    print('dfs() exited')\n",
    "dfs()"
   ]
  }
 ],
 "metadata": {
  "kernelspec": {
   "display_name": "Python 3",
   "language": "python",
   "name": "python3"
  },
  "language_info": {
   "codemirror_mode": {
    "name": "ipython",
    "version": 3
   },
   "file_extension": ".py",
   "mimetype": "text/x-python",
   "name": "python",
   "nbconvert_exporter": "python",
   "pygments_lexer": "ipython3",
   "version": "3.8.8"
  }
 },
 "nbformat": 4,
 "nbformat_minor": 5
}
