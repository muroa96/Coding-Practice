{
 "cells": [
  {
   "cell_type": "code",
   "execution_count": 29,
   "id": "e7cacb4c-7d17-4cd5-a3aa-7abb89472524",
   "metadata": {},
   "outputs": [
    {
     "name": "stdin",
     "output_type": "stream",
     "text": [
      " 4 2\n"
     ]
    },
    {
     "name": "stdout",
     "output_type": "stream",
     "text": [
      "1 2\n",
      "1 3\n",
      "1 4\n",
      "2 1\n",
      "2 3\n",
      "2 4\n",
      "3 1\n",
      "3 2\n",
      "3 4\n",
      "4 1\n",
      "4 2\n",
      "4 3\n"
     ]
    }
   ],
   "source": [
    "#15649\n",
    "#N과 M(1)\n",
    "n, m = map(int, input().split())\n",
    "\n",
    "s = []\n",
    "def f():\n",
    "    if len(s) == m:\n",
    "        print(' '.join(map(str, s)))\n",
    "        return\n",
    "\n",
    "    for i in range(1, n + 1):\n",
    "        if i in s:\n",
    "            continue\n",
    "        s.append(i)\n",
    "        f()\n",
    "        s.pop()\n",
    "\n",
    "f()"
   ]
  },
  {
   "cell_type": "code",
   "execution_count": 22,
   "id": "a7b3289a-036b-486c-8a28-89fef7ea67d7",
   "metadata": {},
   "outputs": [
    {
     "name": "stdout",
     "output_type": "stream",
     "text": [
      "2\n"
     ]
    }
   ],
   "source": [
    "x = (1,2)\n",
    "print(len(x))"
   ]
  },
  {
   "cell_type": "code",
   "execution_count": 2,
   "id": "735428f4-e835-4ab3-9ca0-5f804a705a73",
   "metadata": {},
   "outputs": [],
   "source": [
    "#15650\n",
    "#N과 M(2)"
   ]
  },
  {
   "cell_type": "code",
   "execution_count": 3,
   "id": "b98b3a4c-2390-4859-811b-6b304e7b7388",
   "metadata": {},
   "outputs": [],
   "source": [
    "#15651\n",
    "#N과 M(3)"
   ]
  },
  {
   "cell_type": "code",
   "execution_count": 4,
   "id": "e04f1271-f2f1-4cad-a22e-0d66f83b6908",
   "metadata": {},
   "outputs": [],
   "source": [
    "#15652\n",
    "#N과 M(4)"
   ]
  },
  {
   "cell_type": "code",
   "execution_count": 5,
   "id": "978570a9-846d-45cf-bc6a-c9178567ddce",
   "metadata": {},
   "outputs": [],
   "source": [
    "#9663\n",
    "#N-Queen"
   ]
  },
  {
   "cell_type": "code",
   "execution_count": 6,
   "id": "c62aef12-77ed-4caa-8a27-0a67a4d78157",
   "metadata": {},
   "outputs": [],
   "source": [
    "#2580\n",
    "#스도쿠"
   ]
  },
  {
   "cell_type": "code",
   "execution_count": 7,
   "id": "266e739d-0c8e-43ab-b445-0fc694e7ecf7",
   "metadata": {},
   "outputs": [],
   "source": [
    "#14888\n",
    "#연산자 끼워넣기"
   ]
  },
  {
   "cell_type": "code",
   "execution_count": null,
   "id": "f4a8e096-fa80-478c-a6c7-76a188c2a44a",
   "metadata": {},
   "outputs": [],
   "source": [
    "#14889\n",
    "#스타트와 링크"
   ]
  }
 ],
 "metadata": {
  "kernelspec": {
   "display_name": "Python 3",
   "language": "python",
   "name": "python3"
  },
  "language_info": {
   "codemirror_mode": {
    "name": "ipython",
    "version": 3
   },
   "file_extension": ".py",
   "mimetype": "text/x-python",
   "name": "python",
   "nbconvert_exporter": "python",
   "pygments_lexer": "ipython3",
   "version": "3.8.8"
  }
 },
 "nbformat": 4,
 "nbformat_minor": 5
}
