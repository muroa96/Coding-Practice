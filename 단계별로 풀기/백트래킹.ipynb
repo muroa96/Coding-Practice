{
 "cells": [
  {
   "cell_type": "code",
   "execution_count": 2,
   "id": "e7cacb4c-7d17-4cd5-a3aa-7abb89472524",
   "metadata": {},
   "outputs": [
    {
     "name": "stdin",
     "output_type": "stream",
     "text": [
      " 4 2\n"
     ]
    },
    {
     "name": "stdout",
     "output_type": "stream",
     "text": [
      "1 2\n",
      "1 3\n",
      "1 4\n",
      "2 1\n",
      "2 3\n",
      "2 4\n",
      "3 1\n",
      "3 2\n",
      "3 4\n",
      "4 1\n",
      "4 2\n",
      "4 3\n"
     ]
    }
   ],
   "source": [
    "#15649\n",
    "#N과 M(1)\n",
    "n, m = map(int, input().split())\n",
    "s = []\n",
    "def f():\n",
    "    if len(s)==m:\n",
    "        print(' '.join(map(str,s)))\n",
    "    for i in range(1,n+1):\n",
    "        if i not in s:\n",
    "            s.append(i)\n",
    "            f()\n",
    "            s.pop()\n",
    "f()"
   ]
  },
  {
   "cell_type": "code",
   "execution_count": 4,
   "id": "735428f4-e835-4ab3-9ca0-5f804a705a73",
   "metadata": {},
   "outputs": [
    {
     "name": "stdin",
     "output_type": "stream",
     "text": [
      " 4 2\n"
     ]
    },
    {
     "name": "stdout",
     "output_type": "stream",
     "text": [
      "1 2\n",
      "1 3\n",
      "1 4\n",
      "2 3\n",
      "2 4\n",
      "3 4\n"
     ]
    }
   ],
   "source": [
    "#15650\n",
    "#N과 M(2)\n",
    "n, m = map(int, input().split())\n",
    "s =[]\n",
    "def f():\n",
    "    if len(s)==m:\n",
    "        x = sorted(s)\n",
    "        if s==x:\n",
    "            print(' '.join(map(str,s)))\n",
    "    for i in range(1,n+1):\n",
    "        if i not in s:\n",
    "            s.append(i)\n",
    "            f()\n",
    "            s.pop()\n",
    "f()"
   ]
  },
  {
   "cell_type": "code",
   "execution_count": 15,
   "id": "b98b3a4c-2390-4859-811b-6b304e7b7388",
   "metadata": {},
   "outputs": [
    {
     "name": "stdin",
     "output_type": "stream",
     "text": [
      " 3 3\n"
     ]
    },
    {
     "name": "stdout",
     "output_type": "stream",
     "text": [
      "1 1 1\n",
      "1 1 2\n",
      "1 1 3\n",
      "1 2 1\n",
      "1 2 2\n",
      "1 2 3\n",
      "1 3 1\n",
      "1 3 2\n",
      "1 3 3\n",
      "2 1 1\n",
      "2 1 2\n",
      "2 1 3\n",
      "2 2 1\n",
      "2 2 2\n",
      "2 2 3\n",
      "2 3 1\n",
      "2 3 2\n",
      "2 3 3\n",
      "3 1 1\n",
      "3 1 2\n",
      "3 1 3\n",
      "3 2 1\n",
      "3 2 2\n",
      "3 2 3\n",
      "3 3 1\n",
      "3 3 2\n",
      "3 3 3\n"
     ]
    }
   ],
   "source": [
    "#15651\n",
    "#N과 M(3)\n",
    "n, m = map(int, input().split())\n",
    "s = []\n",
    "def f():\n",
    "    if len(s)==m:\n",
    "        print(' '.join(map(str,s)))\n",
    "        return\n",
    "    for i in range(1,n+1):\n",
    "        s.append(i)\n",
    "        f()\n",
    "        s.pop()\n",
    "f()"
   ]
  },
  {
   "cell_type": "code",
   "execution_count": 41,
   "id": "e04f1271-f2f1-4cad-a22e-0d66f83b6908",
   "metadata": {},
   "outputs": [
    {
     "name": "stdin",
     "output_type": "stream",
     "text": [
      " 3 2\n"
     ]
    },
    {
     "name": "stdout",
     "output_type": "stream",
     "text": [
      "[1]\n",
      "[1, 1]\n",
      "[1] 뒤\n",
      "[1, 2]\n",
      "[1] 뒤\n",
      "[1, 3]\n",
      "[1] 뒤\n",
      "[] 뒤\n",
      "[2]\n",
      "[2, 2]\n",
      "[2] 뒤\n",
      "[2, 3]\n",
      "[2] 뒤\n",
      "[] 뒤\n",
      "[3]\n",
      "[3, 3]\n",
      "[3] 뒤\n",
      "[] 뒤\n"
     ]
    }
   ],
   "source": [
    "#15652\n",
    "#N과 M(4)\n",
    "n, m = map(int, input().split())\n",
    "s = []\n",
    "def f():\n",
    "    if len(s)==m:\n",
    "        print(' '.join(map(str, s)))\n",
    "        return\n",
    "    for i in range(1,n+1):\n",
    "        if len(s)!=0 and i<s[-1]:\n",
    "            continue\n",
    "        s.append(i)\n",
    "        f()\n",
    "        s.pop()\n",
    "\n",
    "f()"
   ]
  },
  {
   "cell_type": "code",
   "execution_count": 2,
   "id": "2d14ae78-0f38-435d-bdeb-0f4668f6c960",
   "metadata": {},
   "outputs": [
    {
     "name": "stdin",
     "output_type": "stream",
     "text": [
      " 4 2\n",
      " 9 8 7 1\n"
     ]
    },
    {
     "name": "stdout",
     "output_type": "stream",
     "text": [
      "1 7\n",
      "1 8\n",
      "1 9\n",
      "7 1\n",
      "7 8\n",
      "7 9\n",
      "8 1\n",
      "8 7\n",
      "8 9\n",
      "9 1\n",
      "9 7\n",
      "9 8\n"
     ]
    }
   ],
   "source": [
    "#15654\n",
    "#N과 M(5)\n",
    "n, m = map(int, input().split())\n",
    "arr = list(map(int, input().split()))\n",
    "arr.sort()\n",
    "s = []\n",
    "def f():\n",
    "    if len(s)==m:\n",
    "        print(' '.join(map(str,s)))\n",
    "        return\n",
    "    for i in arr:\n",
    "        if i not in s:\n",
    "            s.append(i)\n",
    "            f()\n",
    "            s.pop()\n",
    "f()"
   ]
  },
  {
   "cell_type": "code",
   "execution_count": 13,
   "id": "1c4a4797-d530-4441-9fcc-2cb3e0762228",
   "metadata": {},
   "outputs": [
    {
     "name": "stdin",
     "output_type": "stream",
     "text": [
      " 4 2\n",
      " 9 8 7 1\n"
     ]
    },
    {
     "name": "stdout",
     "output_type": "stream",
     "text": [
      "1 7\n",
      "1 8\n",
      "1 9\n",
      "7 8\n",
      "7 9\n",
      "8 9\n"
     ]
    }
   ],
   "source": [
    "#15655\n",
    "#N과 M(6)\n",
    "n, m = map(int, input().split())\n",
    "arr = list(map(int, input().split()))\n",
    "arr.sort()\n",
    "s = []\n",
    "def f():\n",
    "    if len(s)==m:\n",
    "        x = sorted(s)\n",
    "        if x==s:\n",
    "            print(' '.join(map(str,s)))\n",
    "        return\n",
    "    for i in arr:\n",
    "        if i not in s:\n",
    "            s.append(i)\n",
    "            f()\n",
    "            s.pop()\n",
    "            \n",
    "f()"
   ]
  },
  {
   "cell_type": "code",
   "execution_count": 9,
   "id": "574bfdeb-cd38-45e8-9be5-b550ef6896b1",
   "metadata": {},
   "outputs": [
    {
     "name": "stdin",
     "output_type": "stream",
     "text": [
      " 4 2\n",
      " 9 8 7 1\n"
     ]
    },
    {
     "name": "stdout",
     "output_type": "stream",
     "text": [
      "1 1\n",
      "1 7\n",
      "1 8\n",
      "1 9\n",
      "7 1\n",
      "7 7\n",
      "7 8\n",
      "7 9\n",
      "8 1\n",
      "8 7\n",
      "8 8\n",
      "8 9\n",
      "9 1\n",
      "9 7\n",
      "9 8\n",
      "9 9\n"
     ]
    }
   ],
   "source": [
    "#15656\n",
    "#N과 M(7)\n",
    "n, m = map(int, input().split())\n",
    "arr = sorted(list(map(int, input().split())))\n",
    "s = []\n",
    "def f():\n",
    "    if len(s)==m:\n",
    "        print(' '.join(map(str, s)))\n",
    "        return\n",
    "    for i in arr:\n",
    "        s.append(i)\n",
    "        f()\n",
    "        s.pop()\n",
    "f()"
   ]
  },
  {
   "cell_type": "code",
   "execution_count": 18,
   "id": "b52d7fd7-f56a-4f8e-afe6-5c05261ef542",
   "metadata": {},
   "outputs": [
    {
     "name": "stdin",
     "output_type": "stream",
     "text": [
      " 4 2\n",
      " 9 8 7 1\n"
     ]
    },
    {
     "name": "stdout",
     "output_type": "stream",
     "text": [
      "1 1\n",
      "1 7\n",
      "1 8\n",
      "1 9\n",
      "7 7\n",
      "7 8\n",
      "7 9\n",
      "8 8\n",
      "8 9\n",
      "9 9\n"
     ]
    }
   ],
   "source": [
    "#15657\n",
    "#N과 M(8)\n",
    "n, m = map(int, input().split())\n",
    "arr = sorted(list(map(int, input().split())))\n",
    "s = []\n",
    "def f():\n",
    "    if len(s)==m:\n",
    "        print(' '.join(map(str, s)))\n",
    "        return\n",
    "    for i in arr:\n",
    "        if len(s)==0 or i>=s[-1]:\n",
    "            s.append(i)\n",
    "            f()\n",
    "            s.pop()\n",
    "f()"
   ]
  },
  {
   "cell_type": "code",
   "execution_count": 2,
   "id": "32507066-025d-42f1-9089-2f4e332662d2",
   "metadata": {},
   "outputs": [
    {
     "name": "stdin",
     "output_type": "stream",
     "text": [
      " 3 3 3\n",
      " 1 2 3\n",
      " 4 5 6\n",
      " 7 8 9\n"
     ]
    },
    {
     "name": "stdout",
     "output_type": "stream",
     "text": [
      "9\n",
      "[9]\n"
     ]
    }
   ],
   "source": [
    "# 18290\n",
    "#NM과 K(1)\n",
    "'''\n",
    "nxm, 칸 k개 선택->모두 더함의 최대값\n",
    "선택한 두 칸이 인접하면 안된다\n",
    "'''\n",
    "import sys\n",
    "sys.setrecursionlimit(10**9)\n",
    "n, m, k = map(int, input().split())\n",
    "graph = []\n",
    "for _ in range(n):\n",
    "    graph.append(list(map(int, input().split())))\n",
    "visited = [[False]*m for _ in range(n)]\n",
    "s = []\n",
    "ans = []\n",
    "dx = [-1,1,0,0]\n",
    "dy = [0,0,-1,1]\n",
    "def dfs(s, visited):\n",
    "    if len(s)==k:\n",
    "        print(sum(s))\n",
    "        ans.append(sum(s))\n",
    "        s = []\n",
    "        visited = [[False]*m for _ in range(n)]\n",
    "        return\n",
    "    \n",
    "    for x in range(n):\n",
    "        for y in range(m):\n",
    "            if not visited[x][y]:\n",
    "                s.append(graph[x][y])\n",
    "                visited[x][y] = True\n",
    "                for i in range(4):\n",
    "                    nx, ny = x+dx[i], y+dy[i]\n",
    "                    if 0<=nx<n and 0<=ny<m:\n",
    "                        visited[nx][ny] = True\n",
    "                dfs(s,visited)\n",
    "\n",
    "dfs(s,visited)\n",
    "print(ans)"
   ]
  },
  {
   "cell_type": "code",
   "execution_count": 14,
   "id": "978570a9-846d-45cf-bc6a-c9178567ddce",
   "metadata": {},
   "outputs": [
    {
     "name": "stdin",
     "output_type": "stream",
     "text": [
      " 4\n"
     ]
    },
    {
     "name": "stdout",
     "output_type": "stream",
     "text": [
      "0\n"
     ]
    }
   ],
   "source": [
    "#9663\n",
    "#N-Queen\n",
    "'''\n",
    "상하좌우, 대각선\n",
    "'''\n",
    "n = int(input())\n",
    "arr = [[True]*n for _ in range(n)]\n",
    "visited = [[True]*n for _ in range(n)]\n",
    "dx = []\n",
    "dy = []\n",
    "for i in range(1,n+1):\n",
    "    lx = [i,-i,0,0,i,i,-i,-i]\n",
    "    ly = [0,0,i,-i,i,-i,-i,i]\n",
    "    dx.extend(lx)\n",
    "    dy.extend(ly)\n",
    "\n",
    "def dfs():\n",
    "    x, y = s.pop()\n",
    "    visited[x][y] = True\n",
    "    for i in range(len(dx)):\n",
    "        nx = x+dx[i]\n",
    "        ny = y+dy[i]\n",
    "        if nx<0 or ny<0 or nx>=n or ny>=n:\n",
    "            continue\n",
    "        if not visited[nx][ny]:\n",
    "            visited[nx][ny] = True\n",
    "    for j in range(n):\n",
    "        for k in range(n):\n",
    "            if not visited[j][k]:\n",
    "                visited[j][k] = True\n",
    "                s.append((j,k))\n",
    "                q.append((j,k))\n",
    "                if len(q)==4:\n",
    "                    return True\n",
    "                dfs()\n",
    "                \n",
    "cnt = 0 \n",
    "for i in range(n):\n",
    "    for j in range(n):\n",
    "        s = [(i,j)]\n",
    "        q = []\n",
    "        visited = [[True]*n for _ in range(n)]\n",
    "        if dfs()==True:\n",
    "            cnt+=1\n",
    "print(cnt)"
   ]
  },
  {
   "cell_type": "code",
   "execution_count": 6,
   "id": "c62aef12-77ed-4caa-8a27-0a67a4d78157",
   "metadata": {},
   "outputs": [],
   "source": [
    "#2580\n",
    "#스도쿠\n"
   ]
  },
  {
   "cell_type": "code",
   "execution_count": 16,
   "id": "266e739d-0c8e-43ab-b445-0fc694e7ecf7",
   "metadata": {},
   "outputs": [
    {
     "name": "stdin",
     "output_type": "stream",
     "text": [
      " 3\n",
      " 3 4 5\n",
      " 1 0 1 0\n"
     ]
    },
    {
     "name": "stdout",
     "output_type": "stream",
     "text": [
      "35\n",
      "17\n"
     ]
    }
   ],
   "source": [
    "#14888\n",
    "#연산자 끼워넣기\n",
    "'''\n",
    "주어진 수의 순서는 그대로\n",
    "연산자 순서 바꿔 최대 최소 구하기\n",
    "'''\n",
    "def cnt(x,y,operator):\n",
    "    if operator=='+':\n",
    "        return x+y\n",
    "    elif operator == '-':\n",
    "        return x-y\n",
    "    elif operator == '*':\n",
    "        return x*y\n",
    "    elif operator == '%':\n",
    "        if x>=0 and y>=0:\n",
    "            return x//y\n",
    "        else:\n",
    "            return -(abs(x)//abs(y))\n",
    "\n",
    "\n",
    "def f():\n",
    "    if len(s)==n-1:\n",
    "        num = num_list[0]\n",
    "        for i in range(len(s)):\n",
    "            num=cnt(num,num_list[i+1],s[i])\n",
    "        if len(answer)==0:\n",
    "            answer.append(num)\n",
    "        elif len(answer)==1:\n",
    "            if answer[0]<=num:\n",
    "                answer.append(num)\n",
    "            else:\n",
    "                answer.appendleft(num)\n",
    "        elif len(answer)==2:\n",
    "            if num<answer[0]:\n",
    "                answer.popleft()\n",
    "                answer.appendleft(num)\n",
    "            elif num>=answer[1]:\n",
    "                answer.pop()\n",
    "                answer.append(num)\n",
    "        return\n",
    "    \n",
    "    for i in oplist:\n",
    "        if s.count(i)<=dic[i]-1: #연산자가 주어진 개수를 초과하지 않으면\n",
    "            s.append(i)\n",
    "            f()\n",
    "            s.pop()\n",
    "\n",
    "from collections import deque\n",
    "n = int(input())\n",
    "num_list = list(map(int, input().split()))\n",
    "op = list(map(int, input().split()))\n",
    "ls = ['+','-','*','%']\n",
    "oplist = []\n",
    "for i in range(len(ls)): #연산자의 총 포함된 리스트\n",
    "    c = op[i]\n",
    "    while True:\n",
    "        if c==0:\n",
    "            break\n",
    "        oplist.append(ls[i])\n",
    "        c-=1\n",
    "dic = {}\n",
    "for i in ls: #각 연산자의 개수\n",
    "    dic[i] = oplist.count(i)\n",
    "s = deque()\n",
    "answer = deque()\n",
    "f()\n",
    "\n",
    "print(max(answer))\n",
    "print(min(answer))"
   ]
  },
  {
   "cell_type": "code",
   "execution_count": 15,
   "id": "f4a8e096-fa80-478c-a6c7-76a188c2a44a",
   "metadata": {},
   "outputs": [
    {
     "name": "stdin",
     "output_type": "stream",
     "text": [
      " 2\n",
      " 5 6\n",
      " 0 0 1 0\n"
     ]
    },
    {
     "name": "stdout",
     "output_type": "stream",
     "text": [
      "0\n"
     ]
    }
   ],
   "source": [
    "#14889\n",
    "#스타트와 링크\n",
    "'''\n",
    "오후, 의무X\n",
    "n명(짝수) 반으로 나눠서 스타트팀/링크팀\n",
    "번호 1~N\n",
    "능력치 Sij : i번+j번일 떄 팀+=능력치\n",
    "모든 쌍의 능력치 (Sij,Sji)의 합\n",
    "Sij랑 Sji가 다를수도 있음\n",
    "Sij = arr[i-1][j-1]\n",
    "\n",
    "0 1 2 3 4 5\n",
    "012 345\n",
    "01 02 12 10 20 21\n",
    "'''\n",
    "def mini(arr1, arr2):\n",
    "    cnt1, cnt2 = 0, 0\n",
    "    per1 = list(permutations(arr1,2))\n",
    "    per2 = list(permutations(arr2,2))\n",
    "    for i in range(len(per1)):\n",
    "        cnt1+=graph[per1[i][0]][per1[i][1]]\n",
    "        cnt2+=graph[per2[i][0]][per2[i][1]]\n",
    "    ans = abs(cnt1-cnt2)\n",
    "    return ans\n",
    "def dfs():\n",
    "    if len(s)==n//2:\n",
    "        s2 = [i for i in num_list if i not in s]\n",
    "        x = mini(s, s2)\n",
    "        answer.append(x)\n",
    "        return \n",
    "    for i in num_list:\n",
    "        if i not in s:\n",
    "            s.append(i)\n",
    "            dfs()\n",
    "            s.pop()\n",
    "    \n",
    "from itertools import permutations\n",
    "import sys\n",
    "sys.setrecursionlimit(10*99)\n",
    "n = int(input())\n",
    "num_list = [i for i in range(n)]\n",
    "graph = [list(map(int, input().split())) for _ in range(n)]\n",
    "answer = []\n",
    "s = []\n",
    "s.append(num_list[0])\n",
    "dfs()\n",
    "print(min(answer))"
   ]
  }
 ],
 "metadata": {
  "kernelspec": {
   "display_name": "Python 3",
   "language": "python",
   "name": "python3"
  },
  "language_info": {
   "codemirror_mode": {
    "name": "ipython",
    "version": 3
   },
   "file_extension": ".py",
   "mimetype": "text/x-python",
   "name": "python",
   "nbconvert_exporter": "python",
   "pygments_lexer": "ipython3",
   "version": "3.8.8"
  }
 },
 "nbformat": 4,
 "nbformat_minor": 5
}
