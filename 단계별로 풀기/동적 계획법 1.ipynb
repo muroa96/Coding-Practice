{
 "cells": [
  {
   "cell_type": "code",
   "execution_count": 39,
   "id": "0294b9e8-0e3a-464e-b3e5-a07c1bb6c0eb",
   "metadata": {},
   "outputs": [
    {
     "name": "stdin",
     "output_type": "stream",
     "text": [
      " 2\n",
      " 6\n"
     ]
    },
    {
     "name": "stdout",
     "output_type": "stream",
     "text": [
      "5 8\n"
     ]
    },
    {
     "name": "stdin",
     "output_type": "stream",
     "text": [
      " 22\n"
     ]
    },
    {
     "name": "stdout",
     "output_type": "stream",
     "text": [
      "10946 17711\n"
     ]
    }
   ],
   "source": [
    "#1003\n",
    "#피보나치 함수\n",
    "fib0 = [0] * 41\n",
    "fib1 = [0] * 41\n",
    "fib0[0] = 1\n",
    "fib1[0] = 0\n",
    "fib0[1] = 0\n",
    "fib1[1] = 1\n",
    "\n",
    "t = int(input())\n",
    "for _ in range(t):\n",
    "    n = int(input())\n",
    "    if n==0:\n",
    "        print(fib0[0], fib1[0])\n",
    "    elif n==1:\n",
    "        print(fib0[1], fib1[1])\n",
    "    else:\n",
    "        for i in range(2,n+1):\n",
    "            fib0[i] = fib0[i-2]+fib0[i-1]\n",
    "            fib1[i] = fib1[i-2]+fib1[i-1]\n",
    "        print(fib0[n],fib1[n])"
   ]
  },
  {
   "cell_type": "code",
   "execution_count": 54,
   "id": "8d6dcb10-7e7c-4f89-91d8-a805d5b537ce",
   "metadata": {},
   "outputs": [
    {
     "data": {
      "text/plain": [
       "1"
      ]
     },
     "execution_count": 54,
     "metadata": {},
     "output_type": "execute_result"
    }
   ],
   "source": [
    "#9184\n",
    "#신나는 함수 실행\n",
    "def w(a,b,c):\n",
    "    if a<=0 or b<=0 or c<=0:\n",
    "        return 1\n",
    "    if a>20 or b>20 or c>20:\n",
    "        return w(20,20,20)\n",
    "    if a<b and b<c:\n",
    "        return w(a,b,c-1)+w(a,b-1,c-1)-w(a,b-1,c)\n",
    "    else:\n",
    "        return w(a-1, b, c) + w(a-1, b-1, c) + w(a-1, b, c-1) - w(a-1, b-1, c-1)\n",
    "    \n",
    "w(0,0,0)"
   ]
  },
  {
   "cell_type": "code",
   "execution_count": 3,
   "id": "5639d7fb-6496-4593-a64d-9f8cb1f5d48b",
   "metadata": {},
   "outputs": [],
   "source": [
    "#1904\n",
    "#01타일"
   ]
  },
  {
   "cell_type": "code",
   "execution_count": 56,
   "id": "c20ed748-1546-4c22-b2dd-331ff5dee815",
   "metadata": {},
   "outputs": [
    {
     "name": "stdin",
     "output_type": "stream",
     "text": [
      " 2\n",
      " 6\n"
     ]
    },
    {
     "name": "stdout",
     "output_type": "stream",
     "text": [
      "3\n"
     ]
    },
    {
     "name": "stdin",
     "output_type": "stream",
     "text": [
      " 12\n"
     ]
    },
    {
     "name": "stdout",
     "output_type": "stream",
     "text": [
      "16\n"
     ]
    }
   ],
   "source": [
    "#9461\n",
    "#파도반 수열\n",
    "t = int(input())\n",
    "for _ in range(t):\n",
    "    n = int(input())\n",
    "    flow = [0]*(n+1)\n",
    "    if 1<=n<=3:\n",
    "        print(1)\n",
    "    else:\n",
    "        flow[1] = 1\n",
    "        flow[2] = 1\n",
    "        flow[3] = 1\n",
    "        for i in range(4,n+1):\n",
    "            flow[i] = flow[i-2]+flow[i-3]\n",
    "        print(flow[n])"
   ]
  },
  {
   "cell_type": "code",
   "execution_count": 18,
   "id": "aeb60a02-6386-4311-b4da-b509396435ad",
   "metadata": {},
   "outputs": [
    {
     "name": "stdin",
     "output_type": "stream",
     "text": [
      " 10\n",
      " 2 1 -4 3 4 -4 6 5 -5 1\n"
     ]
    },
    {
     "name": "stdout",
     "output_type": "stream",
     "text": [
      "11\n"
     ]
    }
   ],
   "source": [
    "#1912\n",
    "#연속합\n",
    "n = int(input())\n",
    "arr = list(map(int, input().split()))\n",
    "\n",
    "ans = 0\n",
    "for i in range(len(arr)-1):\n",
    "    sums = i\n",
    "    for j in arr[i+1:]:\n",
    "        "
   ]
  },
  {
   "cell_type": "code",
   "execution_count": 6,
   "id": "c210a275-7b6c-4d20-bf1d-6dcf4db35934",
   "metadata": {},
   "outputs": [],
   "source": [
    "#1149\n",
    "#RGB거리"
   ]
  },
  {
   "cell_type": "code",
   "execution_count": 93,
   "id": "663a98f7-d6ec-4b09-9446-443595b317a1",
   "metadata": {},
   "outputs": [
    {
     "name": "stdin",
     "output_type": "stream",
     "text": [
      " 5\n",
      " 7\n",
      " 3 8\n",
      " 8 1 0\n",
      " 2 7 4 4\n",
      " 4 5 2 6 5\n"
     ]
    },
    {
     "name": "stdout",
     "output_type": "stream",
     "text": [
      "30\n",
      "[[7], [10, 15], [18, 16, 15], [20, 25, 20, 19], [24, 30, 27, 26, 24]]\n"
     ]
    }
   ],
   "source": [
    "#1932\n",
    "#정수 삼각형\n",
    "n=int(input())\n",
    "d=[]\n",
    "for i in range(n):\n",
    "    d.append(list(map(int, input().split())))\n",
    "\n",
    "for i in range(1,n):\n",
    "    for j in range(len(d[i])):\n",
    "        if j==0:\n",
    "            d[i][j]=d[i][j]+d[i-1][j]\n",
    "        elif j==len(d[i])-1: \n",
    "            d[i][j]=d[i][j]+d[i-1][j-1]\n",
    "        else:\n",
    "            d[i][j]=max(d[i-1][j-1],d[i-1][j])+d[i][j]\n",
    "print(max(d[n-1]))"
   ]
  },
  {
   "cell_type": "code",
   "execution_count": 96,
   "id": "a0d1574b-be74-48eb-b15c-e4ce1c53925f",
   "metadata": {},
   "outputs": [
    {
     "name": "stdin",
     "output_type": "stream",
     "text": [
      " 6\n",
      " 10\n",
      " 20\n",
      " 15\n",
      " 25\n",
      " 10\n",
      " 20\n"
     ]
    },
    {
     "name": "stdout",
     "output_type": "stream",
     "text": [
      "0\n"
     ]
    }
   ],
   "source": [
    "#2579\n",
    "#계단 오르기\n",
    "'''\n",
    "1.계단은 한 번에 한 계단씩 또는 두 계단씩 오를 수 있다. \n",
    "  즉, 한 계단을 밟으면서 이어서 다음 계단이나, 다음 다음 계단으로 오를 수 있다.\n",
    "2.연속된 세 개의 계단을 모두 밟아서는 안 된다. 단, 시작점은 계단에 포함되지 않는다.\n",
    "3.마지막 도착 계단은 반드시 밟아야 한다.\n",
    "'''\n",
    "n = int(input())\n",
    "s = [0 for _ in range(301)]\n",
    "dp = [0 for _ in range(301)]\n",
    "for i in range(n):\n",
    "    s[i] = int(input())\n",
    "dp[0] = s[0]\n",
    "dp[1] = s[0]+s[1]\n",
    "dp[2] = max(s[1]+s[2],s[0]+s[2])\n",
    "for i in range(3,n):\n",
    "    dp[i] = max(dp[i - 3] + s[i - 1] + s[i], dp[i - 2] + s[i])\n",
    "print(dp[n-1])"
   ]
  },
  {
   "cell_type": "code",
   "execution_count": 9,
   "id": "73ad4298-00b2-4782-b421-370c0eed1f1d",
   "metadata": {},
   "outputs": [],
   "source": [
    "#1463\n",
    "#1로 만들기"
   ]
  },
  {
   "cell_type": "code",
   "execution_count": 10,
   "id": "ff06edb7-7630-4d09-bc99-4377f078b15a",
   "metadata": {},
   "outputs": [],
   "source": [
    "#10844\n",
    "#쉬운 계단 수"
   ]
  },
  {
   "cell_type": "code",
   "execution_count": 11,
   "id": "5f25dba0-914d-461d-939e-c0734a7e6220",
   "metadata": {},
   "outputs": [],
   "source": [
    "#2156\n",
    "#포도주 시식"
   ]
  },
  {
   "cell_type": "code",
   "execution_count": 12,
   "id": "3f71cc50-b4db-4295-a56a-eb3104f53293",
   "metadata": {},
   "outputs": [],
   "source": [
    "#11053\n",
    "#가장 긴 증가하는 부분 수열"
   ]
  },
  {
   "cell_type": "code",
   "execution_count": 13,
   "id": "4bccac63-803f-4448-9cbb-96ad961cf493",
   "metadata": {},
   "outputs": [],
   "source": [
    "#11054\n",
    "#가장 긴 바이토닉 부분 수열"
   ]
  },
  {
   "cell_type": "code",
   "execution_count": 14,
   "id": "ddc3478a-b945-4dd6-be82-7441f74fd462",
   "metadata": {},
   "outputs": [],
   "source": [
    "#2565\n",
    "#전깃줄"
   ]
  },
  {
   "cell_type": "code",
   "execution_count": 15,
   "id": "47982baa-6210-432c-bbb1-bf5a967b5068",
   "metadata": {},
   "outputs": [],
   "source": [
    "#9251\n",
    "#LCS"
   ]
  },
  {
   "cell_type": "code",
   "execution_count": 16,
   "id": "007fe95e-ccac-4151-9be6-610bce6da122",
   "metadata": {},
   "outputs": [],
   "source": [
    "#12865\n",
    "#평범한 배낭"
   ]
  }
 ],
 "metadata": {
  "kernelspec": {
   "display_name": "Python 3",
   "language": "python",
   "name": "python3"
  },
  "language_info": {
   "codemirror_mode": {
    "name": "ipython",
    "version": 3
   },
   "file_extension": ".py",
   "mimetype": "text/x-python",
   "name": "python",
   "nbconvert_exporter": "python",
   "pygments_lexer": "ipython3",
   "version": "3.8.8"
  }
 },
 "nbformat": 4,
 "nbformat_minor": 5
}
