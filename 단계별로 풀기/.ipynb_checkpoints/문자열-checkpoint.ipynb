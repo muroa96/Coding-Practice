{
 "cells": [
  {
   "cell_type": "code",
   "execution_count": 6,
   "id": "c4ee3056-5521-4d86-a086-4e1cdc9c6146",
   "metadata": {},
   "outputs": [
    {
     "name": "stdin",
     "output_type": "stream",
     "text": [
      " 0\n"
     ]
    },
    {
     "name": "stdout",
     "output_type": "stream",
     "text": [
      "48\n"
     ]
    }
   ],
   "source": [
    "#11654\n",
    "#아스키 코드\n",
    "n = input()\n",
    "print(ord(n))"
   ]
  },
  {
   "cell_type": "code",
   "execution_count": 11,
   "id": "9620b44d-27c4-4564-9a3e-83e9dedcfc6e",
   "metadata": {},
   "outputs": [
    {
     "name": "stdin",
     "output_type": "stream",
     "text": [
      " 5\n",
      " 54321\n"
     ]
    },
    {
     "name": "stdout",
     "output_type": "stream",
     "text": [
      "15\n"
     ]
    }
   ],
   "source": [
    "#11720\n",
    "#숫자의 합\n",
    "n = int(input())\n",
    "nums = input()\n",
    "arr = [int(i) for i in nums]\n",
    "print(sum(arr))"
   ]
  },
  {
   "cell_type": "code",
   "execution_count": 12,
   "id": "849edb17-20ce-446b-b005-4b7fc86b56a3",
   "metadata": {},
   "outputs": [
    {
     "name": "stdin",
     "output_type": "stream",
     "text": [
      " baekjoon\n"
     ]
    },
    {
     "name": "stdout",
     "output_type": "stream",
     "text": [
      "1 0 -1 -1 2 -1 -1 -1 -1 4 3 -1 -1 7 5 -1 -1 -1 -1 -1 -1 -1 -1 -1 -1 -1 "
     ]
    }
   ],
   "source": [
    "#10809\n",
    "#알파벳 찾기\n",
    "import string\n",
    "S = input()\n",
    "alphabet = [i for i in string.ascii_lowercase]\n",
    "\n",
    "for i in alphabet:\n",
    "    if i in S:\n",
    "        print(S.index(i), end = ' ')\n",
    "    else:\n",
    "        print('-1', end = ' ')"
   ]
  },
  {
   "cell_type": "code",
   "execution_count": 18,
   "id": "2c053c24-f0c6-41c7-a115-12e9b639f362",
   "metadata": {},
   "outputs": [
    {
     "name": "stdin",
     "output_type": "stream",
     "text": [
      " 2\n",
      " 3 ABC\n"
     ]
    },
    {
     "name": "stdout",
     "output_type": "stream",
     "text": [
      "AAABBBCCC\n"
     ]
    },
    {
     "name": "stdin",
     "output_type": "stream",
     "text": [
      " 5 /HTP\n"
     ]
    },
    {
     "name": "stdout",
     "output_type": "stream",
     "text": [
      "/////HHHHHTTTTTPPPPP\n"
     ]
    }
   ],
   "source": [
    "#2675\n",
    "#문자열 반복\n",
    "T = int(input())\n",
    "for _ in range(T):\n",
    "    arr = list(input().split())\n",
    "    print(\"\".join([i*int(arr[0]) for i in arr[1]]))"
   ]
  },
  {
   "cell_type": "code",
   "execution_count": 43,
   "id": "1fead40e-236e-43e0-b7af-1f0fe233308d",
   "metadata": {},
   "outputs": [
    {
     "name": "stdin",
     "output_type": "stream",
     "text": [
      " Mississipi\n"
     ]
    },
    {
     "name": "stdout",
     "output_type": "stream",
     "text": [
      "?\n"
     ]
    }
   ],
   "source": [
    "#1157\n",
    "#단어 공부\n",
    "word = input().lower() #소문자로 변경\n",
    "arr = list(set(word)) #중복 제거 abc\n",
    "nums = [word.count(i) for i in arr] #알파벳 사용 횟수\n",
    "\n",
    "if nums.count(max(nums))>1: #최다사용 알파벳 여러개\n",
    "    print('?')\n",
    "else:\n",
    "    x = nums.index(max(nums))\n",
    "    print(arr[x].upper())\n"
   ]
  },
  {
   "cell_type": "code",
   "execution_count": 56,
   "id": "58782ccc-851e-49a1-81ab-f67fc653603a",
   "metadata": {},
   "outputs": [
    {
     "name": "stdin",
     "output_type": "stream",
     "text": [
      "  The first character is a blank\n"
     ]
    },
    {
     "name": "stdout",
     "output_type": "stream",
     "text": [
      "6\n"
     ]
    }
   ],
   "source": [
    "#1152\n",
    "#단어의 개수\n",
    "sentence = input()\n",
    "cnt = 0\n",
    "x = sentence.split()\n",
    "print(len(x))"
   ]
  },
  {
   "cell_type": "code",
   "execution_count": null,
   "id": "ccd9fe5a-d0c8-41d8-854c-1786677066e9",
   "metadata": {},
   "outputs": [],
   "source": []
  }
 ],
 "metadata": {
  "kernelspec": {
   "display_name": "Python 3",
   "language": "python",
   "name": "python3"
  },
  "language_info": {
   "codemirror_mode": {
    "name": "ipython",
    "version": 3
   },
   "file_extension": ".py",
   "mimetype": "text/x-python",
   "name": "python",
   "nbconvert_exporter": "python",
   "pygments_lexer": "ipython3",
   "version": "3.8.8"
  }
 },
 "nbformat": 4,
 "nbformat_minor": 5
}
