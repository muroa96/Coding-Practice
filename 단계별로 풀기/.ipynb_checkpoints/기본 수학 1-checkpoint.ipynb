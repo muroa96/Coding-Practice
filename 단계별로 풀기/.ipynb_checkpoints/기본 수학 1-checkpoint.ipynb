{
 "cells": [
  {
   "cell_type": "code",
   "execution_count": 25,
   "id": "3169007a-2442-4739-9520-83068edf4202",
   "metadata": {},
   "outputs": [
    {
     "name": "stdin",
     "output_type": "stream",
     "text": [
      " 1000 70 170\n"
     ]
    },
    {
     "name": "stdout",
     "output_type": "stream",
     "text": [
      "11\n"
     ]
    }
   ],
   "source": [
    "#1712\n",
    "#손익분기점\n",
    "import math\n",
    "a, b, c = map(int, input().split())\n",
    "x=0 #판매량\n",
    "# x*(c-b)-a>0\n",
    "# x(c-b)>a\n",
    "# x>a/(c-b)\n",
    "\n",
    "if b>=c:\n",
    "    print(-1)\n",
    "else:\n",
    "    print(int((a/(c-b)))+1)\n"
   ]
  },
  {
   "cell_type": "code",
   "execution_count": 18,
   "id": "c7129ef1-eeb1-4bde-ae30-a4dc582a652b",
   "metadata": {},
   "outputs": [
    {
     "name": "stdin",
     "output_type": "stream",
     "text": [
      " 58\n"
     ]
    },
    {
     "name": "stdout",
     "output_type": "stream",
     "text": [
      "5\n"
     ]
    }
   ],
   "source": [
    "#2292\n",
    "#벌집\n",
    "# 규칙적으로 볼 때, 방이 위치한 테두리의 위치가 답이다.\n",
    "# 1 7 19 37 61 각 테두리 별 가장 큰 숫자\n",
    "# 1 + 3n(n-1) # 위의 숫자 구하기\n",
    "# 1+3n(n-1)=<x\n",
    "# 3n^2-3n+1-x =<0\n",
    "import math\n",
    "x = int(input())\n",
    "#근의 공식\n",
    "answer = [((3+math.sqrt(9-12*(1-x)))/6), ((3-math.sqrt(9-12*(1-x)))/6)]\n",
    "for i in answer:\n",
    "    if i>0:\n",
    "        if int(i)==i: #x = 1, 7, 19, ...\n",
    "            print(int(i))\n",
    "        else:\n",
    "            print(int(i)+1)"
   ]
  },
  {
   "cell_type": "code",
   "execution_count": 60,
   "id": "b7447e02-ece0-44cb-8665-2015d6e87da1",
   "metadata": {},
   "outputs": [
    {
     "name": "stdin",
     "output_type": "stream",
     "text": [
      " 14\n"
     ]
    },
    {
     "name": "stdout",
     "output_type": "stream",
     "text": [
      "2/4\n"
     ]
    }
   ],
   "source": [
    "### 1193\n",
    "#분수찾기\n",
    "# 1, 3, 6, 10 15\n",
    "#   2  3  4  5\n",
    "# n*(n+1)/2 = x : x가몇 번(n)째 라인에 있는가?\n",
    "# n^2+n-2x = 0\n",
    "import math\n",
    "x = int(input())\n",
    "ans = 0\n",
    "# 몇 번째 라인에 있는지 구하기\n",
    "answer = [((-1+math.sqrt(1+8*x))/2), ((-1-math.sqrt(1+8*x))/2)]\n",
    "for i in answer:\n",
    "    if i > 0:\n",
    "        if int(i)==i:\n",
    "            ans+=int(i)\n",
    "        else:\n",
    "            ans+=int(i+1)\n",
    "# 분수 구하기\n",
    "#짝수번째 라인 : 위에서 아래로\n",
    "# 홀수번째 라인 : 아래에서 위로\n",
    "num = (ans*(ans+1))/2 #1, 3, 6, 10, 15, ---\n",
    "diff = abs(x-num)\n",
    "# print(ans, num, diff)\n",
    "if ans%2 ==0:\n",
    "    print(str(int(ans-diff))+'/'+str(int(1+diff)))\n",
    "else:\n",
    "    print(str(int(1+diff))+'/'+str(int(ans-diff)))"
   ]
  },
  {
   "cell_type": "code",
   "execution_count": 156,
   "id": "e30479cc-46f2-45ea-b043-fcc951c3f115",
   "metadata": {},
   "outputs": [
    {
     "name": "stdin",
     "output_type": "stream",
     "text": [
      " 5 1 6\n"
     ]
    },
    {
     "name": "stdout",
     "output_type": "stream",
     "text": [
      "2\n"
     ]
    }
   ],
   "source": [
    "#2869\n",
    "#달팽이는 올라가고 싶다\n",
    "a, b, v = map(int, input().split())\n",
    "\n",
    "# (a-b)*(n-1)+a>=v\n",
    "if (v-a)/(a-b)+1!=int((v-a)/(a-b)+1): #정수가 아닐 때\n",
    "    print(int((v-a)/(a-b)+1)+1)\n",
    "else:\n",
    "    print(int((v-a)/(a-b)+1))"
   ]
  },
  {
   "cell_type": "code",
   "execution_count": 180,
   "id": "5665c4ab-e94a-4918-aefc-d07f3d463fa5",
   "metadata": {},
   "outputs": [
    {
     "name": "stdin",
     "output_type": "stream",
     "text": [
      " 1\n",
      " 6 12 18\n"
     ]
    },
    {
     "name": "stdout",
     "output_type": "stream",
     "text": [
      "603\n"
     ]
    }
   ],
   "source": [
    "#10250\n",
    "#ACM 호텔\n",
    "t = int(input())\n",
    "arr = [list(map(int, input().split())) for _ in range(t)] #[h,w,n]\n",
    "\n",
    "for i in range(t):\n",
    "    h, w, n = arr[i][0], arr[i][1], arr[i][2]\n",
    "    if n%h !=0:\n",
    "        print((n%h)*100+n//h+1)\n",
    "    else:\n",
    "        print(h*100+n//h)"
   ]
  },
  {
   "cell_type": "code",
   "execution_count": 21,
   "id": "a502c865-a44c-47e1-a041-6c15b7c2f689",
   "metadata": {},
   "outputs": [
    {
     "name": "stdin",
     "output_type": "stream",
     "text": [
      " 2\n",
      " 1\n",
      " 3\n"
     ]
    },
    {
     "name": "stdout",
     "output_type": "stream",
     "text": [
      "6\n"
     ]
    },
    {
     "name": "stdin",
     "output_type": "stream",
     "text": [
      " 2\n",
      " 3\n"
     ]
    },
    {
     "name": "stdout",
     "output_type": "stream",
     "text": [
      "10\n"
     ]
    }
   ],
   "source": [
    "#2775\n",
    "#부녀회장이 될테야\n",
    "\n",
    "#0층 : 1, 2, 3, 4, 5         \n",
    "#1층 : 1, 3, 6, 10, 15          \n",
    "#2층 : 1, 4, 10, 20, 35          \n",
    "#3층 : 1, 5, 15, 35 ,70       \n",
    "#4층 : 1, 6, 21, 56, 126      \n",
    "\n",
    "T = int(input())\n",
    "for _ in range(T):\n",
    "    k = int(input()) #층\n",
    "    n = int(input()) #호\n",
    "    floor = [[i for i in range(1,n+1)]] #아파트의 0층\n",
    "    for j in range(1,k+1):\n",
    "        floor.append([sum(floor[j-1][0:m+1]) for m in range(n)])\n",
    "    print(floor[k][n-1])"
   ]
  },
  {
   "cell_type": "code",
   "execution_count": 8,
   "id": "097e7319-f2fd-4ec5-a8ad-eb39a15ec547",
   "metadata": {},
   "outputs": [
    {
     "data": {
      "text/plain": [
       "15"
      ]
     },
     "execution_count": 8,
     "metadata": {},
     "output_type": "execute_result"
    }
   ],
   "source": [
    "arr = [[1,2,3,4,5]]\n",
    "sum(arr[0][0:5])"
   ]
  },
  {
   "cell_type": "code",
   "execution_count": 88,
   "id": "17578bf4-2044-40fd-9656-238aa86bd4e8",
   "metadata": {},
   "outputs": [
    {
     "name": "stdin",
     "output_type": "stream",
     "text": [
      " 11\n"
     ]
    },
    {
     "name": "stdout",
     "output_type": "stream",
     "text": [
      "3\n"
     ]
    }
   ],
   "source": [
    "#2839\n",
    "#설탕 배달\n",
    "n = int(input())\n",
    "# n = 5a + 3b\n",
    "# 17 -> 14 11 8 5 2\n",
    "# 20 -> 5..\n",
    "# 22 -> 19 16 13 10\n",
    "\n",
    "if n%5 == 0:\n",
    "    print(n//5)\n",
    "else:\n",
    "    b = 0\n",
    "    while True:\n",
    "        n-=3\n",
    "        b+=1\n",
    "        if n%5==0 or n<0:\n",
    "            break\n",
    "    if n<0:\n",
    "        print(-1)\n",
    "    else:\n",
    "        total = n//5+b\n",
    "        print(total)\n"
   ]
  },
  {
   "cell_type": "code",
   "execution_count": 89,
   "id": "5d453f24-cdc8-42ad-9b36-9ebf86c7e1ac",
   "metadata": {},
   "outputs": [
    {
     "name": "stdin",
     "output_type": "stream",
     "text": [
      " 1 2\n"
     ]
    },
    {
     "name": "stdout",
     "output_type": "stream",
     "text": [
      "3\n"
     ]
    }
   ],
   "source": [
    "#10757\n",
    "#큰 수 A+B\n",
    "A, B = map(int, input().split())\n",
    "print(A+B)"
   ]
  },
  {
   "cell_type": "code",
   "execution_count": null,
   "id": "28d221a8-f633-44b0-968c-5f9b82aa57fc",
   "metadata": {},
   "outputs": [],
   "source": []
  }
 ],
 "metadata": {
  "kernelspec": {
   "display_name": "Python 3",
   "language": "python",
   "name": "python3"
  },
  "language_info": {
   "codemirror_mode": {
    "name": "ipython",
    "version": 3
   },
   "file_extension": ".py",
   "mimetype": "text/x-python",
   "name": "python",
   "nbconvert_exporter": "python",
   "pygments_lexer": "ipython3",
   "version": "3.8.8"
  }
 },
 "nbformat": 4,
 "nbformat_minor": 5
}
