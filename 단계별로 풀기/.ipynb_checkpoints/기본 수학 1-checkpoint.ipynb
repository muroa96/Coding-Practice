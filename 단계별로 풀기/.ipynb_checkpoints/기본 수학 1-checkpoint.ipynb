{
 "cells": [
  {
   "cell_type": "code",
   "execution_count": 25,
   "id": "3169007a-2442-4739-9520-83068edf4202",
   "metadata": {},
   "outputs": [
    {
     "name": "stdin",
     "output_type": "stream",
     "text": [
      " 1000 70 170\n"
     ]
    },
    {
     "name": "stdout",
     "output_type": "stream",
     "text": [
      "11\n"
     ]
    }
   ],
   "source": [
    "#1712\n",
    "#손익분기점\n",
    "import math\n",
    "a, b, c = map(int, input().split())\n",
    "x=0 #판매량\n",
    "# x*(c-b)-a>0\n",
    "# x(c-b)>a\n",
    "# x>a/(c-b)\n",
    "\n",
    "if b>=c:\n",
    "    print(-1)\n",
    "else:\n",
    "    print(int((a/(c-b)))+1)\n"
   ]
  },
  {
   "cell_type": "code",
   "execution_count": 35,
   "id": "c7129ef1-eeb1-4bde-ae30-a4dc582a652b",
   "metadata": {},
   "outputs": [
    {
     "data": {
      "text/plain": [
       "57"
      ]
     },
     "execution_count": 35,
     "metadata": {},
     "output_type": "execute_result"
    }
   ],
   "source": [
    "#2292\n",
    "#벌집\n",
    "# 1 6 17 34 57\n",
    "#  5 11 17 23\n",
    "#    6  6 6\n",
    "1+5+5+6+1+5+5+6+1+5+5+6+6"
   ]
  },
  {
   "cell_type": "code",
   "execution_count": 108,
   "id": "b807b6b0-4603-4a32-bef2-731d9e2e8215",
   "metadata": {},
   "outputs": [
    {
     "name": "stdin",
     "output_type": "stream",
     "text": [
      " 6\n"
     ]
    },
    {
     "name": "stdout",
     "output_type": "stream",
     "text": [
      "1/3\n"
     ]
    }
   ],
   "source": [
    "#1193\n",
    "#분수찾기\n",
    "def func(x):\n",
    "    cnt = 0\n",
    "    for i in range(1, x+1):\n",
    "        cnt+=i\n",
    "    return cnt+1\n",
    "num = int(input())\n",
    "n = 0\n",
    "while True:\n",
    "    n+=1\n",
    "    if func(n-1)<=num<func(n):\n",
    "        diff = num-func(n-1)\n",
    "        break\n",
    "if n%2==0:\n",
    "    print(str(1+diff)+'/'+str(n-diff))\n",
    "else:\n",
    "    print(str(n-diff)+'/'+str(1+diff))\n",
    "1 2 4 7 11 16 22\n",
    "1+2+1  sum(n-1)+1\n",
    "1+2+3+1"
   ]
  },
  {
   "cell_type": "code",
   "execution_count": 156,
   "id": "e30479cc-46f2-45ea-b043-fcc951c3f115",
   "metadata": {},
   "outputs": [
    {
     "name": "stdin",
     "output_type": "stream",
     "text": [
      " 5 1 6\n"
     ]
    },
    {
     "name": "stdout",
     "output_type": "stream",
     "text": [
      "2\n"
     ]
    }
   ],
   "source": [
    "#2869\n",
    "#달팽이는 올라가고 싶다\n",
    "a, b, v = map(int, input().split())\n",
    "\n",
    "# (a-b)*(n-1)+a>=v\n",
    "if (v-a)/(a-b)+1!=int((v-a)/(a-b)+1): #정수가 아닐 때\n",
    "    print(int((v-a)/(a-b)+1)+1)\n",
    "else:\n",
    "    print(int((v-a)/(a-b)+1))"
   ]
  },
  {
   "cell_type": "code",
   "execution_count": 180,
   "id": "5665c4ab-e94a-4918-aefc-d07f3d463fa5",
   "metadata": {},
   "outputs": [
    {
     "name": "stdin",
     "output_type": "stream",
     "text": [
      " 1\n",
      " 6 12 18\n"
     ]
    },
    {
     "name": "stdout",
     "output_type": "stream",
     "text": [
      "603\n"
     ]
    }
   ],
   "source": [
    "#10250\n",
    "#ACM 호텔\n",
    "t = int(input())\n",
    "arr = [list(map(int, input().split())) for _ in range(t)] #[h,w,n]\n",
    "\n",
    "for i in range(t):\n",
    "    h, w, n = arr[i][0], arr[i][1], arr[i][2]\n",
    "    if n%h !=0:\n",
    "        print((n%h)*100+n//h+1)\n",
    "    else:\n",
    "        print(h*100+n//h)"
   ]
  },
  {
   "cell_type": "code",
   "execution_count": null,
   "id": "a502c865-a44c-47e1-a041-6c15b7c2f689",
   "metadata": {},
   "outputs": [],
   "source": []
  }
 ],
 "metadata": {
  "kernelspec": {
   "display_name": "Python 3",
   "language": "python",
   "name": "python3"
  },
  "language_info": {
   "codemirror_mode": {
    "name": "ipython",
    "version": 3
   },
   "file_extension": ".py",
   "mimetype": "text/x-python",
   "name": "python",
   "nbconvert_exporter": "python",
   "pygments_lexer": "ipython3",
   "version": "3.8.8"
  }
 },
 "nbformat": 4,
 "nbformat_minor": 5
}
