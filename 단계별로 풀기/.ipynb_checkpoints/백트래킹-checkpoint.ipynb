{
 "cells": [
  {
   "cell_type": "code",
   "execution_count": 2,
   "id": "e7cacb4c-7d17-4cd5-a3aa-7abb89472524",
   "metadata": {},
   "outputs": [
    {
     "name": "stdin",
     "output_type": "stream",
     "text": [
      " 4 2\n"
     ]
    },
    {
     "name": "stdout",
     "output_type": "stream",
     "text": [
      "1 2\n",
      "1 3\n",
      "1 4\n",
      "2 1\n",
      "2 3\n",
      "2 4\n",
      "3 1\n",
      "3 2\n",
      "3 4\n",
      "4 1\n",
      "4 2\n",
      "4 3\n"
     ]
    }
   ],
   "source": [
    "#15649\n",
    "#N과 M(1)\n",
    "n, m = map(int, input().split())\n",
    "s = []\n",
    "def f():\n",
    "    if len(s)==m:\n",
    "        print(' '.join(map(str,s)))\n",
    "    for i in range(1,n+1):\n",
    "        if i not in s:\n",
    "            s.append(i)\n",
    "            f()\n",
    "            s.pop()\n",
    "f()"
   ]
  },
  {
   "cell_type": "code",
   "execution_count": 4,
   "id": "735428f4-e835-4ab3-9ca0-5f804a705a73",
   "metadata": {},
   "outputs": [
    {
     "name": "stdin",
     "output_type": "stream",
     "text": [
      " 4 2\n"
     ]
    },
    {
     "name": "stdout",
     "output_type": "stream",
     "text": [
      "1 2\n",
      "1 3\n",
      "1 4\n",
      "2 3\n",
      "2 4\n",
      "3 4\n"
     ]
    }
   ],
   "source": [
    "#15650\n",
    "#N과 M(2)\n",
    "n, m = map(int, input().split())\n",
    "s =[]\n",
    "def f():\n",
    "    if len(s)==m:\n",
    "        x = sorted(s)\n",
    "        if s==x:\n",
    "            print(' '.join(map(str,s)))\n",
    "    for i in range(1,n+1):\n",
    "        if i not in s:\n",
    "            s.append(i)\n",
    "            f()\n",
    "            s.pop()\n",
    "f()"
   ]
  },
  {
   "cell_type": "code",
   "execution_count": 15,
   "id": "b98b3a4c-2390-4859-811b-6b304e7b7388",
   "metadata": {},
   "outputs": [
    {
     "name": "stdin",
     "output_type": "stream",
     "text": [
      " 3 3\n"
     ]
    },
    {
     "name": "stdout",
     "output_type": "stream",
     "text": [
      "1 1 1\n",
      "1 1 2\n",
      "1 1 3\n",
      "1 2 1\n",
      "1 2 2\n",
      "1 2 3\n",
      "1 3 1\n",
      "1 3 2\n",
      "1 3 3\n",
      "2 1 1\n",
      "2 1 2\n",
      "2 1 3\n",
      "2 2 1\n",
      "2 2 2\n",
      "2 2 3\n",
      "2 3 1\n",
      "2 3 2\n",
      "2 3 3\n",
      "3 1 1\n",
      "3 1 2\n",
      "3 1 3\n",
      "3 2 1\n",
      "3 2 2\n",
      "3 2 3\n",
      "3 3 1\n",
      "3 3 2\n",
      "3 3 3\n"
     ]
    }
   ],
   "source": [
    "#15651\n",
    "#N과 M(3)\n",
    "n, m = map(int, input().split())\n",
    "s = []\n",
    "def f():\n",
    "    if len(s)==m:\n",
    "        print(' '.join(map(str,s)))\n",
    "        return\n",
    "    for i in range(1,n+1):\n",
    "        s.append(i)\n",
    "        f()\n",
    "        s.pop()\n",
    "f()"
   ]
  },
  {
   "cell_type": "code",
   "execution_count": 41,
   "id": "e04f1271-f2f1-4cad-a22e-0d66f83b6908",
   "metadata": {},
   "outputs": [
    {
     "name": "stdin",
     "output_type": "stream",
     "text": [
      " 3 2\n"
     ]
    },
    {
     "name": "stdout",
     "output_type": "stream",
     "text": [
      "[1]\n",
      "[1, 1]\n",
      "[1] 뒤\n",
      "[1, 2]\n",
      "[1] 뒤\n",
      "[1, 3]\n",
      "[1] 뒤\n",
      "[] 뒤\n",
      "[2]\n",
      "[2, 2]\n",
      "[2] 뒤\n",
      "[2, 3]\n",
      "[2] 뒤\n",
      "[] 뒤\n",
      "[3]\n",
      "[3, 3]\n",
      "[3] 뒤\n",
      "[] 뒤\n"
     ]
    }
   ],
   "source": [
    "#15652\n",
    "#N과 M(4)\n",
    "n, m = map(int, input().split())\n",
    "s = []\n",
    "def f():\n",
    "    if len(s)==m:\n",
    "        print(' '.join(map(str, s)))\n",
    "        return\n",
    "    for i in range(1,n+1):\n",
    "        if len(s)!=0 and i<s[-1]:\n",
    "            continue\n",
    "        s.append(i)\n",
    "        f()\n",
    "        s.pop()\n",
    "\n",
    "f()"
   ]
  },
  {
   "cell_type": "code",
   "execution_count": 46,
   "id": "978570a9-846d-45cf-bc6a-c9178567ddce",
   "metadata": {},
   "outputs": [
    {
     "name": "stdin",
     "output_type": "stream",
     "text": [
      " 3\n"
     ]
    },
    {
     "name": "stdout",
     "output_type": "stream",
     "text": [
      "[[True, True, True], [True, True, True], [True, True, True]]\n"
     ]
    }
   ],
   "source": [
    "#9663\n",
    "#N-Queen\n",
    "n = int(input())\n",
    "arr = [[True]*n for _ in range(n)]\n",
    "visit = [[True]*n for _ in range(n)]\n",
    "print(arr)\n"
   ]
  },
  {
   "cell_type": "code",
   "execution_count": 6,
   "id": "c62aef12-77ed-4caa-8a27-0a67a4d78157",
   "metadata": {},
   "outputs": [],
   "source": [
    "#2580\n",
    "#스도쿠"
   ]
  },
  {
   "cell_type": "code",
   "execution_count": 50,
   "id": "266e739d-0c8e-43ab-b445-0fc694e7ecf7",
   "metadata": {},
   "outputs": [
    {
     "data": {
      "text/plain": [
       "0"
      ]
     },
     "execution_count": 50,
     "metadata": {},
     "output_type": "execute_result"
    }
   ],
   "source": [
    "#14888\n",
    "#연산자 끼워넣기\n",
    "# n - int(input())\n",
    "# arr =  list(map(int, input().split()))\n",
    "# operator = list(map(int, input().split()))\n",
    "def cnt(x,y,operator):\n",
    "    if operator=='+':\n",
    "        return x+y\n",
    "    elif operator == '-':\n",
    "        return x-y\n",
    "    elif operator == '*':\n",
    "        return x*y\n",
    "    elif operator == '/':\n",
    "        return x//y\n",
    "\n",
    "def recursive()"
   ]
  },
  {
   "cell_type": "code",
   "execution_count": 17,
   "id": "f4a8e096-fa80-478c-a6c7-76a188c2a44a",
   "metadata": {},
   "outputs": [
    {
     "name": "stdout",
     "output_type": "stream",
     "text": [
      "1000000000\n"
     ]
    }
   ],
   "source": [
    "#14889\n",
    "#스타트와 링크\n",
    "'''\n",
    "오후, 의무X\n",
    "n명(짝수) 반으로 나눠서 스타트팀/링크팀\n",
    "번호 1~N\n",
    "능력치 Sij : i번+j번일 떄 팀+=능력치\n",
    "모든 쌍의 능력치 (Sij,Sji)의 합\n",
    "Sij랑 Sji가 다를수도 있음\n",
    "Sij = arr[i-1][j-1]\n",
    "\n",
    "0 1 2 3\n",
    "'''\n",
    "def dfs(depth, idx):\n",
    "    global min_diff\n",
    "    if depth==n//2:\n",
    "        power1, power2 = 0, 0\n",
    "        for i in range(n):\n",
    "            for j in range(n):\n",
    "                if visited[i] and visited[j]:\n",
    "                    power1+=graph[i][j]\n",
    "                elif not visited[i] and not visited[j]:\n",
    "                    power2+=graph[i][j]\n",
    "        min_diff = min(min_diff, abs(power1-power2))\n",
    "        return\n",
    "    \n",
    "    for i in range(idx, n):\n",
    "        if not visited[i]:\n",
    "            visited[i] = True\n",
    "            dfs(depth+1, i+1)\n",
    "            visited[i] = False\n",
    "\n",
    "n = int(input())\n",
    "visited = [False for _ in range(n)]\n",
    "graph = [list(map(int, input().split())) for _ in range(n)]\n",
    "min_diff = int(1e9)\n",
    "\n",
    "dfs(0,0)\n",
    "print(min_diff)"
   ]
  }
 ],
 "metadata": {
  "kernelspec": {
   "display_name": "Python 3",
   "language": "python",
   "name": "python3"
  },
  "language_info": {
   "codemirror_mode": {
    "name": "ipython",
    "version": 3
   },
   "file_extension": ".py",
   "mimetype": "text/x-python",
   "name": "python",
   "nbconvert_exporter": "python",
   "pygments_lexer": "ipython3",
   "version": "3.8.8"
  }
 },
 "nbformat": 4,
 "nbformat_minor": 5
}
