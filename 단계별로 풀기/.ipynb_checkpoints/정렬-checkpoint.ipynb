{
 "cells": [
  {
   "cell_type": "markdown",
   "id": "6b3b6f5f-ed74-4d85-b76a-be2d187897aa",
   "metadata": {},
   "source": [
    "시간 복잡도가 O(n**2)인 정렬 알고리즘\n",
    "1. 버블 정렬(Bubble Sort)\n",
    "2. 선택 정렬(Selection Sort)\n",
    "3. 삽입 정렬(Insertion Sort)"
   ]
  },
  {
   "cell_type": "code",
   "execution_count": 23,
   "id": "bcb62756-9a95-4c3c-969d-d8cf21a7def1",
   "metadata": {},
   "outputs": [
    {
     "ename": "IndentationError",
     "evalue": "unindent does not match any outer indentation level (<tokenize>, line 33)",
     "output_type": "error",
     "traceback": [
      "\u001b[1;36m  File \u001b[1;32m\"<tokenize>\"\u001b[1;36m, line \u001b[1;32m33\u001b[0m\n\u001b[1;33m    return array\u001b[0m\n\u001b[1;37m    ^\u001b[0m\n\u001b[1;31mIndentationError\u001b[0m\u001b[1;31m:\u001b[0m unindent does not match any outer indentation level\n"
     ]
    }
   ],
   "source": [
    "#2750\n",
    "#수 정렬하기\n",
    "\n",
    "\n",
    "n = int(input())\n",
    "arr = [int(input()) for _ in range(n)]\n",
    "\n",
    "#1. 버블 정렬\n",
    "def bubble_sort(array):\n",
    "    for i in range(n-1):\n",
    "        for j in range(n-i-1):\n",
    "            if array[j]>array[j+1]:\n",
    "                array[j], array[j+1] = array[j+1], array[j]\n",
    "    return array\n",
    "bubble_sort(arr)\n",
    "\n",
    "#2. 선택 정렬\n",
    "def selection_sort(array):\n",
    "    for i in range(n):\n",
    "        min_index = i\n",
    "        for j in range(i+1,n):\n",
    "            if array[j]<array[min_index]:\n",
    "                min_index = j\n",
    "        array[i], array[min_index] = array[min_index], array[i]\n",
    "    return array\n",
    "\n",
    "#3. 삽입 정렬\n",
    "def insertion_sort(array):\n",
    "\tfor i in range(1, n):\n",
    "\t\tfor j in range(i, 0, - 1):\n",
    "\t\t\tif array[j - 1] > array[j]:\n",
    "\t\t\t\tarray[j - 1], array[j] = array[j], array[j - 1]\n",
    "    return array\n",
    "print(bubble_sort(arr))\n",
    "print(selection_sort(arr))\n",
    "print(insertion_sort(arr))"
   ]
  },
  {
   "cell_type": "code",
   "execution_count": null,
   "id": "3264acde-8754-4d07-aa78-0c5cc209311b",
   "metadata": {},
   "outputs": [],
   "source": [
    "#2751\n",
    "#수 정렬하기 2"
   ]
  },
  {
   "cell_type": "code",
   "execution_count": 2,
   "id": "e1df0d13-d158-4d0f-9999-e506da111b75",
   "metadata": {},
   "outputs": [],
   "source": [
    "#10989\n",
    "#수 정렬하기 3"
   ]
  },
  {
   "cell_type": "code",
   "execution_count": 3,
   "id": "af7addf4-1f1e-472c-bf85-1aa85bce3b93",
   "metadata": {},
   "outputs": [],
   "source": [
    "#2108\n",
    "#통계학"
   ]
  },
  {
   "cell_type": "code",
   "execution_count": 4,
   "id": "554a0a6c-c2db-43df-a318-4220d4679907",
   "metadata": {},
   "outputs": [],
   "source": [
    "#1427\n",
    "#소트인사이드"
   ]
  },
  {
   "cell_type": "code",
   "execution_count": 5,
   "id": "5acc785f-c6d1-4764-b964-3a6c53b3eb56",
   "metadata": {},
   "outputs": [],
   "source": [
    "#11650\n",
    "#좌표 정렬하기"
   ]
  },
  {
   "cell_type": "code",
   "execution_count": 6,
   "id": "58ef8b9a-210b-4f09-b2fd-97c73b0db8e8",
   "metadata": {},
   "outputs": [],
   "source": [
    "#1181\n",
    "#단어 정렬"
   ]
  },
  {
   "cell_type": "code",
   "execution_count": 7,
   "id": "77f79d2a-741b-40be-96e6-b53e98ede543",
   "metadata": {},
   "outputs": [],
   "source": [
    "#10814\n",
    "#나이순 정렬"
   ]
  },
  {
   "cell_type": "code",
   "execution_count": null,
   "id": "ece04d0b-9777-46a8-b968-74e8d862c1db",
   "metadata": {},
   "outputs": [],
   "source": [
    "#18870\n",
    "#좌표 압축"
   ]
  }
 ],
 "metadata": {
  "kernelspec": {
   "display_name": "Python 3",
   "language": "python",
   "name": "python3"
  },
  "language_info": {
   "codemirror_mode": {
    "name": "ipython",
    "version": 3
   },
   "file_extension": ".py",
   "mimetype": "text/x-python",
   "name": "python",
   "nbconvert_exporter": "python",
   "pygments_lexer": "ipython3",
   "version": "3.8.8"
  }
 },
 "nbformat": 4,
 "nbformat_minor": 5
}
