{
 "cells": [
  {
   "cell_type": "code",
   "execution_count": 11,
   "id": "4d38403b-38a4-465f-b222-29e1e7ae022d",
   "metadata": {},
   "outputs": [
    {
     "name": "stdout",
     "output_type": "stream",
     "text": [
      "12\n"
     ]
    }
   ],
   "source": [
    "#11047\n",
    "#동전 0\n",
    "N, K = map(int, input().split())\n",
    "coin = [int(input()) for _ in range(N)]\n",
    "coin = [i for i in coin if i<=K]\n",
    "coin.sort(reverse = True)\n",
    "answer = 0\n",
    "for i in coin:\n",
    "    if K==0:\n",
    "        break\n",
    "    num = K//i#동전 개수\n",
    "    K -= num*i#남은 금액\n",
    "    answer+=num#동전 개수\n",
    "print(answer)        "
   ]
  },
  {
   "cell_type": "code",
   "execution_count": 27,
   "id": "a5c6e22b-2627-494f-aeff-bfff98e18c3a",
   "metadata": {},
   "outputs": [
    {
     "name": "stdout",
     "output_type": "stream",
     "text": [
      "[[1, 4], [3, 5], [0, 6], [5, 7], [3, 8], [5, 9], [6, 10], [8, 11], [8, 12], [2, 13], [12, 14]]\n",
      "4\n"
     ]
    }
   ],
   "source": [
    "#1931\n",
    "#회의실배정\n",
    "n = int(input())\n",
    "room = [list(map(int, input().split())) for _ in range(n)]\n",
    "room.sort(key = lambda x: x[0])\n",
    "room.sort(key = lambda x: x[1])\n",
    "\n",
    "print(room)\n",
    "cnt = 1\n",
    "end = room[0][1]\n",
    "for i in range(1, n):\n",
    "    if room[i][0] >= end:\n",
    "        cnt += 1\n",
    "        end = room[i][1]\n",
    "\n",
    "print(cnt)"
   ]
  },
  {
   "cell_type": "code",
   "execution_count": 42,
   "id": "f666a437-b92e-4483-870c-99e58f567c9b",
   "metadata": {},
   "outputs": [
    {
     "name": "stdin",
     "output_type": "stream",
     "text": [
      " 5\n",
      " 3 1 4 3 2\n"
     ]
    },
    {
     "name": "stdout",
     "output_type": "stream",
     "text": [
      "[3, 1, 4, 3, 2]\n",
      "32\n"
     ]
    }
   ],
   "source": [
    "#11399\n",
    "#ATM\n",
    "n = int(input())\n",
    "arr = list(map(int, input().split()))\n",
    "arr.sort()\n",
    "cnt = 0\n",
    "for i in range(len(arr)):\n",
    "    cnt+=sum(arr[:i+1])\n",
    "print(cnt)"
   ]
  },
  {
   "cell_type": "code",
   "execution_count": 78,
   "id": "96f2d114-957a-4e4e-8557-b2a1b5146be5",
   "metadata": {},
   "outputs": [
    {
     "name": "stdout",
     "output_type": "stream",
     "text": [
      "0\n"
     ]
    }
   ],
   "source": [
    "#1541\n",
    "#잃어버린 괄호\n",
    "import re\n",
    "ls = input()\n",
    "# ls = '50+50+50-50+50+50' #testcase\n",
    "eq = re.split('([-|+])', ls)\n",
    "if '-' in eq:\n",
    "    for i in range(len(eq)):\n",
    "        if eq[i] == '+' and i>eq.index('-'):\n",
    "            eq[i] = '-'\n",
    "pm = 1 #+ / -\n",
    "answer = 0\n",
    "for i in eq:\n",
    "    if i == '+':\n",
    "        pm = 1\n",
    "    elif i == '-':\n",
    "        pm = -1\n",
    "    else:\n",
    "        answer+=pm*int(i)\n",
    "print(answer)"
   ]
  },
  {
   "cell_type": "code",
   "execution_count": 28,
   "id": "3570b635-316d-4f63-aac0-c3a64abf2cb0",
   "metadata": {},
   "outputs": [
    {
     "name": "stdout",
     "output_type": "stream",
     "text": [
      "9\n"
     ]
    }
   ],
   "source": [
    "#13305\n",
    "#주유소\n",
    "n = int(input())\n",
    "length = list(map(int, input().split()))\n",
    "price = list(map(int, input().split()))\n",
    "#testcase\n",
    "# n = 4\n",
    "# length = [2,3,1,1,1,1]\n",
    "# price = [1,1,1,1,1,1,1]\n",
    "\n",
    "answer = 0\n",
    "pr = price[0] #금액\n",
    "le = 0 #거리\n",
    "for i in range(len(price)-1):\n",
    "    le+=length[i]\n",
    "    if pr>=price[i+1]:\n",
    "        answer+= pr*le\n",
    "        le = 0\n",
    "        pr = price[i+1]\n",
    "if le!=0:\n",
    "    answer+=pr*le\n",
    "print(answer)"
   ]
  }
 ],
 "metadata": {
  "kernelspec": {
   "display_name": "Python 3",
   "language": "python",
   "name": "python3"
  },
  "language_info": {
   "codemirror_mode": {
    "name": "ipython",
    "version": 3
   },
   "file_extension": ".py",
   "mimetype": "text/x-python",
   "name": "python",
   "nbconvert_exporter": "python",
   "pygments_lexer": "ipython3",
   "version": "3.8.8"
  }
 },
 "nbformat": 4,
 "nbformat_minor": 5
}
