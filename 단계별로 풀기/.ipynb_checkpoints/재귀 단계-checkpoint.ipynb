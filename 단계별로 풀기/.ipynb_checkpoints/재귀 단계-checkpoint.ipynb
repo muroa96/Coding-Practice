{
 "cells": [
  {
   "cell_type": "code",
   "execution_count": 4,
   "id": "27a2e90d-e6c2-4535-b3bd-1ae76938396d",
   "metadata": {},
   "outputs": [
    {
     "name": "stdin",
     "output_type": "stream",
     "text": [
      " 5\n"
     ]
    },
    {
     "name": "stdout",
     "output_type": "stream",
     "text": [
      "120\n"
     ]
    }
   ],
   "source": [
    "#10872\n",
    "#팩토리얼\n",
    "\n",
    "N = int(input())\n",
    "\n",
    "def fac(x):\n",
    "    if x == 0:\n",
    "        return 1\n",
    "    return x*fac(x-1)\n",
    "\n",
    "print(fac(N))"
   ]
  },
  {
   "cell_type": "code",
   "execution_count": 8,
   "id": "a79700ae-012c-4f32-8b75-0a3bbae56082",
   "metadata": {},
   "outputs": [
    {
     "name": "stdin",
     "output_type": "stream",
     "text": [
      " 5\n"
     ]
    },
    {
     "name": "stdout",
     "output_type": "stream",
     "text": [
      "5\n"
     ]
    }
   ],
   "source": [
    "#10870\n",
    "#피보나치 수 5\n",
    "n = int(input())\n",
    "\n",
    "def fi(x):\n",
    "    if x<=1:\n",
    "        return x\n",
    "    return fi(x-1)+fi(x-2)\n",
    "print(fi(n))"
   ]
  },
  {
   "cell_type": "code",
   "execution_count": 2,
   "id": "463291bb-ee0f-4347-af51-f1c5bf8f6329",
   "metadata": {},
   "outputs": [
    {
     "name": "stdin",
     "output_type": "stream",
     "text": [
      " 27\n"
     ]
    },
    {
     "name": "stdout",
     "output_type": "stream",
     "text": [
      "***************************\n",
      "* ** ** ** ** ** ** ** ** *\n",
      "***************************\n",
      "***   ******   ******   ***\n",
      "* *   * ** *   * ** *   * *\n",
      "***   ******   ******   ***\n",
      "***************************\n",
      "* ** ** ** ** ** ** ** ** *\n",
      "***************************\n",
      "*********         *********\n",
      "* ** ** *         * ** ** *\n",
      "*********         *********\n",
      "***   ***         ***   ***\n",
      "* *   * *         * *   * *\n",
      "***   ***         ***   ***\n",
      "*********         *********\n",
      "* ** ** *         * ** ** *\n",
      "*********         *********\n",
      "***************************\n",
      "* ** ** ** ** ** ** ** ** *\n",
      "***************************\n",
      "***   ******   ******   ***\n",
      "* *   * ** *   * ** *   * *\n",
      "***   ******   ******   ***\n",
      "***************************\n",
      "* ** ** ** ** ** ** ** ** *\n",
      "***************************\n"
     ]
    }
   ],
   "source": [
    "#2447\n",
    "#별 찍기-10\n",
    "def get_stars(n):\n",
    "    matrix = [] #별을 담을 리스트 선언\n",
    "    for i in range(len(n) * 3): #인자로 전달된 리스트의 길이 * 3만큼 반복(별의 총 줄 개수가 3배씩 늘어나기 때문 ex)3 -> 9 -> 27 ...)\n",
    "        if i // len(n) == 1: #인자로 전달된 리스트의 길이로 나눈 몫이 1일 경우(즉,별모양에서 중간에 빈칸이 들어가는 경우의 범위)\n",
    "            matrix.append(n[i % len(n)] + \" \" * len(n) + n[i % len(n)]) #해당 빈칸의 개수만큼(인자로전달된 리스트의 길이가 빈칸의 개수)별 중간에 추가해준다.\n",
    "        else:#그 외 경우\n",
    "            matrix.append(n[i % len(n)] * 3) #리스트에 저장되어있는 별의 개수 * 3배 만큼 추가해준다.(각 줄마다 별의 개수가 3배만큼 증가하기 때문)\n",
    "    return matrix #별이 저장되어 있는 리스트를 반환\n",
    "\n",
    "\n",
    "resultStar = [\"***\", \"* *\", \"***\"] # n==3일 때의 별 초기화\n",
    "\n",
    "n = int(input())\n",
    "count = 0 #별의 개수를 구하는 함수(get_stars) 반복횟수 구하기\n",
    "\n",
    "while n != 3: #n이 3이아닐때 반복(3이면 그냥 바로 출력)\n",
    "    n //= 3 #n을 3으로 나눈 몫을 대입\n",
    "    count += 1 #한번 나눌때 마다 count값 1씩 증가\n",
    "\n",
    "for _ in range(count): #count값 만큼 반복(n이 9이상일 때)\n",
    "    resultStar = get_stars(resultStar) #반복할 때마다 별의 개수가 줄마다 3배씩 늘어나기 때문에 늘어난 별의 개수를 그 전 개수 별의 리스트에 대입해준다.\n",
    "\n",
    "for j in resultStar: #리스트에 저장되어있는 별을 줄마다 출력\n",
    "    print(j)"
   ]
  },
  {
   "cell_type": "code",
   "execution_count": 3,
   "id": "daf4ff9c-0d25-4b7c-b190-6983c7270271",
   "metadata": {},
   "outputs": [
    {
     "name": "stdin",
     "output_type": "stream",
     "text": [
      " 3\n"
     ]
    },
    {
     "name": "stdout",
     "output_type": "stream",
     "text": [
      "7\n",
      "1 3\n",
      "1 2\n",
      "3 2\n",
      "1 3\n",
      "2 1\n",
      "2 3\n",
      "1 3\n"
     ]
    }
   ],
   "source": [
    "#11729\n",
    "#하노이 탑 이동 순서\n",
    "def hanoi_tower(n, start, end) :\n",
    "    if n == 1 :\n",
    "        print(start, end)\n",
    "        return\n",
    "       \n",
    "    hanoi_tower(n-1, start, 6-start-end) # 1단계\n",
    "    print(start, end) # 2단계\n",
    "    hanoi_tower(n-1, 6-start-end, end) # 3단계\n",
    "    \n",
    "n = int(input())\n",
    "print(2**n-1)\n",
    "hanoi_tower(n, 1, 3)"
   ]
  },
  {
   "cell_type": "code",
   "execution_count": null,
   "id": "805b1e1e-4eb6-498e-ad83-845443a0af93",
   "metadata": {},
   "outputs": [],
   "source": []
  }
 ],
 "metadata": {
  "kernelspec": {
   "display_name": "Python 3",
   "language": "python",
   "name": "python3"
  },
  "language_info": {
   "codemirror_mode": {
    "name": "ipython",
    "version": 3
   },
   "file_extension": ".py",
   "mimetype": "text/x-python",
   "name": "python",
   "nbconvert_exporter": "python",
   "pygments_lexer": "ipython3",
   "version": "3.8.8"
  }
 },
 "nbformat": 4,
 "nbformat_minor": 5
}
