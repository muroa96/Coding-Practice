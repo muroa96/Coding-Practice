{
 "cells": [
  {
   "cell_type": "code",
   "execution_count": 4,
   "id": "27a2e90d-e6c2-4535-b3bd-1ae76938396d",
   "metadata": {},
   "outputs": [
    {
     "name": "stdin",
     "output_type": "stream",
     "text": [
      " 5\n"
     ]
    },
    {
     "name": "stdout",
     "output_type": "stream",
     "text": [
      "120\n"
     ]
    }
   ],
   "source": [
    "#10872\n",
    "#팩토리얼\n",
    "\n",
    "N = int(input())\n",
    "\n",
    "def fac(x):\n",
    "    if x == 0:\n",
    "        return 1\n",
    "    return x*fac(x-1)\n",
    "\n",
    "print(fac(N))"
   ]
  },
  {
   "cell_type": "code",
   "execution_count": 8,
   "id": "a79700ae-012c-4f32-8b75-0a3bbae56082",
   "metadata": {},
   "outputs": [
    {
     "name": "stdin",
     "output_type": "stream",
     "text": [
      " 5\n"
     ]
    },
    {
     "name": "stdout",
     "output_type": "stream",
     "text": [
      "5\n"
     ]
    }
   ],
   "source": [
    "#10870\n",
    "#피보나치 수 5\n",
    "n = int(input())\n",
    "\n",
    "def fi(x):\n",
    "    if x<=1:\n",
    "        return x\n",
    "    return fi(x-1)+fi(x-2)\n",
    "print(fi(n))"
   ]
  },
  {
   "cell_type": "code",
   "execution_count": 5,
   "id": "463291bb-ee0f-4347-af51-f1c5bf8f6329",
   "metadata": {},
   "outputs": [
    {
     "name": "stdin",
     "output_type": "stream",
     "text": [
      " 27\n"
     ]
    },
    {
     "name": "stdout",
     "output_type": "stream",
     "text": [
      "***************************\n",
      "* ** ** ** ** ** ** ** ** *\n",
      "***************************\n",
      "***   ******   ******   ***\n",
      "* *   * ** *   * ** *   * *\n",
      "***   ******   ******   ***\n",
      "***************************\n",
      "* ** ** ** ** ** ** ** ** *\n",
      "***************************\n",
      "*********         *********\n",
      "* ** ** *         * ** ** *\n",
      "*********         *********\n",
      "***   ***         ***   ***\n",
      "* *   * *         * *   * *\n",
      "***   ***         ***   ***\n",
      "*********         *********\n",
      "* ** ** *         * ** ** *\n",
      "*********         *********\n",
      "***************************\n",
      "* ** ** ** ** ** ** ** ** *\n",
      "***************************\n",
      "***   ******   ******   ***\n",
      "* *   * ** *   * ** *   * *\n",
      "***   ******   ******   ***\n",
      "***************************\n",
      "* ** ** ** ** ** ** ** ** *\n",
      "***************************\n"
     ]
    }
   ],
   "source": [
    "#2447\n",
    "#별 찍기-10\n",
    "def draw_stars(n):\n",
    "    if n==1:\n",
    "        return ['*']\n",
    "\n",
    "    Stars=draw_stars(n//3)\n",
    "    L=[]\n",
    "\n",
    "    for star in Stars:\n",
    "        L.append(star*3)\n",
    "    for star in Stars:\n",
    "        L.append(star+' '*(n//3)+star)\n",
    "    for star in Stars:\n",
    "        L.append(star*3)\n",
    "    return L\n",
    "\n",
    "N=int(input())\n",
    "print('\\n'.join(draw_stars(N)))"
   ]
  },
  {
   "cell_type": "code",
   "execution_count": 6,
   "id": "daf4ff9c-0d25-4b7c-b190-6983c7270271",
   "metadata": {},
   "outputs": [
    {
     "name": "stdin",
     "output_type": "stream",
     "text": [
      " 3\n"
     ]
    },
    {
     "name": "stdout",
     "output_type": "stream",
     "text": [
      "7\n",
      "1 3\n",
      "1 2\n",
      "3 2\n",
      "1 3\n",
      "2 1\n",
      "2 3\n",
      "1 3\n"
     ]
    }
   ],
   "source": [
    "#11729\n",
    "#하노이 탑 이동 순서\n",
    "def hanoi_tower(n, start, end) :\n",
    "    if n == 1 :\n",
    "        print(start, end)\n",
    "        return\n",
    "       \n",
    "    hanoi_tower(n-1, start, 6-start-end) # 1단계\n",
    "    print(start, end) # 2단계\n",
    "    hanoi_tower(n-1, 6-start-end, end) # 3단계\n",
    "    \n",
    "n = int(input())\n",
    "print(2**n-1)\n",
    "hanoi_tower(n, 1, 3)"
   ]
  },
  {
   "cell_type": "code",
   "execution_count": null,
   "id": "805b1e1e-4eb6-498e-ad83-845443a0af93",
   "metadata": {},
   "outputs": [],
   "source": []
  }
 ],
 "metadata": {
  "kernelspec": {
   "display_name": "Python 3",
   "language": "python",
   "name": "python3"
  },
  "language_info": {
   "codemirror_mode": {
    "name": "ipython",
    "version": 3
   },
   "file_extension": ".py",
   "mimetype": "text/x-python",
   "name": "python",
   "nbconvert_exporter": "python",
   "pygments_lexer": "ipython3",
   "version": "3.8.8"
  }
 },
 "nbformat": 4,
 "nbformat_minor": 5
}
