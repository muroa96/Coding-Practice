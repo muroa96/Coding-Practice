{
 "cells": [
  {
   "cell_type": "code",
   "execution_count": 1,
   "id": "cd28a147-d4b2-46ca-bb4a-d077df2768f3",
   "metadata": {},
   "outputs": [],
   "source": [
    "#1085\n",
    "#직사각형에서 탈출\n",
    "x, y, w, h = map(int, input().split())\n",
    "\n",
    "arr = [x, y, w-x, h-y]\n",
    "arr.sort()\n",
    "print(arr[0])"
   ]
  },
  {
   "cell_type": "code",
   "execution_count": 2,
   "id": "d822635c-96a4-477d-acbe-992f4983c0c4",
   "metadata": {},
   "outputs": [],
   "source": [
    "#3009\n",
    "#네 번째 점\n",
    "xlist = []\n",
    "ylist = []\n",
    "for _ in range(3):\n",
    "    x, y = map(int, input().split())\n",
    "    xlist.append(x)\n",
    "    ylist.append(y)\n",
    "\n",
    "x_ans = list(set(xlist))\n",
    "y_ans = list(set(ylist))\n",
    "\n",
    "answerlist = []\n",
    "\n",
    "for i in x_ans:\n",
    "    if xlist.count(i)==1:\n",
    "        answerlist.append(i)\n",
    "for j in y_ans:\n",
    "    if ylist.count(j)==1:\n",
    "        answerlist.append(j)\n",
    "        \n",
    "print(answerlist[0], answerlist[1])"
   ]
  },
  {
   "cell_type": "code",
   "execution_count": 3,
   "id": "972044ea-5433-4d18-9dee-9e07dbd25406",
   "metadata": {},
   "outputs": [],
   "source": [
    "#4153\n",
    "#직각삼각형\n",
    "while True:\n",
    "    arr = list(map(int, input().split()))\n",
    "    arr.sort()\n",
    "    if arr[0]==arr[1]==arr[2]==0:\n",
    "        break\n",
    "    else:\n",
    "        if arr[0]**2+arr[1]**2==arr[2]**2:\n",
    "            print('right')\n",
    "        else:\n",
    "            print('wrong')"
   ]
  },
  {
   "cell_type": "code",
   "execution_count": 4,
   "id": "3fbef0ca-f783-4bfc-8241-167c43fd8161",
   "metadata": {},
   "outputs": [],
   "source": [
    "#3034\n",
    "#앵그리 창영\n",
    "import math\n",
    "n, w, h = map(int, input().split())\n",
    "length = math.sqrt(w**2+h**2)\n",
    "for _ in range(n):\n",
    "    x = int(input())\n",
    "    if x<=length:\n",
    "        print('DA')\n",
    "    else:\n",
    "        print('NE')"
   ]
  },
  {
   "cell_type": "code",
   "execution_count": 32,
   "id": "58cc3f2c-f0d6-4724-8a7d-df9a68fdfff9",
   "metadata": {},
   "outputs": [
    {
     "name": "stdin",
     "output_type": "stream",
     "text": [
      " 7\n",
      " 4 50\n",
      " 2 160\n",
      " 3 30\n",
      " 1 60\n",
      " 3 20\n",
      " 1 100\n"
     ]
    },
    {
     "name": "stdout",
     "output_type": "stream",
     "text": [
      "47600\n"
     ]
    }
   ],
   "source": [
    "#2477\n",
    "#참외밭\n",
    "n = int(input())\n",
    "ls = []\n",
    "d = ''\n",
    "for _ in range(6):\n",
    "    a, b = map(int, input().split())\n",
    "    ls.append([a,b])\n",
    "    d+=str(a)\n",
    "wlist = [i[1] for i in ls if i[0]==1 or i[0]==2]\n",
    "hlist = [i[1] for i in ls if i[0]==3 or i[0]==4]\n",
    "x1, y1 = max(wlist), max(hlist)\n",
    "\n",
    "ls = ls*2\n",
    "d = d*2\n",
    "s = ['131', '414', '242', '323']\n",
    "for i in s:\n",
    "    if i in d:\n",
    "        break\n",
    "x2, y2 = ls[d.index(i)][1], ls[d.index(i)+1][1]\n",
    "print(n*(x1*y1-x2*y2))"
   ]
  },
  {
   "cell_type": "code",
   "execution_count": 6,
   "id": "69919cd1-42ea-4d87-b90f-b872b387981e",
   "metadata": {},
   "outputs": [],
   "source": [
    "#3053\n",
    "#택시 기하학\n",
    "import math\n",
    "r = int(input())\n",
    "print((r**2)*math.pi)\n",
    "print(r**2*2)"
   ]
  },
  {
   "cell_type": "code",
   "execution_count": 7,
   "id": "65144bf6-13ea-486b-a1bb-49fb0cc153ac",
   "metadata": {},
   "outputs": [],
   "source": [
    "#1002\n",
    "#터렛\n",
    "\n",
    "T = int(input())\n",
    "for _ in range(T):\n",
    "    x1, y1, a, x2, y2, b = map(int, input().split())\n",
    "    distance = ((x1-x2)**2+(y1-y2)**2)**0.5\n",
    "    if a>b:\n",
    "        r1 , r2 = b, a\n",
    "    elif a<=b:\n",
    "        r1, r2 = a, b\n",
    "    \n",
    "    if distance==0 and r1==r2:\n",
    "        print(-1)\n",
    "    elif distance>r1+r2 or distance<abs(r2-r1):\n",
    "        print(0)\n",
    "    elif distance == r1+r2 or distance == abs(r2-r1):\n",
    "        print(1)\n",
    "    elif abs(r1-r2)<distance<r1+r2:\n",
    "        print(2)"
   ]
  },
  {
   "cell_type": "code",
   "execution_count": 16,
   "id": "36d2c637-6693-48c7-84eb-8ab9e9d887d5",
   "metadata": {},
   "outputs": [
    {
     "name": "stdin",
     "output_type": "stream",
     "text": [
      " 1\n",
      " -5 1 5 1\n",
      " 1\n",
      " 0 0 2\n"
     ]
    },
    {
     "name": "stdout",
     "output_type": "stream",
     "text": [
      "0\n"
     ]
    }
   ],
   "source": [
    "#1004\n",
    "#어린 왕자\n",
    "t = int(input())\n",
    "for _ in range(t):\n",
    "    x1, y1, x2, y2 = map(int, input().split())\n",
    "    n = int(input())\n",
    "    answer = 0\n",
    "    for _ in range(n):\n",
    "        cx, cy, r = map(int, input().split())\n",
    "        if (x1-cx)**2+(y1-cy)**2<=r**2 and (x2-cx)**2+(y2-cy)**2>r**2:\n",
    "            answer+=1\n",
    "        elif (x1-cx)**2+(y1-cy)**2>r**2 and (x2-cx)**2+(y2-cy)**2<=r**2:\n",
    "            answer+=1\n",
    "    print(answer)"
   ]
  },
  {
   "cell_type": "code",
   "execution_count": 9,
   "id": "3915d94c-2d41-4591-bde3-d00e684d7e90",
   "metadata": {},
   "outputs": [],
   "source": [
    "#1358\n",
    "#하키\n",
    "import math\n",
    "w, h, x, y, p = map(int, input().split())\n",
    "answer = 0\n",
    "r = h/2\n",
    "ls = []\n",
    "for _ in range(p):\n",
    "    d = list(map(int, input().split()))\n",
    "    ls.append(d)\n",
    "\n",
    "for i in ls:\n",
    "    a, b = i[0], i[1]\n",
    "    if x<=a<=x+w and y<=b<=y+h:\n",
    "        answer+=1\n",
    "    elif y<=b<=y+h and a<=x:\n",
    "        distance = math.sqrt((x-a)**2+(y+r-b)**2)\n",
    "        if distance<=r:\n",
    "            answer+=1\n",
    "    elif y<=b<=y+h and a>x:\n",
    "        distance = math.sqrt((x+w-a)**2+(y+r-b)**2)\n",
    "        if distance<=r:\n",
    "            answer+=1\n",
    "print(answer)"
   ]
  }
 ],
 "metadata": {
  "kernelspec": {
   "display_name": "Python 3",
   "language": "python",
   "name": "python3"
  },
  "language_info": {
   "codemirror_mode": {
    "name": "ipython",
    "version": 3
   },
   "file_extension": ".py",
   "mimetype": "text/x-python",
   "name": "python",
   "nbconvert_exporter": "python",
   "pygments_lexer": "ipython3",
   "version": "3.8.8"
  }
 },
 "nbformat": 4,
 "nbformat_minor": 5
}
