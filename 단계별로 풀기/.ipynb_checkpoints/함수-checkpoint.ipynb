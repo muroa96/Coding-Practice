{
 "cells": [
  {
   "cell_type": "code",
   "execution_count": 45,
   "id": "2e3d4506-3cd3-4673-bf33-58f3ae23fdb0",
   "metadata": {},
   "outputs": [],
   "source": [
    "#15596\n",
    "#정수 N개의 합\n",
    "def solve(a):\n",
    "    return(sum(a))"
   ]
  },
  {
   "cell_type": "code",
   "execution_count": 35,
   "id": "a3c7664f-07b9-4fda-8ad3-31f2800146a4",
   "metadata": {},
   "outputs": [
    {
     "name": "stdout",
     "output_type": "stream",
     "text": [
      "1\n",
      "3\n",
      "5\n",
      "7\n",
      "9\n",
      "20\n",
      "31\n",
      "42\n",
      "53\n",
      "64\n"
     ]
    }
   ],
   "source": [
    "#4673\n",
    "#셀프 넘버\n",
    "def d(x):\n",
    "    num = \"\".join(str(x))\n",
    "    an = x+sum([int(i) for i in num])\n",
    "    return(an)\n",
    "comparison = [i for i in range(1,10001)]\n",
    "an_list = [d(i) for i in comparison]\n",
    "\n",
    "for i in comparison:\n",
    "    if i not in an_list:\n",
    "        print(i)"
   ]
  },
  {
   "cell_type": "code",
   "execution_count": 34,
   "id": "03966043-c093-4dee-9b47-5510de5da9e2",
   "metadata": {},
   "outputs": [
    {
     "name": "stdin",
     "output_type": "stream",
     "text": [
      " 1000\n"
     ]
    },
    {
     "name": "stdout",
     "output_type": "stream",
     "text": [
      "144\n"
     ]
    }
   ],
   "source": [
    "#1065\n",
    "#한수\n",
    "n = int(input())\n",
    "an = 0\n",
    "for i in range(1,n+1):\n",
    "    if i<10:\n",
    "        an+=1\n",
    "    else:\n",
    "        arr = [int(j) for j in ''.join(str(i))]\n",
    "        diff = arr[1]-arr[0]\n",
    "        error = 0\n",
    "        for k in range(1,len(arr)):\n",
    "            if arr[k]-arr[k-1] != diff:\n",
    "                error+=1\n",
    "        if error == 0:\n",
    "            an+=1        \n",
    "print(an)"
   ]
  }
 ],
 "metadata": {
  "kernelspec": {
   "display_name": "Python 3",
   "language": "python",
   "name": "python3"
  },
  "language_info": {
   "codemirror_mode": {
    "name": "ipython",
    "version": 3
   },
   "file_extension": ".py",
   "mimetype": "text/x-python",
   "name": "python",
   "nbconvert_exporter": "python",
   "pygments_lexer": "ipython3",
   "version": "3.8.8"
  }
 },
 "nbformat": 4,
 "nbformat_minor": 5
}
