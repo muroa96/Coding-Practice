{
 "cells": [
  {
   "cell_type": "code",
   "execution_count": 11,
   "id": "110114e4-7df2-44b8-91cc-010bccb9933e",
   "metadata": {},
   "outputs": [
    {
     "name": "stdin",
     "output_type": "stream",
     "text": [
      " 2\n",
      " 1 3\n"
     ]
    },
    {
     "name": "stdout",
     "output_type": "stream",
     "text": [
      "1\n"
     ]
    }
   ],
   "source": [
    "#1978\n",
    "#소수 찾기\n",
    "N = int(input())\n",
    "arr = list(map(int, input().split()))\n",
    "\n",
    "if 1 in arr:\n",
    "    N-=1\n",
    "for i in arr:\n",
    "    cnt = 0\n",
    "    for j in range(1,i+1):\n",
    "        if i%j==0:\n",
    "            cnt+=1\n",
    "        if cnt>=3:\n",
    "            N-=1\n",
    "            break\n",
    "print(N)"
   ]
  },
  {
   "cell_type": "code",
   "execution_count": 15,
   "id": "d8cac192-d7da-4a8a-b685-9618ebeaeca0",
   "metadata": {},
   "outputs": [
    {
     "name": "stdin",
     "output_type": "stream",
     "text": [
      " 64\n",
      " 65\n"
     ]
    },
    {
     "name": "stdout",
     "output_type": "stream",
     "text": [
      "-1\n"
     ]
    }
   ],
   "source": [
    "#2581\n",
    "#소수\n",
    "M = int(input())\n",
    "N = int(input())\n",
    "\n",
    "arr = [i for i in range(M, N+1)]\n",
    "ans = arr.copy()\n",
    "if 1 in ans:\n",
    "    ans.remove(1)\n",
    "\n",
    "for i in arr:\n",
    "    cnt = 0\n",
    "    for j in range(1,i+1):\n",
    "        if i%j==0:\n",
    "            cnt+=1\n",
    "        if cnt>=3:\n",
    "            ans.remove(i)\n",
    "            break\n",
    "\n",
    "if len(ans)==0:\n",
    "    print(-1)\n",
    "else:\n",
    "    print(sum(ans))\n",
    "    print(min(ans))"
   ]
  },
  {
   "cell_type": "code",
   "execution_count": 20,
   "id": "5ceed7e1-9b00-48cb-bd4d-23b889c5b843",
   "metadata": {},
   "outputs": [
    {
     "name": "stdin",
     "output_type": "stream",
     "text": [
      " 3\n"
     ]
    },
    {
     "ename": "KeyboardInterrupt",
     "evalue": "",
     "output_type": "error",
     "traceback": [
      "\u001b[1;31m---------------------------------------------------------------------------\u001b[0m",
      "\u001b[1;31mKeyboardInterrupt\u001b[0m                         Traceback (most recent call last)",
      "\u001b[1;32m<ipython-input-20-2d87abb7697e>\u001b[0m in \u001b[0;36m<module>\u001b[1;34m\u001b[0m\n\u001b[0;32m     23\u001b[0m     \u001b[1;32mwhile\u001b[0m \u001b[1;32mTrue\u001b[0m\u001b[1;33m:\u001b[0m\u001b[1;33m\u001b[0m\u001b[1;33m\u001b[0m\u001b[0m\n\u001b[0;32m     24\u001b[0m         \u001b[1;32mif\u001b[0m \u001b[0mn\u001b[0m\u001b[1;33m%\u001b[0m\u001b[0ml\u001b[0m \u001b[1;33m==\u001b[0m \u001b[1;36m0\u001b[0m\u001b[1;33m:\u001b[0m\u001b[1;33m\u001b[0m\u001b[1;33m\u001b[0m\u001b[0m\n\u001b[1;32m---> 25\u001b[1;33m             \u001b[0mx\u001b[0m \u001b[1;33m=\u001b[0m \u001b[0mn\u001b[0m\u001b[1;33m/\u001b[0m\u001b[0ml\u001b[0m\u001b[1;33m\u001b[0m\u001b[1;33m\u001b[0m\u001b[0m\n\u001b[0m\u001b[0;32m     26\u001b[0m         \u001b[1;32melif\u001b[0m \u001b[0mn\u001b[0m\u001b[1;33m%\u001b[0m\u001b[0ml\u001b[0m \u001b[1;33m!=\u001b[0m\u001b[1;36m0\u001b[0m\u001b[1;33m:\u001b[0m\u001b[1;33m\u001b[0m\u001b[1;33m\u001b[0m\u001b[0m\n\u001b[0;32m     27\u001b[0m             \u001b[1;32mbreak\u001b[0m\u001b[1;33m\u001b[0m\u001b[1;33m\u001b[0m\u001b[0m\n",
      "\u001b[1;31mKeyboardInterrupt\u001b[0m: "
     ]
    }
   ],
   "source": [
    "#11635\n",
    "#소인수분해\n",
    "n = int(input())\n",
    "arr = [i for i in range(1,n+1)]\n",
    "ans = arr.copy()\n",
    "#1빼기\n",
    "if 1 in ans:\n",
    "    ans.remove(1)\n",
    "#소수 구하기\n",
    "for i in arr:\n",
    "    cnt = 0\n",
    "    for j in range(1,i+1):\n",
    "        if i%j==0:\n",
    "            cnt+=1\n",
    "        if cnt>=3:\n",
    "            ans.remove(i)\n",
    "            break\n",
    "#소인수분해\n",
    "num = [k for k in ans if n%k==0]\n",
    "countnum = []\n",
    "for l in num:\n",
    "    counted = 0\n",
    "    while True:\n",
    "        if n%l == 0:\n",
    "            x = n/l\n",
    "        elif n%l !=0:\n",
    "            break\n",
    "    countnum.append(counted)\n",
    "\n",
    "for i in range(len(num)):\n",
    "    for _ in range(countnum[i]):\n",
    "        print(num[i])"
   ]
  },
  {
   "cell_type": "code",
   "execution_count": 17,
   "id": "4cc69a04-aa78-4550-a669-465874c9020f",
   "metadata": {},
   "outputs": [
    {
     "name": "stdout",
     "output_type": "stream",
     "text": [
      "[3]\n"
     ]
    }
   ],
   "source": [
    "xxx = [1,2,3]\n",
    "empty = []\n",
    "empty.append(xxx[0]*3)\n",
    "print(empty)"
   ]
  }
 ],
 "metadata": {
  "kernelspec": {
   "display_name": "Python 3",
   "language": "python",
   "name": "python3"
  },
  "language_info": {
   "codemirror_mode": {
    "name": "ipython",
    "version": 3
   },
   "file_extension": ".py",
   "mimetype": "text/x-python",
   "name": "python",
   "nbconvert_exporter": "python",
   "pygments_lexer": "ipython3",
   "version": "3.8.8"
  }
 },
 "nbformat": 4,
 "nbformat_minor": 5
}
