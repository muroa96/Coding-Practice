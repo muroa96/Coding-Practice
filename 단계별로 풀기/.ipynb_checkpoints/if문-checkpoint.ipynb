{
 "cells": [
  {
   "cell_type": "code",
   "execution_count": 1,
   "id": "0fc1027b-aed8-44e2-b66b-85ad46abdcb5",
   "metadata": {},
   "outputs": [
    {
     "name": "stdin",
     "output_type": "stream",
     "text": [
      " 1 2\n"
     ]
    },
    {
     "name": "stdout",
     "output_type": "stream",
     "text": [
      "<\n"
     ]
    }
   ],
   "source": [
    "#1330\n",
    "#두 수 비교하기\n",
    "A, B = map(int, input().split())\n",
    "if A>B: print('>')\n",
    "if A<B: print('<')\n",
    "if A==B: print('==')"
   ]
  },
  {
   "cell_type": "code",
   "execution_count": 6,
   "id": "52e8fb45-4481-4802-92e2-f47fcc46f59c",
   "metadata": {},
   "outputs": [
    {
     "name": "stdin",
     "output_type": "stream",
     "text": [
      " 68\n"
     ]
    },
    {
     "name": "stdout",
     "output_type": "stream",
     "text": [
      "D\n"
     ]
    }
   ],
   "source": [
    "#9498\n",
    "#시험 성적\n",
    "score = int(input())\n",
    "if 90<=score<=100: print('A')\n",
    "if 80<=score<=89: print('B')\n",
    "if 70<=score<=79: print('C')\n",
    "if 60<=score<=69: print('D')\n",
    "if score<60: print('F')"
   ]
  },
  {
   "cell_type": "code",
   "execution_count": 7,
   "id": "713741d3-aafe-4abe-a12a-4fb2f59750ea",
   "metadata": {},
   "outputs": [
    {
     "name": "stdin",
     "output_type": "stream",
     "text": [
      " 1999\n"
     ]
    },
    {
     "name": "stdout",
     "output_type": "stream",
     "text": [
      "0\n"
     ]
    }
   ],
   "source": [
    "#2753\n",
    "#윤년\n",
    "x = int(input())\n",
    "if x % 4 ==0 and x % 100 !=0:\n",
    "    print(1)\n",
    "elif x % 400 == 0:\n",
    "    print(1)\n",
    "else:\n",
    "    print(0)"
   ]
  },
  {
   "cell_type": "code",
   "execution_count": 9,
   "id": "94c4df82-b88a-425c-a4f0-a7d11610669b",
   "metadata": {},
   "outputs": [
    {
     "name": "stdin",
     "output_type": "stream",
     "text": [
      " 12\n",
      " 5\n"
     ]
    },
    {
     "name": "stdout",
     "output_type": "stream",
     "text": [
      "1\n"
     ]
    }
   ],
   "source": [
    "#14681\n",
    "#사분면 고르기\n",
    "x = int(input())\n",
    "y = int(input())\n",
    "if x > 0 and y > 0:\n",
    "    print(\"1\")\n",
    "elif x < 0 and y > 0:\n",
    "    print(\"2\")\n",
    "elif x < 0 and y < 0:\n",
    "    print(\"3\")\n",
    "elif x > 0 and y < 0:\n",
    "    print(\"4\")"
   ]
  },
  {
   "cell_type": "code",
   "execution_count": 10,
   "id": "c05a62db-7c6d-41b7-a0d4-68f0bc9d31e9",
   "metadata": {},
   "outputs": [
    {
     "name": "stdin",
     "output_type": "stream",
     "text": [
      " 10 10\n"
     ]
    },
    {
     "name": "stdout",
     "output_type": "stream",
     "text": [
      "9 25\n"
     ]
    }
   ],
   "source": [
    "#2884\n",
    "#알람 시계\n",
    "H, M = map(int, input().split())\n",
    "if H ==0 and M < 45:\n",
    "    print(23, 60-(45-M))\n",
    "else:\n",
    "    print((H * 60 + M - 45)//60, (H * 60 + M - 45)%60)"
   ]
  },
  {
   "cell_type": "code",
   "execution_count": 23,
   "id": "bdcf06a8-787d-42d6-b209-18c54df580e0",
   "metadata": {},
   "outputs": [
    {
     "name": "stdin",
     "output_type": "stream",
     "text": [
      " 23 48\n",
      " 25\n"
     ]
    },
    {
     "name": "stdout",
     "output_type": "stream",
     "text": [
      "0 13\n"
     ]
    }
   ],
   "source": [
    "#2525\n",
    "#오븐 시계\n",
    "a, b = map(int, input().split())\n",
    "c = int(input())\n",
    "\n",
    "con = a*60+b+c\n",
    "hours=con//60\n",
    "minutes=con%60\n",
    "if hours>=24:\n",
    "    print(hours%24,minutes)\n",
    "else:\n",
    "    print(hours,minutes)\n"
   ]
  },
  {
   "cell_type": "code",
   "execution_count": 42,
   "id": "71defe0e-72a3-41c4-a39f-5ff4e01fd9b8",
   "metadata": {},
   "outputs": [
    {
     "name": "stdin",
     "output_type": "stream",
     "text": [
      " 3 6 6\n"
     ]
    },
    {
     "name": "stdout",
     "output_type": "stream",
     "text": [
      "1600\n"
     ]
    }
   ],
   "source": [
    "#2480\n",
    "#주사위 세개\n",
    "x, y, z = map(int, input().split())\n",
    "if x==y==z:\n",
    "    print(10000+x*1000)\n",
    "elif x==y or x==z or y==z:\n",
    "    if x==y!=z:\n",
    "        print(1000+x*100)\n",
    "    if x==z!=y:\n",
    "        print(1000+x*100)\n",
    "    if z==y!=x:\n",
    "        print(1000+z*100)\n",
    "else:\n",
    "    print(max(x,y,z)*100)"
   ]
  }
 ],
 "metadata": {
  "kernelspec": {
   "display_name": "Python 3",
   "language": "python",
   "name": "python3"
  },
  "language_info": {
   "codemirror_mode": {
    "name": "ipython",
    "version": 3
   },
   "file_extension": ".py",
   "mimetype": "text/x-python",
   "name": "python",
   "nbconvert_exporter": "python",
   "pygments_lexer": "ipython3",
   "version": "3.8.8"
  }
 },
 "nbformat": 4,
 "nbformat_minor": 5
}
