{
 "cells": [
  {
   "cell_type": "code",
   "execution_count": 63,
   "id": "438b2d72-fbf5-4fd2-83c6-c4f1015f0dd5",
   "metadata": {},
   "outputs": [
    {
     "name": "stdin",
     "output_type": "stream",
     "text": [
      " 5 5 1\n",
      " 1 4\n",
      " 1 2\n",
      " 2 3\n",
      " 2 4\n",
      " 3 4\n"
     ]
    },
    {
     "name": "stdout",
     "output_type": "stream",
     "text": [
      "1\n",
      "2\n",
      "3\n",
      "4\n",
      "0\n"
     ]
    }
   ],
   "source": [
    "#24479\n",
    "#알고리즘 수업 - 깊이 우선 탐색 1\n",
    "from collections import deque\n",
    "import sys\n",
    "n, m, r = map(int, sys.stdin.readline().rstrip().split())\n",
    "graph = [[] for _ in range(n+1)]\n",
    "order = [0 for _ in range(n+1)]\n",
    "visited = [False]*(n+1)\n",
    "for _ in range(m):\n",
    "    x, y = map(int, sys.stdin.readline().rstrip().split())\n",
    "    graph[x].append(y)\n",
    "    graph[y].append(x)\n",
    "for i in graph:\n",
    "    if len(i)!=0:\n",
    "        i.sort(reverse = True)\n",
    "cnt = 1\n",
    "stack = deque()\n",
    "stack.append(r)\n",
    "while stack:\n",
    "    node = stack.pop()\n",
    "    visited[node] = True\n",
    "    if order[node]==0:\n",
    "        order[node] = cnt\n",
    "        cnt+=1\n",
    "    for next_node in graph[node]:\n",
    "        if not visited[next_node]:\n",
    "            stack.append(next_node)\n",
    "\n",
    "for cnt in order[1:]:\n",
    "    print(cnt)"
   ]
  },
  {
   "cell_type": "code",
   "execution_count": 2,
   "id": "1b4f5b50-e8c9-468b-9e5c-243dc9021354",
   "metadata": {},
   "outputs": [],
   "source": [
    "#24480\n",
    "#알고리즘 수업 - 깊이 우선 탐색 2"
   ]
  },
  {
   "cell_type": "code",
   "execution_count": 3,
   "id": "fcf113a3-809e-4593-aa1b-63bf15697aad",
   "metadata": {},
   "outputs": [],
   "source": [
    "#24444\n",
    "#알고리즘 수업 - 너비 우선 탐색 1"
   ]
  },
  {
   "cell_type": "code",
   "execution_count": 4,
   "id": "7599c3f3-1e78-4395-9e1f-c83bc91c892b",
   "metadata": {},
   "outputs": [],
   "source": [
    "#24445\n",
    "#알고리즘 수업 - 너비 우선 탐색 2"
   ]
  },
  {
   "cell_type": "code",
   "execution_count": 79,
   "id": "a878cbce-7d2b-4372-8894-9cc3250db18f",
   "metadata": {},
   "outputs": [
    {
     "name": "stdout",
     "output_type": "stream",
     "text": [
      "[False, True, True, True, False, True, True, False]\n",
      "4\n"
     ]
    }
   ],
   "source": [
    "#2606\n",
    "#바이러스\n",
    "import sys\n",
    "n = int(input())\n",
    "m = int(input())\n",
    "graph = [[] for _ in range(n+1)]\n",
    "\n",
    "for _ in range(m):\n",
    "    x, y = map(int, sys.stdin.readline().rstrip().split())\n",
    "    graph[x].append(y)\n",
    "    graph[y].append(x)\n",
    "# n, m= 7, 6\n",
    "# graph = [[],[2,5],[1,3,5],[2],[],[1,2,6],[5],[]]    \n",
    "visited = [False] * (n+1)\n",
    "for i in graph:\n",
    "    if len(i)>0:\n",
    "        i.sort()\n",
    "        \n",
    "def dfs(graph, v, visited):\n",
    "    visited[v] = True\n",
    "    for i in graph[v]:\n",
    "        if not visited[i]:\n",
    "            dfs(graph, i, visited)\n",
    "\n",
    "dfs(graph, 1, visited)\n",
    "print(visited.count(True)-1)"
   ]
  },
  {
   "cell_type": "code",
   "execution_count": 38,
   "id": "700cf97b-2269-4241-910d-24eb1101c98c",
   "metadata": {},
   "outputs": [
    {
     "name": "stdin",
     "output_type": "stream",
     "text": [
      " 5 5 3\n",
      " 5 4\n",
      " 5 2\n",
      " 1 2\n",
      " 3 4\n",
      " 3 1\n"
     ]
    },
    {
     "name": "stdout",
     "output_type": "stream",
     "text": [
      "3 1 2 5 4 \n",
      "3 1 4 2 5 "
     ]
    }
   ],
   "source": [
    "#1260\n",
    "#DFS와 BFS\n",
    "from collections import deque\n",
    "n, m, r = map(int, input().split())\n",
    "graph = [[] for _ in range(n+1)]\n",
    "for _ in range(m):\n",
    "    x, y = map(int, input().split())\n",
    "    graph[x].append(y)\n",
    "    graph[y].append(x)\n",
    "# n, m, r = 4, 5, 1\n",
    "# graph = [[], [2, 3, 4], [1, 4], [1, 4], [1, 2, 3]]\n",
    "for i in graph:\n",
    "    if len(i)!=0:\n",
    "        i.sort()\n",
    "def dfs(graph, r):\n",
    "    visited = []\n",
    "    stack = []\n",
    "    stack.append(r)\n",
    "    while stack:\n",
    "        node = stack.pop()\n",
    "        if node not in visited:\n",
    "            visited.append(node)\n",
    "            stack.extend(reversed(graph[node]))\n",
    "    for i in visited:\n",
    "        print(i, end = ' ')\n",
    "\n",
    "def bfs(graph, r):\n",
    "    visited = []\n",
    "    queue = deque()\n",
    "    \n",
    "    queue.append(r)\n",
    "    while queue:\n",
    "        node = queue.popleft()\n",
    "        if node not in visited:\n",
    "            visited.append(node)\n",
    "            queue.extend(graph[node])\n",
    "    for i in visited:\n",
    "        print(i, end = ' ')\n",
    "\n",
    "dfs(graph, r)\n",
    "print('')\n",
    "bfs(graph, r)"
   ]
  },
  {
   "cell_type": "code",
   "execution_count": 122,
   "id": "7062a4d8-d632-4288-a464-de939f680e10",
   "metadata": {},
   "outputs": [
    {
     "name": "stdin",
     "output_type": "stream",
     "text": [
      " 7\n",
      " 0110100\n",
      " 0110101\n",
      " 1110101\n",
      " 0000111\n",
      " 0100000\n",
      " 0111110\n",
      " 0111000\n"
     ]
    },
    {
     "name": "stdout",
     "output_type": "stream",
     "text": [
      "3\n",
      "7\n",
      "8\n",
      "9\n"
     ]
    }
   ],
   "source": [
    "#2667\n",
    "#단지 번호 붙이기\n",
    "# n = 7\n",
    "# graph = [[0,1,1,0,1,0,0],[0,1,1,0,1,0,1],[1,1,1,0,1,0,1],[0,0,0,0,1,1,1],\n",
    "#          [0,1,0,0,0,0,0],[0,1,1,1,1,1,0],[0,1,1,1,0,0,0]]\n",
    "def dfs(x, y):\n",
    "    # 주어진 범위를 벗어나는 경우에는 즉시 종료\n",
    "    if x<=-1 or y<=-1 or x>=n or y>=n:\n",
    "        return False\n",
    "    if graph[x][y] == 1:\n",
    "        graph[x][y] = 0\n",
    "        ls.append(True)\n",
    "        dfs(x-1,y)\n",
    "        dfs(x,y+1)\n",
    "        dfs(x+1,y)\n",
    "        dfs(x,y-1)\n",
    "        return True\n",
    "    return False\n",
    "\n",
    "n = int(input())\n",
    "graph = []\n",
    "for _ in range(n):\n",
    "    graph.append(list(map(int, input())))\n",
    "result = 0\n",
    "ans = []\n",
    "\n",
    "for i in range(n):\n",
    "    for j in range(n):\n",
    "        # 현재 위치에서 DFS 수행\n",
    "        ls = []\n",
    "        if dfs(i, j) ==True:\n",
    "            result+=1\n",
    "            ans.append(len(ls))\n",
    "ans.sort()\n",
    "print(result)\n",
    "for i in ans:\n",
    "    print(i)"
   ]
  },
  {
   "cell_type": "code",
   "execution_count": 147,
   "id": "8f1677aa-5c11-4715-ada5-2a8958bde376",
   "metadata": {},
   "outputs": [
    {
     "name": "stdin",
     "output_type": "stream",
     "text": [
      " 1\n",
      " 5 3 6\n",
      " 0 2\n",
      " 1 2\n",
      " 2 2\n",
      " 3 2\n",
      " 4 2\n",
      " 4 0\n"
     ]
    },
    {
     "name": "stdout",
     "output_type": "stream",
     "text": [
      "1\n"
     ]
    }
   ],
   "source": [
    "## 1012\n",
    "#유기농 배추\n",
    "def dfs(x,y):\n",
    "    if x<=-1 or x>=m or y<=-1 or y>=n:\n",
    "        return False\n",
    "    if graph[y][x]==0:\n",
    "        graph[y][x]=1\n",
    "        dfs(x,y-1)\n",
    "        dfs(x,y+1)\n",
    "        dfs(x+1,y)\n",
    "        dfs(x-1,y)\n",
    "        return True\n",
    "    return False\n",
    "\n",
    "t = int(input())\n",
    "for _ in range(t):\n",
    "    m, n, k = map(int, input().split())\n",
    "    graph = [[0]*m for _ in range(n)]\n",
    "    for _ in range(k):\n",
    "        y, x = map(int, input().split())\n",
    "        graph[x][y] = 1\n",
    "\n",
    "    answer = 0\n",
    "    for i in range(m):\n",
    "        for j in range(n):\n",
    "            if dfs(i,j)==True:\n",
    "                answer+=1\n",
    "    print(answer)"
   ]
  },
  {
   "cell_type": "code",
   "execution_count": 134,
   "id": "a2b0d487-d244-4fe2-a23a-f437deeeb300",
   "metadata": {},
   "outputs": [
    {
     "name": "stdin",
     "output_type": "stream",
     "text": [
      " 5 3 6\n"
     ]
    },
    {
     "name": "stdout",
     "output_type": "stream",
     "text": [
      "[[0, 0, 0, 0, 0], [0, 0, 0, 0, 0], [0, 0, 0, 0, 0]]\n"
     ]
    },
    {
     "name": "stdin",
     "output_type": "stream",
     "text": [
      " 0 2\n",
      " 1 2\n",
      " 2 2\n",
      " 3 2\n",
      " 4 2\n",
      " 4 0\n"
     ]
    },
    {
     "name": "stdout",
     "output_type": "stream",
     "text": [
      "[[0, 0, 0, 0, 1], [0, 0, 0, 0, 0], [1, 1, 1, 1, 1]]\n"
     ]
    }
   ],
   "source": [
    "m, n, k = map(int, input().split())\n",
    "graph = [[0]*m for _ in range(n)]\n",
    "print(graph)\n",
    "for _ in range(k):\n",
    "    y, x = map(int, input().split())\n",
    "    graph[x][y] = 1\n",
    "print(graph)"
   ]
  },
  {
   "cell_type": "code",
   "execution_count": 43,
   "id": "afbbec4d-7e11-47e5-bee2-2418654e674f",
   "metadata": {},
   "outputs": [
    {
     "name": "stdin",
     "output_type": "stream",
     "text": [
      " 4 6\n",
      " 101111\n",
      " 101010\n",
      " 101011\n",
      " 111011\n"
     ]
    },
    {
     "name": "stdout",
     "output_type": "stream",
     "text": [
      "15\n"
     ]
    }
   ],
   "source": [
    "#2178\n",
    "#미로 탐색\n",
    "from collections import deque\n",
    "n, m = map(int, input().split())\n",
    "graph = []\n",
    "for _ in range(n):\n",
    "    graph.append(list(map(int, input())))\n",
    "\n",
    "dx = [-1,1,0,0]\n",
    "dy = [0,0,-1,1]\n",
    "def bfs(x, y):\n",
    "    queue = deque()\n",
    "    queue.append((x,y))\n",
    "    \n",
    "    while queue:\n",
    "        x, y = queue.popleft()\n",
    "        for i in range(4):\n",
    "            nx = x+dx[i]\n",
    "            ny = y+dy[i]\n",
    "            if nx<0 or nx>=n or ny<0 or ny>=m:\n",
    "                continue\n",
    "            if graph[nx][ny]==0:\n",
    "                continue\n",
    "            if graph[nx][ny]==1:\n",
    "                graph[nx][ny] = graph[x][y]+1\n",
    "                queue.append((nx,ny))\n",
    "    return graph[n-1][m-1]\n",
    "\n",
    "print(bfs(0,0))"
   ]
  },
  {
   "cell_type": "code",
   "execution_count": 10,
   "id": "1accdff1-08e5-4357-82a1-d53a8648a4b8",
   "metadata": {},
   "outputs": [],
   "source": [
    "#7576\n",
    "#토마토"
   ]
  },
  {
   "cell_type": "code",
   "execution_count": 11,
   "id": "625ef2d6-c096-42e0-aee1-92e4b8536083",
   "metadata": {},
   "outputs": [],
   "source": [
    "#7569\n",
    "#토마토"
   ]
  },
  {
   "cell_type": "code",
   "execution_count": 12,
   "id": "10a05fb2-ea9a-4eb6-a993-39dfa1b61520",
   "metadata": {},
   "outputs": [],
   "source": [
    "#1697\n",
    "#숨바꼭질"
   ]
  },
  {
   "cell_type": "code",
   "execution_count": 13,
   "id": "86cfa58b-d2ad-4858-aaa4-daa3b744ba29",
   "metadata": {},
   "outputs": [],
   "source": [
    "#7562\n",
    "#나이트의 이동"
   ]
  },
  {
   "cell_type": "code",
   "execution_count": 14,
   "id": "f87785d4-694a-40e5-b594-96193392f8ce",
   "metadata": {},
   "outputs": [],
   "source": [
    "#16928\n",
    "#뱀과 사다리 게임"
   ]
  },
  {
   "cell_type": "code",
   "execution_count": 15,
   "id": "4c1ce1ba-3764-466e-bda5-bb344a0fe78d",
   "metadata": {},
   "outputs": [],
   "source": [
    "#2206\n",
    "#벽 부수고 이동하기"
   ]
  },
  {
   "cell_type": "code",
   "execution_count": 16,
   "id": "8fb93bfb-027c-4d5b-adfb-c3a2722f5613",
   "metadata": {},
   "outputs": [],
   "source": [
    "#1707\n",
    "#이분 그래프"
   ]
  }
 ],
 "metadata": {
  "kernelspec": {
   "display_name": "Python 3",
   "language": "python",
   "name": "python3"
  },
  "language_info": {
   "codemirror_mode": {
    "name": "ipython",
    "version": 3
   },
   "file_extension": ".py",
   "mimetype": "text/x-python",
   "name": "python",
   "nbconvert_exporter": "python",
   "pygments_lexer": "ipython3",
   "version": "3.8.8"
  }
 },
 "nbformat": 4,
 "nbformat_minor": 5
}
