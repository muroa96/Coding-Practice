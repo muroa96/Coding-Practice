{
 "cells": [
  {
   "cell_type": "code",
   "execution_count": 100,
   "id": "438b2d72-fbf5-4fd2-83c6-c4f1015f0dd5",
   "metadata": {},
   "outputs": [
    {
     "name": "stdout",
     "output_type": "stream",
     "text": [
      "1\n",
      "4\n",
      "3\n",
      "2\n",
      "0\n"
     ]
    }
   ],
   "source": [
    "#24479\n",
    "#알고리즘 수업 - 깊이 우선 탐색 1\n",
    "# n, m, r = map(int, input().split())\n",
    "# graph = [[] for _ in range(n+1)]\n",
    "# for _ in range(m):\n",
    "#     x, y = map(int, input().split())\n",
    "#     graph[x].append(y)\n",
    "#     graph[y].append(x)\n",
    "# for i in graph:\n",
    "#     if len(i)!=0:\n",
    "#         i.sort()\n",
    "graph = [[], [4,2], [1, 3, 4], [2, 4], [1, 2, 3], []]\n",
    "n, m, r = 5, 5, 1\n",
    "# def dfs(graph, v, visited, cnt):\n",
    "#     visited[v] = True\n",
    "#     order[v] = cnt\n",
    "#     for i in graph[v]:\n",
    "#         if not visited[i]:\n",
    "#             dfs(graph, i, visited, cnt+1)\n",
    "# dfs(graph, r, visited, 1)\n",
    "# for i in order[1:]:\n",
    "#     print(i)\n",
    "def dfs2(graph, n, r):\n",
    "    from collections import deque\n",
    "    visited = []\n",
    "    stack = deque()\n",
    "    stack.append(r)\n",
    "    while stack:\n",
    "        mini = max(stack)\n",
    "        while True:\n",
    "            node = stack.popleft()\n",
    "            if mini == node:\n",
    "                break\n",
    "        if node not in visited:\n",
    "            visited.append(node)\n",
    "            stack.extend(graph[node])\n",
    "            stack = deque([i for i in stack if i not in visited])\n",
    "    return visited\n",
    "ls = dfs2(graph, n, r)\n",
    "for i in range(1,n+1):\n",
    "    if i in ls:\n",
    "        print(ls.index(i)+1)\n",
    "    else:\n",
    "        print(0)"
   ]
  },
  {
   "cell_type": "code",
   "execution_count": 91,
   "id": "31d7a9df-7f72-4c4d-9c55-f8179ff25d74",
   "metadata": {},
   "outputs": [
    {
     "name": "stdout",
     "output_type": "stream",
     "text": [
      "deque([3])\n"
     ]
    }
   ],
   "source": [
    "x = deque()\n",
    "x.append(1)\n",
    "x.append(2)\n",
    "x.append(3)\n",
    "ls = [1,2]\n",
    "x = deque([i for i in x if i not in ls])\n",
    "print(x)"
   ]
  },
  {
   "cell_type": "code",
   "execution_count": 60,
   "id": "3b5283a8-b0cd-4fab-ac0f-91500faa8211",
   "metadata": {},
   "outputs": [
    {
     "name": "stdout",
     "output_type": "stream",
     "text": [
      "0\n"
     ]
    }
   ],
   "source": []
  },
  {
   "cell_type": "code",
   "execution_count": 2,
   "id": "1b4f5b50-e8c9-468b-9e5c-243dc9021354",
   "metadata": {},
   "outputs": [],
   "source": [
    "#24480\n",
    "#알고리즘 수업 - 깊이 우선 탐색 2"
   ]
  },
  {
   "cell_type": "code",
   "execution_count": 3,
   "id": "fcf113a3-809e-4593-aa1b-63bf15697aad",
   "metadata": {},
   "outputs": [],
   "source": [
    "#24444\n",
    "#알고리즘 수업 - 너비 우선 탐색 1"
   ]
  },
  {
   "cell_type": "code",
   "execution_count": 4,
   "id": "7599c3f3-1e78-4395-9e1f-c83bc91c892b",
   "metadata": {},
   "outputs": [],
   "source": [
    "#24445\n",
    "#알고리즘 수업 - 너비 우선 탐색 2"
   ]
  },
  {
   "cell_type": "code",
   "execution_count": 5,
   "id": "a878cbce-7d2b-4372-8894-9cc3250db18f",
   "metadata": {},
   "outputs": [],
   "source": [
    "#2606\n",
    "#바이러스"
   ]
  },
  {
   "cell_type": "code",
   "execution_count": 103,
   "id": "700cf97b-2269-4241-910d-24eb1101c98c",
   "metadata": {},
   "outputs": [
    {
     "data": {
      "text/plain": [
       "[1, 4, 3, 2]"
      ]
     },
     "execution_count": 103,
     "metadata": {},
     "output_type": "execute_result"
    }
   ],
   "source": [
    "#1260\n",
    "#DFS와 BFS\n",
    "from collections import deque\n",
    "# n, m, r = map(int, input().split())\n",
    "# graph = [[] for _ in range(n+1)]\n",
    "# for _ in range(m):\n",
    "#     x, y = map(int, input().split())\n",
    "#     graph[x].append(y)\n",
    "#     graph[y].append(x)\n",
    "n, m, r = 4, 5, 1\n",
    "graph = [[], [2, 3, 4], [1, 4], [1, 4], [1, 2, 3]]\n",
    "\n",
    "def dfs(graph, r):\n",
    "    visited = []\n",
    "    stack = deque()\n",
    "    stack.append(r)\n",
    "    while stack:\n",
    "        node = stack.pop()\n",
    "        if node not in visited:\n",
    "            visited.append(node)\n",
    "            stack.extend(graph[node])\n",
    "    return visited\n",
    "\n",
    "dfs(graph, r)"
   ]
  },
  {
   "cell_type": "code",
   "execution_count": 7,
   "id": "7062a4d8-d632-4288-a464-de939f680e10",
   "metadata": {},
   "outputs": [],
   "source": [
    "#2667\n",
    "#단지 번호 붙이기"
   ]
  },
  {
   "cell_type": "code",
   "execution_count": 8,
   "id": "d26071a2-3dde-4dab-9009-e9dd2c332d82",
   "metadata": {},
   "outputs": [],
   "source": [
    "#1012\n",
    "#유기농 배추"
   ]
  },
  {
   "cell_type": "code",
   "execution_count": 9,
   "id": "afbbec4d-7e11-47e5-bee2-2418654e674f",
   "metadata": {},
   "outputs": [],
   "source": [
    "#2178\n",
    "#미로 탐색"
   ]
  },
  {
   "cell_type": "code",
   "execution_count": 10,
   "id": "1accdff1-08e5-4357-82a1-d53a8648a4b8",
   "metadata": {},
   "outputs": [],
   "source": [
    "#7576\n",
    "#토마토"
   ]
  },
  {
   "cell_type": "code",
   "execution_count": 11,
   "id": "625ef2d6-c096-42e0-aee1-92e4b8536083",
   "metadata": {},
   "outputs": [],
   "source": [
    "#7569\n",
    "#토마토"
   ]
  },
  {
   "cell_type": "code",
   "execution_count": 12,
   "id": "10a05fb2-ea9a-4eb6-a993-39dfa1b61520",
   "metadata": {},
   "outputs": [],
   "source": [
    "#1697\n",
    "#숨바꼭질"
   ]
  },
  {
   "cell_type": "code",
   "execution_count": 13,
   "id": "86cfa58b-d2ad-4858-aaa4-daa3b744ba29",
   "metadata": {},
   "outputs": [],
   "source": [
    "#7562\n",
    "#나이트의 이동"
   ]
  },
  {
   "cell_type": "code",
   "execution_count": 14,
   "id": "f87785d4-694a-40e5-b594-96193392f8ce",
   "metadata": {},
   "outputs": [],
   "source": [
    "#16928\n",
    "#뱀과 사다리 게임"
   ]
  },
  {
   "cell_type": "code",
   "execution_count": 15,
   "id": "4c1ce1ba-3764-466e-bda5-bb344a0fe78d",
   "metadata": {},
   "outputs": [],
   "source": [
    "#2206\n",
    "#벽 부수고 이동하기"
   ]
  },
  {
   "cell_type": "code",
   "execution_count": 16,
   "id": "8fb93bfb-027c-4d5b-adfb-c3a2722f5613",
   "metadata": {},
   "outputs": [],
   "source": [
    "#1707\n",
    "#이분 그래프"
   ]
  }
 ],
 "metadata": {
  "kernelspec": {
   "display_name": "Python 3",
   "language": "python",
   "name": "python3"
  },
  "language_info": {
   "codemirror_mode": {
    "name": "ipython",
    "version": 3
   },
   "file_extension": ".py",
   "mimetype": "text/x-python",
   "name": "python",
   "nbconvert_exporter": "python",
   "pygments_lexer": "ipython3",
   "version": "3.8.8"
  }
 },
 "nbformat": 4,
 "nbformat_minor": 5
}
