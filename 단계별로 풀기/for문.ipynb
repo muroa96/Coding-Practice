{
 "cells": [
  {
   "cell_type": "code",
   "execution_count": 1,
   "id": "7602f9f0-9e91-48d7-9170-eab23bba666f",
   "metadata": {},
   "outputs": [
    {
     "name": "stdin",
     "output_type": "stream",
     "text": [
      " 2\n"
     ]
    },
    {
     "name": "stdout",
     "output_type": "stream",
     "text": [
      "2 * 1 = 2\n",
      "2 * 2 = 4\n",
      "2 * 3 = 6\n",
      "2 * 4 = 8\n",
      "2 * 5 = 10\n",
      "2 * 6 = 12\n",
      "2 * 7 = 14\n",
      "2 * 8 = 16\n",
      "2 * 9 = 18\n"
     ]
    }
   ],
   "source": [
    "#2739\n",
    "#구구단\n",
    "n = int(input())\n",
    "for i in range(1,10):\n",
    "    print(n,'*',i,'=',n*i)"
   ]
  },
  {
   "cell_type": "code",
   "execution_count": 2,
   "id": "c0e34ca1-203a-4eaf-bed6-253228bee1bc",
   "metadata": {},
   "outputs": [
    {
     "name": "stdin",
     "output_type": "stream",
     "text": [
      " 5\n",
      " 1 1\n"
     ]
    },
    {
     "name": "stdout",
     "output_type": "stream",
     "text": [
      "2\n"
     ]
    },
    {
     "name": "stdin",
     "output_type": "stream",
     "text": [
      " 2 3\n"
     ]
    },
    {
     "name": "stdout",
     "output_type": "stream",
     "text": [
      "5\n"
     ]
    },
    {
     "name": "stdin",
     "output_type": "stream",
     "text": [
      " 3 4\n"
     ]
    },
    {
     "name": "stdout",
     "output_type": "stream",
     "text": [
      "7\n"
     ]
    },
    {
     "name": "stdin",
     "output_type": "stream",
     "text": [
      " 9 8\n"
     ]
    },
    {
     "name": "stdout",
     "output_type": "stream",
     "text": [
      "17\n"
     ]
    },
    {
     "name": "stdin",
     "output_type": "stream",
     "text": [
      " 5 2\n"
     ]
    },
    {
     "name": "stdout",
     "output_type": "stream",
     "text": [
      "7\n"
     ]
    }
   ],
   "source": [
    "#10950\n",
    "#A+B-3\n",
    "n = int(input())\n",
    "for _ in range(n):\n",
    "    a, b = map(int, input().split())\n",
    "    print(a+b)"
   ]
  },
  {
   "cell_type": "code",
   "execution_count": 3,
   "id": "2818f7b7-ae0d-41de-806c-abdd5256c6f5",
   "metadata": {},
   "outputs": [
    {
     "name": "stdin",
     "output_type": "stream",
     "text": [
      " 3\n"
     ]
    },
    {
     "name": "stdout",
     "output_type": "stream",
     "text": [
      "6\n"
     ]
    }
   ],
   "source": [
    "#8393\n",
    "#합\n",
    "\n",
    "n = int(input())\n",
    "an=0\n",
    "for i in range(1,n+1):\n",
    "    an+=i\n",
    "print(an)"
   ]
  },
  {
   "cell_type": "code",
   "execution_count": null,
   "id": "ba9769cc-ad4a-4de1-837b-b9a98ee4369f",
   "metadata": {},
   "outputs": [],
   "source": [
    "#15552\n",
    "#빠른 A+B\n",
    "import sys\n",
    "\n",
    "t = int(input())\n",
    "for i in range(t):\n",
    "    a, b = map(int, sys.stdin.readline().split())\n",
    "    print(a+b)"
   ]
  },
  {
   "cell_type": "code",
   "execution_count": 1,
   "id": "bb66d92f-19da-43bc-a252-6e5c6c10a305",
   "metadata": {},
   "outputs": [
    {
     "name": "stdin",
     "output_type": "stream",
     "text": [
      " 5\n"
     ]
    },
    {
     "name": "stdout",
     "output_type": "stream",
     "text": [
      "1\n",
      "2\n",
      "3\n",
      "4\n",
      "5\n"
     ]
    }
   ],
   "source": [
    "#2741\n",
    "#N 찍기\n",
    "n = int(input())\n",
    "for i in range(1,n+1):\n",
    "    print(i)"
   ]
  },
  {
   "cell_type": "code",
   "execution_count": 2,
   "id": "9bc947f5-9b77-4c67-a57a-f2e295cda685",
   "metadata": {},
   "outputs": [
    {
     "name": "stdin",
     "output_type": "stream",
     "text": [
      " 5\n"
     ]
    },
    {
     "name": "stdout",
     "output_type": "stream",
     "text": [
      "5\n",
      "4\n",
      "3\n",
      "2\n",
      "1\n"
     ]
    }
   ],
   "source": [
    "#2742\n",
    "#기찍N\n",
    "n = int(input())\n",
    "for i in range(1,n+1):\n",
    "    print(n+1-i)"
   ]
  },
  {
   "cell_type": "code",
   "execution_count": null,
   "id": "1ef59517-ff1f-444b-9355-2d1374846fd4",
   "metadata": {},
   "outputs": [],
   "source": [
    "#11021\n",
    "#A+B-7\n",
    "import sys\n",
    "n = int(input())\n",
    "for i in range(1,n+1):\n",
    "    a, b = map(int, sys.stdin.readline().split())\n",
    "    print('Case #'+str(i)+':',str(a+b))"
   ]
  },
  {
   "cell_type": "code",
   "execution_count": null,
   "id": "8f4ffa69-edea-4b66-ba7b-fd2cd2297870",
   "metadata": {},
   "outputs": [],
   "source": [
    "#11022\n",
    "#A+B-8\n",
    "import sys\n",
    "n = int(input())\n",
    "for i in range(1,n+1):\n",
    "    a, b = map(int, sys.stdin.readline().split())\n",
    "    print('Case #'+str(i)+':',str(a),'+',str(b),'=',str(a+b))"
   ]
  },
  {
   "cell_type": "code",
   "execution_count": 11,
   "id": "65fc910a-1ff0-4b88-8180-5c822ee63ec3",
   "metadata": {},
   "outputs": [
    {
     "name": "stdin",
     "output_type": "stream",
     "text": [
      " 5\n"
     ]
    },
    {
     "name": "stdout",
     "output_type": "stream",
     "text": [
      "*\n",
      "**\n",
      "***\n",
      "****\n",
      "*****\n"
     ]
    }
   ],
   "source": [
    "#2438\n",
    "#별찍기-1\n",
    "n = int(input())\n",
    "for i in range(1,n+1):\n",
    "    print('*'*i)"
   ]
  },
  {
   "cell_type": "code",
   "execution_count": 12,
   "id": "1b51096f-b8d1-413c-9b72-b4f08e2ee470",
   "metadata": {},
   "outputs": [
    {
     "name": "stdin",
     "output_type": "stream",
     "text": [
      " 5\n"
     ]
    },
    {
     "name": "stdout",
     "output_type": "stream",
     "text": [
      "    *\n",
      "   **\n",
      "  ***\n",
      " ****\n",
      "*****\n"
     ]
    }
   ],
   "source": [
    "#2439\n",
    "#별찍기-2\n",
    "n = int(input())\n",
    "for i in range(1,n+1):\n",
    "    print(' '*(n-i)+'*'*i)"
   ]
  },
  {
   "cell_type": "code",
   "execution_count": 15,
   "id": "01fcc908-b2ad-4a41-81fb-5d8057efddd7",
   "metadata": {},
   "outputs": [
    {
     "name": "stdin",
     "output_type": "stream",
     "text": [
      " 10 5\n",
      " 1 10 5 5 7 6 3 \n"
     ]
    },
    {
     "name": "stdout",
     "output_type": "stream",
     "text": [
      "1 3 "
     ]
    }
   ],
   "source": [
    "#10871\n",
    "#X보다 작은 수\n",
    "N, X = map(int, input().split())\n",
    "A = map(int, input().split())\n",
    "for i in A:\n",
    "    if i<X:\n",
    "        print(i, end = ' ')"
   ]
  }
 ],
 "metadata": {
  "kernelspec": {
   "display_name": "Python 3",
   "language": "python",
   "name": "python3"
  },
  "language_info": {
   "codemirror_mode": {
    "name": "ipython",
    "version": 3
   },
   "file_extension": ".py",
   "mimetype": "text/x-python",
   "name": "python",
   "nbconvert_exporter": "python",
   "pygments_lexer": "ipython3",
   "version": "3.8.8"
  }
 },
 "nbformat": 4,
 "nbformat_minor": 5
}
