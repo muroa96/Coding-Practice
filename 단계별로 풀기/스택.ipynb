{
 "cells": [
  {
   "cell_type": "code",
   "execution_count": 17,
   "id": "11c12191-6770-496c-88c0-8e99bef978d9",
   "metadata": {},
   "outputs": [
    {
     "name": "stdin",
     "output_type": "stream",
     "text": [
      " 7\n",
      " pop\n"
     ]
    },
    {
     "name": "stdout",
     "output_type": "stream",
     "text": [
      "-1\n"
     ]
    },
    {
     "name": "stdin",
     "output_type": "stream",
     "text": [
      " top\n"
     ]
    },
    {
     "name": "stdout",
     "output_type": "stream",
     "text": [
      "-1\n"
     ]
    },
    {
     "name": "stdin",
     "output_type": "stream",
     "text": [
      " push 123\n",
      " top\n"
     ]
    },
    {
     "name": "stdout",
     "output_type": "stream",
     "text": [
      "123\n"
     ]
    },
    {
     "name": "stdin",
     "output_type": "stream",
     "text": [
      " pop\n"
     ]
    },
    {
     "name": "stdout",
     "output_type": "stream",
     "text": [
      "123\n"
     ]
    },
    {
     "name": "stdin",
     "output_type": "stream",
     "text": [
      " top\n"
     ]
    },
    {
     "name": "stdout",
     "output_type": "stream",
     "text": [
      "-1\n"
     ]
    },
    {
     "name": "stdin",
     "output_type": "stream",
     "text": [
      " pop\n"
     ]
    },
    {
     "name": "stdout",
     "output_type": "stream",
     "text": [
      "-1\n"
     ]
    }
   ],
   "source": [
    "#10828\n",
    "#스택\n",
    "n = int(input())\n",
    "stack = []\n",
    "for _ in range(n):\n",
    "    order = input()\n",
    "    if 'push' in order:\n",
    "        stack.append(int(order.split()[1]))\n",
    "    elif order == 'pop':\n",
    "        if len(stack) ==0:\n",
    "            print(-1)\n",
    "        else:\n",
    "            print(stack[-1])\n",
    "            stack.pop()            \n",
    "    elif order == 'size':\n",
    "        print(len(stack))\n",
    "    elif order == 'empty':\n",
    "        if len(stack) ==0 :\n",
    "            print(1)\n",
    "        else:\n",
    "            print(0)\n",
    "    elif order == 'top':\n",
    "        if len(stack)==0:\n",
    "            print(-1)\n",
    "        else:\n",
    "            print(stack[-1])\n",
    "    else:\n",
    "        break"
   ]
  },
  {
   "cell_type": "code",
   "execution_count": 19,
   "id": "78fdbbd3-9188-402a-9028-ef00ee801b96",
   "metadata": {},
   "outputs": [
    {
     "name": "stdin",
     "output_type": "stream",
     "text": [
      " 10\n",
      " 1\n",
      " 3\n",
      " 5\n",
      " 4\n",
      " 0\n",
      " 0\n",
      " 7\n",
      " 0\n",
      " 0\n",
      " 6\n"
     ]
    },
    {
     "name": "stdout",
     "output_type": "stream",
     "text": [
      "7\n"
     ]
    }
   ],
   "source": [
    "#10773\n",
    "#제로\n",
    "k = int(input())\n",
    "stack=[]\n",
    "for _ in range(k):\n",
    "    x = int(input())\n",
    "    if x==0:\n",
    "        stack.pop()\n",
    "    else:\n",
    "        stack.append(x)\n",
    "print(sum(stack))"
   ]
  },
  {
   "cell_type": "code",
   "execution_count": 37,
   "id": "d05eff56-4237-4d87-84b4-720efe425b03",
   "metadata": {},
   "outputs": [
    {
     "name": "stdin",
     "output_type": "stream",
     "text": [
      " 3\n",
      " ((\n"
     ]
    },
    {
     "name": "stdout",
     "output_type": "stream",
     "text": [
      "NO\n"
     ]
    },
    {
     "name": "stdin",
     "output_type": "stream",
     "text": [
      " ))\n"
     ]
    },
    {
     "name": "stdout",
     "output_type": "stream",
     "text": [
      "NO\n"
     ]
    },
    {
     "name": "stdin",
     "output_type": "stream",
     "text": [
      " ())(()\n"
     ]
    },
    {
     "name": "stdout",
     "output_type": "stream",
     "text": [
      "NO\n"
     ]
    }
   ],
   "source": [
    "#9012\n",
    "#괄호\n",
    "t = int(input())\n",
    "for _ in range(t):\n",
    "    ps = input()\n",
    "    stack = []\n",
    "    isvps = 0\n",
    "    for i in ps:\n",
    "        if i=='(':\n",
    "            stack.append(i)\n",
    "        else:\n",
    "            if len(stack)==0:\n",
    "                print('NO')\n",
    "                isvps+=1\n",
    "                break\n",
    "            else:\n",
    "                stack.pop()\n",
    "    if len(stack)!=0:\n",
    "        print('NO')\n",
    "    elif len(stack)==0 and isvps==0:\n",
    "        print('YES')\n",
    "        "
   ]
  },
  {
   "cell_type": "code",
   "execution_count": 74,
   "id": "0fd14981-9105-4f38-862f-f11552cbeb73",
   "metadata": {},
   "outputs": [
    {
     "name": "stdin",
     "output_type": "stream",
     "text": [
      " So when I die (the [first] I will see in (heaven) is a score list).\n"
     ]
    },
    {
     "name": "stdout",
     "output_type": "stream",
     "text": [
      "yes\n"
     ]
    },
    {
     "name": "stdin",
     "output_type": "stream",
     "text": [
      " [ first in ] ( first out ).\n"
     ]
    },
    {
     "name": "stdout",
     "output_type": "stream",
     "text": [
      "yes\n"
     ]
    },
    {
     "name": "stdin",
     "output_type": "stream",
     "text": [
      " Half Moon tonight (At least it is better than no Moon at all].\n"
     ]
    },
    {
     "name": "stdout",
     "output_type": "stream",
     "text": [
      "no\n"
     ]
    },
    {
     "name": "stdin",
     "output_type": "stream",
     "text": [
      " A rope may form )( a trail in a maze.\n"
     ]
    },
    {
     "name": "stdout",
     "output_type": "stream",
     "text": [
      "no\n"
     ]
    },
    {
     "name": "stdin",
     "output_type": "stream",
     "text": [
      " Help( I[m being held prisoner in a fortune cookie factory)].\n"
     ]
    },
    {
     "name": "stdout",
     "output_type": "stream",
     "text": [
      "no\n"
     ]
    },
    {
     "name": "stdin",
     "output_type": "stream",
     "text": [
      " ([ (([( [ ] ) ( ) (( ))] )) ]).\n"
     ]
    },
    {
     "name": "stdout",
     "output_type": "stream",
     "text": [
      "no\n"
     ]
    },
    {
     "name": "stdin",
     "output_type": "stream",
     "text": [
      "  .\n"
     ]
    },
    {
     "name": "stdout",
     "output_type": "stream",
     "text": [
      "yes\n"
     ]
    },
    {
     "name": "stdin",
     "output_type": "stream",
     "text": [
      " .\n"
     ]
    }
   ],
   "source": [
    "#4949\n",
    "#균형잡힌 세상\n",
    "def vps(x):\n",
    "    stack = []\n",
    "    isvps = 0\n",
    "    answer = ''\n",
    "    for i in x:\n",
    "        if i=='(' or i=='[':\n",
    "            stack.append(i)\n",
    "        elif i==')':\n",
    "            if stack.count('(')==0 or stack[-1]!='(':\n",
    "                answer = 'no'\n",
    "                isvps +=1\n",
    "                break\n",
    "            else:\n",
    "                stack.pop()\n",
    "        elif i==']':\n",
    "            if stack.count('[')==0 or stack[-1]!='[':\n",
    "                answer = 'no'\n",
    "                isvps+=1\n",
    "                break\n",
    "            else:\n",
    "                stack.pop()\n",
    "    if len(stack)!=0:\n",
    "        answer ='no'\n",
    "    elif len(stack)==0 and isvps==0:\n",
    "        answer ='yes'\n",
    "    return answer\n",
    "            \n",
    "while True:\n",
    "    x = input()\n",
    "    if x=='.':\n",
    "        break\n",
    "    print(vps(x))"
   ]
  },
  {
   "cell_type": "code",
   "execution_count": null,
   "id": "1ca2f507-7aca-4da0-9c62-cca502e644d2",
   "metadata": {},
   "outputs": [],
   "source": [
    "# 1874\n",
    "#스택 수열\n",
    "n = int(input())\n",
    "arr = [int(input()) for _ in range(n)]\n",
    "stack = []\n",
    "n=1\n",
    "[4,3,6,8,7,5,2,1]\n",
    "while True:\n",
    "    if stack == arr:\n",
    "        break\n",
    "  "
   ]
  },
  {
   "cell_type": "code",
   "execution_count": 18,
   "id": "3cd09a7b-34d6-4183-aad6-6a33e5437f41",
   "metadata": {},
   "outputs": [
    {
     "name": "stdin",
     "output_type": "stream",
     "text": [
      " 4\n",
      " 9 5 4 8\n"
     ]
    },
    {
     "ename": "IndexError",
     "evalue": "list index out of range",
     "output_type": "error",
     "traceback": [
      "\u001b[1;31m---------------------------------------------------------------------------\u001b[0m",
      "\u001b[1;31mIndexError\u001b[0m                                Traceback (most recent call last)",
      "\u001b[1;32m<ipython-input-18-bb01f53e3fef>\u001b[0m in \u001b[0;36m<module>\u001b[1;34m\u001b[0m\n\u001b[0;32m     22\u001b[0m             \u001b[0mprint\u001b[0m\u001b[1;33m(\u001b[0m\u001b[0mstack\u001b[0m\u001b[1;33m[\u001b[0m\u001b[1;36m0\u001b[0m\u001b[1;33m]\u001b[0m\u001b[1;33m,\u001b[0m \u001b[0mend\u001b[0m \u001b[1;33m=\u001b[0m \u001b[1;34m' '\u001b[0m\u001b[1;33m)\u001b[0m\u001b[1;33m\u001b[0m\u001b[1;33m\u001b[0m\u001b[0m\n\u001b[0;32m     23\u001b[0m             \u001b[1;32mbreak\u001b[0m\u001b[1;33m\u001b[0m\u001b[1;33m\u001b[0m\u001b[0m\n\u001b[1;32m---> 24\u001b[1;33m     \u001b[1;32mif\u001b[0m \u001b[0mstack\u001b[0m\u001b[1;33m[\u001b[0m\u001b[1;36m0\u001b[0m\u001b[1;33m]\u001b[0m\u001b[1;33m==\u001b[0m\u001b[0marr\u001b[0m\u001b[1;33m[\u001b[0m\u001b[0mi\u001b[0m\u001b[1;33m]\u001b[0m\u001b[1;33m:\u001b[0m\u001b[1;33m\u001b[0m\u001b[1;33m\u001b[0m\u001b[0m\n\u001b[0m\u001b[0;32m     25\u001b[0m         \u001b[0mstack\u001b[0m\u001b[1;33m.\u001b[0m\u001b[0mpop\u001b[0m\u001b[1;33m(\u001b[0m\u001b[1;33m)\u001b[0m\u001b[1;33m\u001b[0m\u001b[1;33m\u001b[0m\u001b[0m\n\u001b[0;32m     26\u001b[0m     \u001b[1;32mif\u001b[0m \u001b[0mlen\u001b[0m\u001b[1;33m(\u001b[0m\u001b[0mstack\u001b[0m\u001b[1;33m)\u001b[0m\u001b[1;33m==\u001b[0m\u001b[1;36m0\u001b[0m\u001b[1;33m:\u001b[0m\u001b[1;33m\u001b[0m\u001b[1;33m\u001b[0m\u001b[0m\n",
      "\u001b[1;31mIndexError\u001b[0m: list index out of range"
     ]
    }
   ],
   "source": [
    "##### 17298\n",
    "#오큰수\n",
    "# a1 a2 ...ai...an\n",
    "n = int(input())\n",
    "arr = list(map(int, input().split()))\n",
    "max_num = max(arr)\n",
    "#1. stack 생성\n",
    "stack = []\n",
    "answer = []\n",
    "for i in range(len(arr)-1):\n",
    "    if len(stack)!=0 and stack[0]>arr[i]:\n",
    "        print(stack[0], end = ' ')\n",
    "        continue\n",
    "    for j in arr[i+1:]:\n",
    "        if len(stack)==0 and j>arr[i]:\n",
    "            stack.append(j)\n",
    "            print(stack[0], end = ' ')\n",
    "            break\n",
    "        elif len(stack)!=0 and stack[0]<j:\n",
    "            stack.pop()\n",
    "            stack.append(j)\n",
    "            print(stack[0], end = ' ')\n",
    "            break\n",
    "    if stack[0]==arr[i]:\n",
    "        stack.pop()\n",
    "    if len(stack)==0:\n",
    "        print(-1, end = ' ')\n",
    "print(stack)"
   ]
  }
 ],
 "metadata": {
  "kernelspec": {
   "display_name": "Python 3",
   "language": "python",
   "name": "python3"
  },
  "language_info": {
   "codemirror_mode": {
    "name": "ipython",
    "version": 3
   },
   "file_extension": ".py",
   "mimetype": "text/x-python",
   "name": "python",
   "nbconvert_exporter": "python",
   "pygments_lexer": "ipython3",
   "version": "3.8.8"
  }
 },
 "nbformat": 4,
 "nbformat_minor": 5
}
