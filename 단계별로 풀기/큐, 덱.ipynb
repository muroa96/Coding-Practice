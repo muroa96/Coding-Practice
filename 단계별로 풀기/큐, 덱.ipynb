{
 "cells": [
  {
   "cell_type": "code",
   "execution_count": 19,
   "id": "20a96f68-403f-4530-aa90-c7652a22199f",
   "metadata": {},
   "outputs": [
    {
     "name": "stdin",
     "output_type": "stream",
     "text": [
      " 15\n",
      " push 1\n",
      " push 2\n",
      " front\n"
     ]
    },
    {
     "name": "stdout",
     "output_type": "stream",
     "text": [
      "1\n"
     ]
    },
    {
     "name": "stdin",
     "output_type": "stream",
     "text": [
      " back\n"
     ]
    },
    {
     "name": "stdout",
     "output_type": "stream",
     "text": [
      "2\n"
     ]
    },
    {
     "name": "stdin",
     "output_type": "stream",
     "text": [
      " size\n"
     ]
    },
    {
     "name": "stdout",
     "output_type": "stream",
     "text": [
      "2\n"
     ]
    },
    {
     "name": "stdin",
     "output_type": "stream",
     "text": [
      " empty\n"
     ]
    },
    {
     "name": "stdout",
     "output_type": "stream",
     "text": [
      "0\n"
     ]
    },
    {
     "name": "stdin",
     "output_type": "stream",
     "text": [
      " pop\n"
     ]
    },
    {
     "name": "stdout",
     "output_type": "stream",
     "text": [
      "1\n"
     ]
    },
    {
     "name": "stdin",
     "output_type": "stream",
     "text": [
      " pop\n"
     ]
    },
    {
     "name": "stdout",
     "output_type": "stream",
     "text": [
      "2\n"
     ]
    },
    {
     "name": "stdin",
     "output_type": "stream",
     "text": [
      " pop\n"
     ]
    },
    {
     "name": "stdout",
     "output_type": "stream",
     "text": [
      "-1\n"
     ]
    },
    {
     "name": "stdin",
     "output_type": "stream",
     "text": [
      " size\n"
     ]
    },
    {
     "name": "stdout",
     "output_type": "stream",
     "text": [
      "0\n"
     ]
    },
    {
     "name": "stdin",
     "output_type": "stream",
     "text": [
      " empty\n"
     ]
    },
    {
     "name": "stdout",
     "output_type": "stream",
     "text": [
      "1\n"
     ]
    },
    {
     "name": "stdin",
     "output_type": "stream",
     "text": [
      " pop\n"
     ]
    },
    {
     "name": "stdout",
     "output_type": "stream",
     "text": [
      "-1\n"
     ]
    },
    {
     "name": "stdin",
     "output_type": "stream",
     "text": [
      " push 3\n",
      " empty\n"
     ]
    },
    {
     "name": "stdout",
     "output_type": "stream",
     "text": [
      "0\n"
     ]
    },
    {
     "name": "stdin",
     "output_type": "stream",
     "text": [
      " front\n"
     ]
    },
    {
     "name": "stdout",
     "output_type": "stream",
     "text": [
      "3\n"
     ]
    }
   ],
   "source": [
    "#19258\n",
    "#큐 2\n",
    "from collections import deque\n",
    "import sys\n",
    "input = sys.stdin.readline()\n",
    "queue = deque()\n",
    "n = int(input())\n",
    "for _ in range(n):\n",
    "    order = input()\n",
    "    if orㄴder[0:2]=='pu':\n",
    "        queue.append(int((order.split())[-1]))\n",
    "    elif len(queue)==0:\n",
    "        if order == 'empty':\n",
    "            print(1)\n",
    "        elif order == 'size':\n",
    "            print(0)\n",
    "        else:\n",
    "            print(-1)\n",
    "    elif order == 'pop':\n",
    "        print(queue.popleft())\n",
    "    elif order == 'size':\n",
    "        print(len(queue))\n",
    "    elif order == 'empty':\n",
    "        print(0)\n",
    "    elif order == 'front':\n",
    "        print(queue[0])\n",
    "    elif order == 'back':\n",
    "        print(queue[-1])"
   ]
  },
  {
   "cell_type": "code",
   "execution_count": 3,
   "id": "93243516-4e7a-4e27-a282-d71e27e98d29",
   "metadata": {},
   "outputs": [],
   "source": [
    "#2164\n",
    "#카드2"
   ]
  },
  {
   "cell_type": "code",
   "execution_count": 4,
   "id": "600509fc-bec8-4fe3-a961-36b7c7cb1356",
   "metadata": {},
   "outputs": [],
   "source": [
    "#11866\n",
    "#요세푸스 문제 0"
   ]
  },
  {
   "cell_type": "code",
   "execution_count": 1,
   "id": "c2416094-116a-4015-b17a-f476f8d85426",
   "metadata": {},
   "outputs": [],
   "source": [
    "#1966\n",
    "#프린터 큐"
   ]
  },
  {
   "cell_type": "code",
   "execution_count": 5,
   "id": "a031cd94-a211-438d-b81f-e7a441c21e53",
   "metadata": {},
   "outputs": [],
   "source": [
    "#10866\n",
    "#덱"
   ]
  },
  {
   "cell_type": "code",
   "execution_count": 6,
   "id": "942fe0f6-d0aa-4a53-9e08-0ac77eb874c6",
   "metadata": {},
   "outputs": [],
   "source": [
    "#1021\n",
    "#회전하는 큐"
   ]
  },
  {
   "cell_type": "code",
   "execution_count": 7,
   "id": "057abbf1-084f-4731-9ba6-f35f33db096e",
   "metadata": {},
   "outputs": [],
   "source": [
    "#5430\n",
    "#AC"
   ]
  }
 ],
 "metadata": {
  "kernelspec": {
   "display_name": "Python 3",
   "language": "python",
   "name": "python3"
  },
  "language_info": {
   "codemirror_mode": {
    "name": "ipython",
    "version": 3
   },
   "file_extension": ".py",
   "mimetype": "text/x-python",
   "name": "python",
   "nbconvert_exporter": "python",
   "pygments_lexer": "ipython3",
   "version": "3.8.8"
  }
 },
 "nbformat": 4,
 "nbformat_minor": 5
}
