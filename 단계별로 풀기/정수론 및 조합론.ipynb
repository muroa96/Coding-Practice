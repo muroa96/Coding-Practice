{
 "cells": [
  {
   "cell_type": "code",
   "execution_count": 14,
   "id": "04a15956-9596-45e1-9069-2a0bebaa0b4b",
   "metadata": {},
   "outputs": [
    {
     "name": "stdout",
     "output_type": "stream",
     "text": [
      "factor\n",
      "multiple\n",
      "neither\n"
     ]
    }
   ],
   "source": [
    "#5086\n",
    "#배수와 약수\n",
    "arr = []\n",
    "while True:\n",
    "    x, y = map(int, input().split())\n",
    "    if x==y==0:\n",
    "        break\n",
    "    arr.append([x,y])\n",
    "\n",
    "for i in arr:\n",
    "    if i[1]%i[0]==0:\n",
    "        print('factor')\n",
    "    elif i[0]%i[1]==0:\n",
    "        print('multiple')\n",
    "    else:\n",
    "        print('neither')"
   ]
  },
  {
   "cell_type": "code",
   "execution_count": 22,
   "id": "e2cc6a52-d50b-4323-92d2-b70e154b2b7d",
   "metadata": {},
   "outputs": [
    {
     "name": "stdin",
     "output_type": "stream",
     "text": [
      " 1\n",
      " 3\n"
     ]
    },
    {
     "name": "stdout",
     "output_type": "stream",
     "text": [
      "9\n"
     ]
    }
   ],
   "source": [
    "#1037\n",
    "#약수\n",
    "n = int(input())\n",
    "arr = list(map(int, input().split()))\n",
    "arr.sort()\n",
    "print(arr[0]*arr[-1])"
   ]
  },
  {
   "cell_type": "code",
   "execution_count": 26,
   "id": "fe81a7d4-8a96-42bb-8fb3-a35a185c3cce",
   "metadata": {},
   "outputs": [
    {
     "name": "stdin",
     "output_type": "stream",
     "text": [
      " 24 18\n"
     ]
    },
    {
     "name": "stdout",
     "output_type": "stream",
     "text": [
      "6\n",
      "72\n"
     ]
    }
   ],
   "source": [
    "#2609\n",
    "#최대공약수와 최소공배수\n",
    "import math\n",
    "x, y = map(int, input().split())\n",
    "gcd = math.gcd(x,y)\n",
    "lcm = int(gcd * (x/gcd) * (y/gcd))\n",
    "print(gcd)\n",
    "print(lcm)"
   ]
  },
  {
   "cell_type": "code",
   "execution_count": 31,
   "id": "f8a3dd07-7b90-414f-a674-2702447e0803",
   "metadata": {},
   "outputs": [
    {
     "name": "stdin",
     "output_type": "stream",
     "text": [
      " 3\n",
      " 1 45000\n"
     ]
    },
    {
     "name": "stdout",
     "output_type": "stream",
     "text": [
      "45000\n"
     ]
    },
    {
     "name": "stdin",
     "output_type": "stream",
     "text": [
      " 6 10\n"
     ]
    },
    {
     "name": "stdout",
     "output_type": "stream",
     "text": [
      "30\n"
     ]
    },
    {
     "name": "stdin",
     "output_type": "stream",
     "text": [
      " 13 17\n"
     ]
    },
    {
     "name": "stdout",
     "output_type": "stream",
     "text": [
      "221\n"
     ]
    }
   ],
   "source": [
    "#1934\n",
    "#최소공배수\n",
    "#(유클리드 알고리즘)\n",
    "def gcd(x,y):\n",
    "    while y>0:\n",
    "        x, y = y, x % y\n",
    "    return x\n",
    "def lcm(x,y):\n",
    "    return x*y / gcd(x,y)\n",
    "n = int(input())\n",
    "for _ in range(n):\n",
    "    x, y = map(int, input().split())\n",
    "    print(int(lcm(x,y)))"
   ]
  },
  {
   "cell_type": "code",
   "execution_count": 2,
   "id": "eafde11e-9010-42c4-9b93-fd263e73e2df",
   "metadata": {},
   "outputs": [
    {
     "name": "stdin",
     "output_type": "stream",
     "text": [
      " 3\n",
      " 6\n",
      " 34\n",
      " 38\n"
     ]
    },
    {
     "name": "stdout",
     "output_type": "stream",
     "text": [
      "2 4\n"
     ]
    }
   ],
   "source": [
    "#2981\n",
    "#검문\n",
    "#y = mx+b\n",
    "#y-b = mx    숫자들을 같은값(나머지)로 뺄때, 1이 아닌 최대공약수 존재\n",
    "#최대공약수\n",
    "N = int(input())\n",
    "num = sorted([int(input()) for _ in range(N)])\n",
    "re_num = []\n",
    "\n",
    "# B-A, C-B, D-C... 쭉 구해서 새 리스트에 추가\n",
    "for i in range(1, N):\n",
    "    re_num.append(num[i] - num[i-1])\n",
    "\n",
    "# 두 수의 최대공약수를 구해주는 함수(유클리드 호제법)\n",
    "def findGCD(a, b):\n",
    "    num = b\n",
    "    div = a\n",
    "    rest = num % div\n",
    "    while rest != 0:\n",
    "        num = div\n",
    "        div = rest\n",
    "        rest = num % div\n",
    "    return div\n",
    "\n",
    "# re_num의 모든 수들의 최대공약수를 구하고 그 것의 1을 제외한 모든 약수가 구하는 M이다.\n",
    "GCD = re_num[0]\n",
    "for idx in range(1, len(re_num)):\n",
    "    GCD = findGCD(GCD, re_num[idx])\n",
    "\n",
    "result = set()\n",
    "for i in range(2, int(GCD**0.5) + 1):\n",
    "    if GCD % i == 0:\n",
    "        result.add(i)\n",
    "        result.add(GCD // i)\n",
    "result.add(GCD)\n",
    "print(*sorted(list(result)))\n"
   ]
  },
  {
   "cell_type": "code",
   "execution_count": 5,
   "id": "4877eb51-58ad-45af-88cc-6b18d1458d27",
   "metadata": {},
   "outputs": [
    {
     "name": "stdout",
     "output_type": "stream",
     "text": [
      "2\n",
      "4\n",
      "6\n",
      "8\n"
     ]
    },
    {
     "data": {
      "text/plain": [
       "2"
      ]
     },
     "execution_count": 5,
     "metadata": {},
     "output_type": "execute_result"
    }
   ],
   "source": [
    "def gcd_N(arr,b):\n",
    "    gcd = arr[0]-b\n",
    "    for item in arr:\n",
    "        gcd= gcd_(gcd,item-b)\n",
    "        if gcd ==1:\n",
    "            break\n",
    "        print(item)\n",
    "    return gcd\n",
    "gcd_N([2,4,6,8],0)"
   ]
  },
  {
   "cell_type": "code",
   "execution_count": 83,
   "id": "888b454b-62ed-4dc4-af72-ccb360f87792",
   "metadata": {},
   "outputs": [
    {
     "name": "stdin",
     "output_type": "stream",
     "text": [
      " 4\n",
      " 300 1 1 300\n"
     ]
    },
    {
     "name": "stdout",
     "output_type": "stream",
     "text": [
      "300/1\n",
      "300/1\n",
      "1/1\n"
     ]
    }
   ],
   "source": [
    "#3036\n",
    "#링\n",
    "from fractions import Fraction\n",
    "n = int(input())\n",
    "arr = list(map(int, input().split()))\n",
    "for i in arr[1:]:\n",
    "    f = Fraction(arr[0],i)\n",
    "    numerator = f.numerator\n",
    "    denominator = f.denominator\n",
    "    print(str(numerator)+'/'+str(denominator))"
   ]
  },
  {
   "cell_type": "code",
   "execution_count": 77,
   "id": "ec7ee4ef-f1b2-4b5b-905c-8c5ab8d4f194",
   "metadata": {},
   "outputs": [
    {
     "data": {
      "text/plain": [
       "1"
      ]
     },
     "execution_count": 77,
     "metadata": {},
     "output_type": "execute_result"
    }
   ],
   "source": [
    "#11050\n",
    "#이항 계수 1\n",
    "from math import factorial\n",
    "n, k = map(int, input().split())\n",
    "print(int(factorial(n)/(factorial(k)*factorial(n-k))))"
   ]
  },
  {
   "cell_type": "code",
   "execution_count": 34,
   "id": "dc21548f-b771-4ece-9358-cd20d472a667",
   "metadata": {},
   "outputs": [
    {
     "name": "stdin",
     "output_type": "stream",
     "text": [
      " 5 2\n"
     ]
    },
    {
     "name": "stdout",
     "output_type": "stream",
     "text": [
      "10\n"
     ]
    }
   ],
   "source": [
    "#11051\n",
    "#이항 계수 2\n",
    "def fac(n,k): #n~k+1까지의 곱\n",
    "    if n==k:\n",
    "        return 1\n",
    "    return n*fac(n-1,k)\n",
    "n, k = map(int, input().split())\n",
    "answer = fac(n,k)//fac(n-k,0)\n",
    "print(answer)"
   ]
  },
  {
   "cell_type": "code",
   "execution_count": 101,
   "id": "5a15978b-8d83-4193-9999-0129c7b6152c",
   "metadata": {},
   "outputs": [
    {
     "name": "stdin",
     "output_type": "stream",
     "text": [
      " 3\n",
      " 2 2\n"
     ]
    },
    {
     "name": "stdout",
     "output_type": "stream",
     "text": [
      "1\n"
     ]
    },
    {
     "name": "stdin",
     "output_type": "stream",
     "text": [
      " 1 5\n"
     ]
    },
    {
     "name": "stdout",
     "output_type": "stream",
     "text": [
      "5\n"
     ]
    },
    {
     "name": "stdin",
     "output_type": "stream",
     "text": [
      " 13 29\n"
     ]
    },
    {
     "name": "stdout",
     "output_type": "stream",
     "text": [
      "67863915\n"
     ]
    }
   ],
   "source": [
    "#1010\n",
    "#다리 놓기\n",
    "from math import factorial\n",
    "t = int(input())\n",
    "for _ in range(t):\n",
    "    n, r = map(int, input().split())\n",
    "    print(int(factorial(r)/(factorial(r-n)*factorial(n))))"
   ]
  },
  {
   "cell_type": "code",
   "execution_count": 8,
   "id": "ed8976cc-11f3-4e4b-b0d2-6ed4c21fd6bb",
   "metadata": {},
   "outputs": [
    {
     "name": "stdin",
     "output_type": "stream",
     "text": [
      " 2\n",
      " 3\n",
      " h h\n",
      " s e\n",
      " t h\n"
     ]
    },
    {
     "name": "stdout",
     "output_type": "stream",
     "text": [
      "5\n"
     ]
    },
    {
     "name": "stdin",
     "output_type": "stream",
     "text": [
      " 3\n",
      " m f\n",
      " s f\n",
      " m f\n"
     ]
    },
    {
     "name": "stdout",
     "output_type": "stream",
     "text": [
      "3\n"
     ]
    }
   ],
   "source": [
    "#9375\n",
    "#패션왕 신해빈\n",
    "from math import factorial\n",
    "n = int(input())\n",
    "for _ in range(n):\n",
    "    t = int(input())\n",
    "    arr = [list(input().split())[1] for _ in range(t)]\n",
    "    ls = list(set(arr))\n",
    "    num = []\n",
    "    for i in ls:\n",
    "        num.append(arr.count(i))\n",
    "    answer = 1\n",
    "    for j in num:\n",
    "        answer = answer * (j+1)\n",
    "    print(answer-1)\n",
    "    "
   ]
  },
  {
   "cell_type": "code",
   "execution_count": 124,
   "id": "f7f432da-2128-46d1-bae2-03c243942083",
   "metadata": {},
   "outputs": [
    {
     "name": "stdin",
     "output_type": "stream",
     "text": [
      " 3\n"
     ]
    },
    {
     "name": "stdout",
     "output_type": "stream",
     "text": [
      "0\n"
     ]
    }
   ],
   "source": [
    "#1676\n",
    "#팩토리얼 0의 개수\n",
    "from math import factorial\n",
    "n = int(input())\n",
    "fac = str(factorial(n))[::-1]\n",
    "answer = 0\n",
    "for i in fac:\n",
    "    if i=='0':\n",
    "        answer+=1\n",
    "    else:\n",
    "        break\n",
    "print(answer)"
   ]
  },
  {
   "cell_type": "code",
   "execution_count": 41,
   "id": "edf22e83-8c39-4cfd-b2e1-9215aad02f49",
   "metadata": {},
   "outputs": [
    {
     "name": "stdin",
     "output_type": "stream",
     "text": [
      " 25 12\n"
     ]
    },
    {
     "name": "stdout",
     "output_type": "stream",
     "text": [
      "2\n"
     ]
    }
   ],
   "source": [
    "#2004\n",
    "#조합 0의 개수\n",
    "#끝자리가 0->10의 배수->2, 5\n",
    "def count_num(n,m):\n",
    "    cnt = 0\n",
    "    while n:\n",
    "        n//=m\n",
    "        cnt+=n\n",
    "    return cnt\n",
    "n, m = map(int, input().split())\n",
    "\n",
    "count5 = count_num(n,5)-count_num(m,5)-count_num(n-m,5)\n",
    "count2 = count_num(n,2)-count_num(m,2)-count_num(n-m,2)\n",
    "print(min(count5, count2))"
   ]
  }
 ],
 "metadata": {
  "kernelspec": {
   "display_name": "Python 3",
   "language": "python",
   "name": "python3"
  },
  "language_info": {
   "codemirror_mode": {
    "name": "ipython",
    "version": 3
   },
   "file_extension": ".py",
   "mimetype": "text/x-python",
   "name": "python",
   "nbconvert_exporter": "python",
   "pygments_lexer": "ipython3",
   "version": "3.8.8"
  }
 },
 "nbformat": 4,
 "nbformat_minor": 5
}
