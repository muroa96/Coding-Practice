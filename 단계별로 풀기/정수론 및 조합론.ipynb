{
 "cells": [
  {
   "cell_type": "code",
   "execution_count": 14,
   "id": "04a15956-9596-45e1-9069-2a0bebaa0b4b",
   "metadata": {},
   "outputs": [
    {
     "name": "stdout",
     "output_type": "stream",
     "text": [
      "factor\n",
      "multiple\n",
      "neither\n"
     ]
    }
   ],
   "source": [
    "#5086\n",
    "#배수와 약수\n",
    "arr = []\n",
    "while True:\n",
    "    x, y = map(int, input().split())\n",
    "    if x==y==0:\n",
    "        break\n",
    "    arr.append([x,y])\n",
    "\n",
    "for i in arr:\n",
    "    if i[1]%i[0]==0:\n",
    "        print('factor')\n",
    "    elif i[0]%i[1]==0:\n",
    "        print('multiple')\n",
    "    else:\n",
    "        print('neither')"
   ]
  },
  {
   "cell_type": "code",
   "execution_count": 22,
   "id": "e2cc6a52-d50b-4323-92d2-b70e154b2b7d",
   "metadata": {},
   "outputs": [
    {
     "name": "stdin",
     "output_type": "stream",
     "text": [
      " 1\n",
      " 3\n"
     ]
    },
    {
     "name": "stdout",
     "output_type": "stream",
     "text": [
      "9\n"
     ]
    }
   ],
   "source": [
    "#1037\n",
    "#약수\n",
    "n = int(input())\n",
    "arr = list(map(int, input().split()))\n",
    "arr.sort()\n",
    "print(arr[0]*arr[-1])"
   ]
  },
  {
   "cell_type": "code",
   "execution_count": 26,
   "id": "fe81a7d4-8a96-42bb-8fb3-a35a185c3cce",
   "metadata": {},
   "outputs": [
    {
     "name": "stdin",
     "output_type": "stream",
     "text": [
      " 24 18\n"
     ]
    },
    {
     "name": "stdout",
     "output_type": "stream",
     "text": [
      "6\n",
      "72\n"
     ]
    }
   ],
   "source": [
    "#2609\n",
    "#최대공약수와 최소공배수\n",
    "import math\n",
    "x, y = map(int, input().split())\n",
    "gcd = math.gcd(x,y)\n",
    "lcm = int(gcd * (x/gcd) * (y/gcd))\n",
    "print(gcd)\n",
    "print(lcm)"
   ]
  },
  {
   "cell_type": "code",
   "execution_count": 31,
   "id": "f8a3dd07-7b90-414f-a674-2702447e0803",
   "metadata": {},
   "outputs": [
    {
     "name": "stdin",
     "output_type": "stream",
     "text": [
      " 3\n",
      " 1 45000\n"
     ]
    },
    {
     "name": "stdout",
     "output_type": "stream",
     "text": [
      "45000\n"
     ]
    },
    {
     "name": "stdin",
     "output_type": "stream",
     "text": [
      " 6 10\n"
     ]
    },
    {
     "name": "stdout",
     "output_type": "stream",
     "text": [
      "30\n"
     ]
    },
    {
     "name": "stdin",
     "output_type": "stream",
     "text": [
      " 13 17\n"
     ]
    },
    {
     "name": "stdout",
     "output_type": "stream",
     "text": [
      "221\n"
     ]
    }
   ],
   "source": [
    "#1934\n",
    "#최소공배수\n",
    "#(유클리드 알고리즘)\n",
    "def gcd(x,y):\n",
    "    while y>0:\n",
    "        x, y = y, x % y\n",
    "    return x\n",
    "def lcm(x,y):\n",
    "    return x*y / gcd(x,y)\n",
    "n = int(input())\n",
    "for _ in range(n):\n",
    "    x, y = map(int, input().split())\n",
    "    print(int(lcm(x,y)))"
   ]
  },
  {
   "cell_type": "code",
   "execution_count": 74,
   "id": "7cb2648c-310a-438e-93b9-a120648b5739",
   "metadata": {},
   "outputs": [
    {
     "name": "stdout",
     "output_type": "stream",
     "text": [
      "2 3 6 7 14 21 42 "
     ]
    }
   ],
   "source": [
    "#2981\n",
    "#검문\n",
    "# n = int(input())\n",
    "# arr = [int(input()) for _ in range(n)]\n",
    "arr = [6,48]\n",
    "arr.sort()\n",
    "for i in range(2,arr[-1]):\n",
    "    standard = arr[0]%i\n",
    "    cnt = 0\n",
    "    for j in arr:\n",
    "        if j%i!=standard:\n",
    "            cnt+=1\n",
    "            break\n",
    "    if cnt==0:\n",
    "        print(i,end = ' ')"
   ]
  },
  {
   "cell_type": "code",
   "execution_count": 83,
   "id": "888b454b-62ed-4dc4-af72-ccb360f87792",
   "metadata": {},
   "outputs": [
    {
     "name": "stdin",
     "output_type": "stream",
     "text": [
      " 4\n",
      " 300 1 1 300\n"
     ]
    },
    {
     "name": "stdout",
     "output_type": "stream",
     "text": [
      "300/1\n",
      "300/1\n",
      "1/1\n"
     ]
    }
   ],
   "source": [
    "#3036\n",
    "#링\n",
    "from fractions import Fraction\n",
    "n = int(input())\n",
    "arr = list(map(int, input().split()))\n",
    "for i in arr[1:]:\n",
    "    f = Fraction(arr[0],i)\n",
    "    numerator = f.numerator\n",
    "    denominator = f.denominator\n",
    "    print(str(numerator)+'/'+str(denominator))"
   ]
  },
  {
   "cell_type": "code",
   "execution_count": 77,
   "id": "ec7ee4ef-f1b2-4b5b-905c-8c5ab8d4f194",
   "metadata": {},
   "outputs": [
    {
     "data": {
      "text/plain": [
       "1"
      ]
     },
     "execution_count": 77,
     "metadata": {},
     "output_type": "execute_result"
    }
   ],
   "source": [
    "#11050\n",
    "#이항 계수 1\n",
    "int(12/8)"
   ]
  },
  {
   "cell_type": "code",
   "execution_count": 86,
   "id": "dc21548f-b771-4ece-9358-cd20d472a667",
   "metadata": {},
   "outputs": [
    {
     "name": "stdin",
     "output_type": "stream",
     "text": [
      " 5 2\n"
     ]
    },
    {
     "name": "stdout",
     "output_type": "stream",
     "text": [
      "10\n"
     ]
    }
   ],
   "source": [
    "#11051\n",
    "#이항 계수 2\n",
    "from math import factorial\n",
    "n, k = map(int, input().split())\n",
    "ans = int(factorial(n)/(factorial(k)*factorial(n-k)))\n",
    "print(ans%10007)"
   ]
  },
  {
   "cell_type": "code",
   "execution_count": 101,
   "id": "5a15978b-8d83-4193-9999-0129c7b6152c",
   "metadata": {},
   "outputs": [
    {
     "name": "stdin",
     "output_type": "stream",
     "text": [
      " 3\n",
      " 2 2\n"
     ]
    },
    {
     "name": "stdout",
     "output_type": "stream",
     "text": [
      "1\n"
     ]
    },
    {
     "name": "stdin",
     "output_type": "stream",
     "text": [
      " 1 5\n"
     ]
    },
    {
     "name": "stdout",
     "output_type": "stream",
     "text": [
      "5\n"
     ]
    },
    {
     "name": "stdin",
     "output_type": "stream",
     "text": [
      " 13 29\n"
     ]
    },
    {
     "name": "stdout",
     "output_type": "stream",
     "text": [
      "67863915\n"
     ]
    }
   ],
   "source": [
    "#1010\n",
    "#다리 놓기\n",
    "from math import factorial\n",
    "t = int(input())\n",
    "for _ in range(t):\n",
    "    n, r = map(int, input().split())\n",
    "    print(int(factorial(r)/(factorial(r-n)*factorial(n))))"
   ]
  },
  {
   "cell_type": "code",
   "execution_count": 115,
   "id": "ed8976cc-11f3-4e4b-b0d2-6ed4c21fd6bb",
   "metadata": {},
   "outputs": [
    {
     "name": "stdout",
     "output_type": "stream",
     "text": [
      "3\n",
      "3\n"
     ]
    }
   ],
   "source": [
    "#9375\n",
    "#패션왕 신해빈\n",
    "from math import factorial\n",
    "arr = ['headgear','eyewear','headgear']\n",
    "n = len(arr)\n",
    "arr2 = list(set(arr))\n",
    "r = len(arr2)\n",
    "print(int(factorial(n)/(factorial(n-r)*factorial(r))))\n",
    "n, r = 3,1\n",
    "print(int(factorial(n)/(factorial(n-r)*factorial(r))))\n"
   ]
  },
  {
   "cell_type": "code",
   "execution_count": 124,
   "id": "f7f432da-2128-46d1-bae2-03c243942083",
   "metadata": {},
   "outputs": [
    {
     "name": "stdin",
     "output_type": "stream",
     "text": [
      " 3\n"
     ]
    },
    {
     "name": "stdout",
     "output_type": "stream",
     "text": [
      "0\n"
     ]
    }
   ],
   "source": [
    "#1676\n",
    "#팩토리얼 0의 개수\n",
    "from math import factorial\n",
    "n = int(input())\n",
    "fac = str(factorial(n))[::-1]\n",
    "answer = 0\n",
    "for i in fac:\n",
    "    if i=='0':\n",
    "        answer+=1\n",
    "    else:\n",
    "        break\n",
    "print(answer)"
   ]
  },
  {
   "cell_type": "code",
   "execution_count": 1,
   "id": "edf22e83-8c39-4cfd-b2e1-9215aad02f49",
   "metadata": {},
   "outputs": [
    {
     "name": "stdin",
     "output_type": "stream",
     "text": [
      " 25 12\n"
     ]
    },
    {
     "name": "stdout",
     "output_type": "stream",
     "text": [
      "5200300.0\n"
     ]
    }
   ],
   "source": [
    "#2004\n",
    "#조합 0의 개수\n",
    "from math import factorial\n",
    "n, m = map(int, input().split())\n",
    "def fac(n,m):\n",
    "    for i in range(m,n+1):\n",
    "        m = n*"
   ]
  }
 ],
 "metadata": {
  "kernelspec": {
   "display_name": "Python 3",
   "language": "python",
   "name": "python3"
  },
  "language_info": {
   "codemirror_mode": {
    "name": "ipython",
    "version": 3
   },
   "file_extension": ".py",
   "mimetype": "text/x-python",
   "name": "python",
   "nbconvert_exporter": "python",
   "pygments_lexer": "ipython3",
   "version": "3.8.8"
  }
 },
 "nbformat": 4,
 "nbformat_minor": 5
}
