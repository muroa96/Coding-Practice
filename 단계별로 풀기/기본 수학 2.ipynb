{
 "cells": [
  {
   "cell_type": "code",
   "execution_count": 11,
   "id": "110114e4-7df2-44b8-91cc-010bccb9933e",
   "metadata": {},
   "outputs": [
    {
     "name": "stdin",
     "output_type": "stream",
     "text": [
      " 2\n",
      " 1 3\n"
     ]
    },
    {
     "name": "stdout",
     "output_type": "stream",
     "text": [
      "1\n"
     ]
    }
   ],
   "source": [
    "#1978\n",
    "#소수 찾기\n",
    "N = int(input())\n",
    "arr = list(map(int, input().split()))\n",
    "\n",
    "if 1 in arr:\n",
    "    N-=1\n",
    "for i in arr:\n",
    "    cnt = 0\n",
    "    for j in range(1,i+1):\n",
    "        if i%j==0:\n",
    "            cnt+=1\n",
    "        if cnt>=3:\n",
    "            N-=1\n",
    "            break\n",
    "print(N)"
   ]
  },
  {
   "cell_type": "code",
   "execution_count": 15,
   "id": "d8cac192-d7da-4a8a-b685-9618ebeaeca0",
   "metadata": {},
   "outputs": [
    {
     "name": "stdin",
     "output_type": "stream",
     "text": [
      " 64\n",
      " 65\n"
     ]
    },
    {
     "name": "stdout",
     "output_type": "stream",
     "text": [
      "-1\n"
     ]
    }
   ],
   "source": [
    "#2581\n",
    "#소수\n",
    "M = int(input())\n",
    "N = int(input())\n",
    "\n",
    "arr = [i for i in range(M, N+1)]\n",
    "ans = arr.copy()\n",
    "if 1 in ans:\n",
    "    ans.remove(1)\n",
    "\n",
    "for i in arr:\n",
    "    cnt = 0\n",
    "    for j in range(1,i+1):\n",
    "        if i%j==0:\n",
    "            cnt+=1\n",
    "        if cnt>=3:\n",
    "            ans.remove(i)\n",
    "            break\n",
    "\n",
    "if len(ans)==0:\n",
    "    print(-1)\n",
    "else:\n",
    "    print(sum(ans))\n",
    "    print(min(ans))"
   ]
  },
  {
   "cell_type": "code",
   "execution_count": 32,
   "id": "5ceed7e1-9b00-48cb-bd4d-23b889c5b843",
   "metadata": {},
   "outputs": [
    {
     "name": "stdin",
     "output_type": "stream",
     "text": [
      " 256\n"
     ]
    },
    {
     "name": "stdout",
     "output_type": "stream",
     "text": [
      "2\n",
      "2\n",
      "2\n",
      "2\n",
      "2\n",
      "2\n",
      "2\n",
      "2\n"
     ]
    }
   ],
   "source": [
    "#11653\n",
    "#소인수분해\n",
    "#시간초과\n",
    "n = int(input())\n",
    "arr = [i for i in range(2,n+1)]\n",
    "ans = arr.copy()\n",
    "\n",
    "#소수 구하기\n",
    "for i in arr:\n",
    "    cnt = 0\n",
    "    for j in range(1,i+1):\n",
    "        if i%j==0:\n",
    "            cnt+=1\n",
    "        if cnt>=3:\n",
    "            ans.remove(i)\n",
    "            break\n",
    "\n",
    "#소인수\n",
    "num = [k for k in ans if n%k==0]\n",
    "#소인수 분해\n",
    "answerlist = []\n",
    "for numbers in num:\n",
    "    while True:\n",
    "        if n%numbers == 0:\n",
    "            n = n/numbers\n",
    "            answerlist.append(numbers)\n",
    "        if n%numbers!=0:\n",
    "            break\n",
    "\n",
    "for answers in answerlist:\n",
    "    print(answers)\n"
   ]
  },
  {
   "cell_type": "code",
   "execution_count": 34,
   "id": "9a99c9e2-b2fe-46c1-9231-36ff67ede9c8",
   "metadata": {},
   "outputs": [
    {
     "name": "stdin",
     "output_type": "stream",
     "text": [
      " 72\n"
     ]
    },
    {
     "name": "stdout",
     "output_type": "stream",
     "text": [
      "2\n",
      "2\n",
      "2\n",
      "3\n",
      "3\n"
     ]
    }
   ],
   "source": [
    "#11653\n",
    "#소인수분해\n",
    "n= int(input())\n",
    "i =2\n",
    "while n!=1:\n",
    "    if n%i==0:\n",
    "        n=n/i\n",
    "        print(i)\n",
    "    else:\n",
    "        i+=1"
   ]
  },
  {
   "cell_type": "code",
   "execution_count": 36,
   "id": "4cc69a04-aa78-4550-a669-465874c9020f",
   "metadata": {},
   "outputs": [
    {
     "name": "stdin",
     "output_type": "stream",
     "text": [
      " 3 16\n"
     ]
    },
    {
     "name": "stdout",
     "output_type": "stream",
     "text": [
      "3\n",
      "5\n",
      "7\n",
      "11\n",
      "13\n"
     ]
    }
   ],
   "source": [
    "#1929\n",
    "#소수 구하기\n",
    "M, N = map(int, input().split())\n",
    "\n",
    "arr = [i for i in range(M, N+1)]\n",
    "ans = arr.copy()\n",
    "if 1 in ans:\n",
    "    ans.remove(1)\n",
    "\n",
    "for i in arr:\n",
    "    cnt = 0\n",
    "    for j in range(1,i+1):\n",
    "        if i%j==0:\n",
    "            cnt+=1\n",
    "        if cnt>=3:\n",
    "            ans.remove(i)\n",
    "            break\n",
    "\n",
    "for answers in ans:\n",
    "    print(answers)"
   ]
  },
  {
   "cell_type": "code",
   "execution_count": 67,
   "id": "7b15cc4d-3191-4c23-a3c4-4ac780226400",
   "metadata": {},
   "outputs": [
    {
     "name": "stdin",
     "output_type": "stream",
     "text": [
      " 1 15\n"
     ]
    },
    {
     "name": "stdout",
     "output_type": "stream",
     "text": [
      "2\n",
      "3\n",
      "5\n",
      "7\n",
      "11\n",
      "13\n"
     ]
    }
   ],
   "source": [
    "#1929\n",
    "#소수 구하기\n",
    "#에라토스테네스의 체\n",
    "def prime_list(m,n):\n",
    "    sieve = [True]*(n+1)\n",
    "    \n",
    "    x = int(n**0.5)\n",
    "    for i in range(2, x+1):\n",
    "        if sieve[i]==True:\n",
    "            for j in range(i+i, n+1, i):\n",
    "                sieve[j]=False\n",
    "    return [i for i in range(m,n+1) if sieve[i]==True]\n",
    "\n",
    "m, n = map(int, input().split())\n",
    "for ans in prime_list(m, n):\n",
    "    if ans!=1:\n",
    "        print(ans)"
   ]
  },
  {
   "cell_type": "code",
   "execution_count": 78,
   "id": "462aed7c-45be-4f8c-b582-f1ba92f942a3",
   "metadata": {},
   "outputs": [
    {
     "name": "stdin",
     "output_type": "stream",
     "text": [
      " 5\n"
     ]
    },
    {
     "name": "stdout",
     "output_type": "stream",
     "text": [
      "1\n"
     ]
    },
    {
     "name": "stdin",
     "output_type": "stream",
     "text": [
      " 10\n"
     ]
    },
    {
     "name": "stdout",
     "output_type": "stream",
     "text": [
      "4\n"
     ]
    },
    {
     "name": "stdin",
     "output_type": "stream",
     "text": [
      " 1000\n"
     ]
    },
    {
     "name": "stdout",
     "output_type": "stream",
     "text": [
      "135\n"
     ]
    },
    {
     "name": "stdin",
     "output_type": "stream",
     "text": [
      " 10000\n"
     ]
    },
    {
     "name": "stdout",
     "output_type": "stream",
     "text": [
      "1033\n"
     ]
    },
    {
     "name": "stdin",
     "output_type": "stream",
     "text": [
      " 100000\n"
     ]
    },
    {
     "name": "stdout",
     "output_type": "stream",
     "text": [
      "8392\n"
     ]
    },
    {
     "name": "stdin",
     "output_type": "stream",
     "text": [
      " 0\n"
     ]
    }
   ],
   "source": [
    "#4948\n",
    "#베르트랑 공준\n",
    "def prime_list(n):\n",
    "    sieves = [True]*(2*n+1) #0~2n\n",
    "    x = int(n**0.5)\n",
    "    for i in range(2, n+x):\n",
    "        if sieves[i]==True:\n",
    "            for j in range(i+i, 2*n+1, i):\n",
    "                sieves[j]=False\n",
    "    return [i for i in range(n+1, 2*n+1) if sieves[i]==True]\n",
    "\n",
    "while True:\n",
    "    n = int(input())\n",
    "    if n!=0:\n",
    "        print(len(prime_list(n)))\n",
    "    elif n==0:\n",
    "        break"
   ]
  },
  {
   "cell_type": "code",
   "execution_count": 130,
   "id": "e604422e-25a3-4481-980f-2395a70ded36",
   "metadata": {},
   "outputs": [
    {
     "name": "stdin",
     "output_type": "stream",
     "text": [
      " 1\n",
      " 6\n"
     ]
    },
    {
     "name": "stdout",
     "output_type": "stream",
     "text": [
      "3 3\n",
      "taken time: 1.2866134643554688\n"
     ]
    }
   ],
   "source": [
    "#9020\n",
    "#골드바흐의 추측\n",
    "#1. 소수(에라토스테네스)\n",
    "def prime_list(n):\n",
    "    sieve = [True]*n\n",
    "    x = int(n**0.5)\n",
    "    for i in range(2, x+1):\n",
    "        if sieve[i]==True:\n",
    "            for j in range(i+i, n, i):\n",
    "                sieve[j]=False\n",
    "    return [i for i in range(2,n) if sieve[i]==True]\n",
    "\n",
    "#2. 해답 구하기\n",
    "num = int(input())\n",
    "for _ in range(num):\n",
    "    n = int(input())\n",
    "    pr = prime_list(n)\n",
    "    #파티션 차이, 파티션, 파티션\n",
    "    arr=[(abs(n-2*i), i, n-i) for i in pr if n-i in pr and i<=n-i]\n",
    "    print(arr[-1][1], arr[-1][2])"
   ]
  },
  {
   "cell_type": "code",
   "execution_count": 133,
   "id": "ae9a3828-cd7d-43c6-8e5b-17b9b3fe3299",
   "metadata": {},
   "outputs": [
    {
     "name": "stdin",
     "output_type": "stream",
     "text": [
      " 120\n"
     ]
    },
    {
     "ename": "KeyboardInterrupt",
     "evalue": "Interrupted by user",
     "output_type": "error",
     "traceback": [
      "\u001b[1;31m---------------------------------------------------------------------------\u001b[0m",
      "\u001b[1;31mKeyboardInterrupt\u001b[0m                         Traceback (most recent call last)",
      "\u001b[1;32m<ipython-input-133-2c1fff3ca6b9>\u001b[0m in \u001b[0;36m<module>\u001b[1;34m\u001b[0m\n\u001b[0;32m      4\u001b[0m \u001b[0mnum\u001b[0m \u001b[1;33m=\u001b[0m \u001b[0mint\u001b[0m\u001b[1;33m(\u001b[0m\u001b[0minput\u001b[0m\u001b[1;33m(\u001b[0m\u001b[1;33m)\u001b[0m\u001b[1;33m)\u001b[0m\u001b[1;33m\u001b[0m\u001b[1;33m\u001b[0m\u001b[0m\n\u001b[0;32m      5\u001b[0m \u001b[1;32mfor\u001b[0m \u001b[0m_\u001b[0m \u001b[1;32min\u001b[0m \u001b[0mrange\u001b[0m\u001b[1;33m(\u001b[0m\u001b[0mnum\u001b[0m\u001b[1;33m)\u001b[0m\u001b[1;33m:\u001b[0m\u001b[1;33m\u001b[0m\u001b[1;33m\u001b[0m\u001b[0m\n\u001b[1;32m----> 6\u001b[1;33m     \u001b[0mn\u001b[0m \u001b[1;33m=\u001b[0m \u001b[0mint\u001b[0m\u001b[1;33m(\u001b[0m\u001b[0minput\u001b[0m\u001b[1;33m(\u001b[0m\u001b[1;33m)\u001b[0m\u001b[1;33m)\u001b[0m\u001b[1;33m\u001b[0m\u001b[1;33m\u001b[0m\u001b[0m\n\u001b[0m\u001b[0;32m      7\u001b[0m     \u001b[0msieve\u001b[0m \u001b[1;33m=\u001b[0m \u001b[1;33m[\u001b[0m\u001b[1;32mTrue\u001b[0m\u001b[1;33m]\u001b[0m\u001b[1;33m*\u001b[0m\u001b[0mn\u001b[0m\u001b[1;33m\u001b[0m\u001b[1;33m\u001b[0m\u001b[0m\n\u001b[0;32m      8\u001b[0m     \u001b[0mx\u001b[0m \u001b[1;33m=\u001b[0m \u001b[0mint\u001b[0m\u001b[1;33m(\u001b[0m\u001b[0mn\u001b[0m\u001b[1;33m**\u001b[0m\u001b[1;36m0.5\u001b[0m\u001b[1;33m)\u001b[0m\u001b[1;33m\u001b[0m\u001b[1;33m\u001b[0m\u001b[0m\n",
      "\u001b[1;32m~\\anaconda3\\lib\\site-packages\\ipykernel\\kernelbase.py\u001b[0m in \u001b[0;36mraw_input\u001b[1;34m(self, prompt)\u001b[0m\n\u001b[0;32m    858\u001b[0m                 \u001b[1;34m\"raw_input was called, but this frontend does not support input requests.\"\u001b[0m\u001b[1;33m\u001b[0m\u001b[1;33m\u001b[0m\u001b[0m\n\u001b[0;32m    859\u001b[0m             )\n\u001b[1;32m--> 860\u001b[1;33m         return self._input_request(str(prompt),\n\u001b[0m\u001b[0;32m    861\u001b[0m             \u001b[0mself\u001b[0m\u001b[1;33m.\u001b[0m\u001b[0m_parent_ident\u001b[0m\u001b[1;33m,\u001b[0m\u001b[1;33m\u001b[0m\u001b[1;33m\u001b[0m\u001b[0m\n\u001b[0;32m    862\u001b[0m             \u001b[0mself\u001b[0m\u001b[1;33m.\u001b[0m\u001b[0m_parent_header\u001b[0m\u001b[1;33m,\u001b[0m\u001b[1;33m\u001b[0m\u001b[1;33m\u001b[0m\u001b[0m\n",
      "\u001b[1;32m~\\anaconda3\\lib\\site-packages\\ipykernel\\kernelbase.py\u001b[0m in \u001b[0;36m_input_request\u001b[1;34m(self, prompt, ident, parent, password)\u001b[0m\n\u001b[0;32m    902\u001b[0m             \u001b[1;32mexcept\u001b[0m \u001b[0mKeyboardInterrupt\u001b[0m\u001b[1;33m:\u001b[0m\u001b[1;33m\u001b[0m\u001b[1;33m\u001b[0m\u001b[0m\n\u001b[0;32m    903\u001b[0m                 \u001b[1;31m# re-raise KeyboardInterrupt, to truncate traceback\u001b[0m\u001b[1;33m\u001b[0m\u001b[1;33m\u001b[0m\u001b[1;33m\u001b[0m\u001b[0m\n\u001b[1;32m--> 904\u001b[1;33m                 \u001b[1;32mraise\u001b[0m \u001b[0mKeyboardInterrupt\u001b[0m\u001b[1;33m(\u001b[0m\u001b[1;34m\"Interrupted by user\"\u001b[0m\u001b[1;33m)\u001b[0m \u001b[1;32mfrom\u001b[0m \u001b[1;32mNone\u001b[0m\u001b[1;33m\u001b[0m\u001b[1;33m\u001b[0m\u001b[0m\n\u001b[0m\u001b[0;32m    905\u001b[0m             \u001b[1;32mexcept\u001b[0m \u001b[0mException\u001b[0m \u001b[1;32mas\u001b[0m \u001b[0me\u001b[0m\u001b[1;33m:\u001b[0m\u001b[1;33m\u001b[0m\u001b[1;33m\u001b[0m\u001b[0m\n\u001b[0;32m    906\u001b[0m                 \u001b[0mself\u001b[0m\u001b[1;33m.\u001b[0m\u001b[0mlog\u001b[0m\u001b[1;33m.\u001b[0m\u001b[0mwarning\u001b[0m\u001b[1;33m(\u001b[0m\u001b[1;34m\"Invalid Message:\"\u001b[0m\u001b[1;33m,\u001b[0m \u001b[0mexc_info\u001b[0m\u001b[1;33m=\u001b[0m\u001b[1;32mTrue\u001b[0m\u001b[1;33m)\u001b[0m\u001b[1;33m\u001b[0m\u001b[1;33m\u001b[0m\u001b[0m\n",
      "\u001b[1;31mKeyboardInterrupt\u001b[0m: Interrupted by user"
     ]
    }
   ],
   "source": [
    "#9020\n",
    "#골드바흐의 추측\n",
    "\n",
    "num = int(input())\n",
    "for _ in range(num):\n",
    "    n = int(input())\n",
    "    sieve = [True]*n\n",
    "    x = int(n**0.5)\n",
    "    for i in range(2, x+1):\n",
    "        if sieve[i]==True:\n",
    "            for j in range(i+i, n, i):\n",
    "                sieve[j]=False\n",
    "    pr =[i for i in range(2,n) if sieve[i]==True]\n",
    "    #파티션 차이, 파티션, 파티션\n",
    "    arr=[(abs(n-2*i), i, n-i) for i in pr if n-i in pr and i<=n-i]\n",
    "    print(arr[-1][1], arr[-1][1])"
   ]
  },
  {
   "cell_type": "code",
   "execution_count": 3,
   "id": "9de02ce0-93d8-4d24-82fd-f7c737e3387c",
   "metadata": {},
   "outputs": [
    {
     "name": "stdin",
     "output_type": "stream",
     "text": [
      " 653 375 1000 1000\n"
     ]
    },
    {
     "name": "stdout",
     "output_type": "stream",
     "text": [
      "347\n"
     ]
    }
   ],
   "source": [
    "#1085\n",
    "#직사각형에서 탈출\n",
    "\n",
    "x, y, w, h = map(int, input().split())\n",
    "\n",
    "arr = [x, y, w-x, h-y]\n",
    "arr.sort()\n",
    "print(arr[0])"
   ]
  },
  {
   "cell_type": "code",
   "execution_count": 6,
   "id": "6e2f7dbf-1735-401d-aace-dc63af2ec3b8",
   "metadata": {},
   "outputs": [
    {
     "name": "stdin",
     "output_type": "stream",
     "text": [
      " 30 20\n",
      " 10 10\n",
      " 10 20\n"
     ]
    },
    {
     "name": "stdout",
     "output_type": "stream",
     "text": [
      "30 10\n"
     ]
    }
   ],
   "source": [
    "#3009\n",
    "#네 번째 점\n",
    "xlist = []\n",
    "ylist = []\n",
    "for _ in range(3):\n",
    "    x, y = map(int, input().split())\n",
    "    xlist.append(x)\n",
    "    ylist.append(y)\n",
    "\n",
    "x_ans = list(set(xlist))\n",
    "y_ans = list(set(ylist))\n",
    "\n",
    "answerlist = []\n",
    "\n",
    "for i in x_ans:\n",
    "    if xlist.count(i)==1:\n",
    "        answerlist.append(i)\n",
    "for j in y_ans:\n",
    "    if ylist.count(j)==1:\n",
    "        answerlist.append(j)\n",
    "        \n",
    "print(answerlist[0], answerlist[1])"
   ]
  },
  {
   "cell_type": "code",
   "execution_count": 7,
   "id": "14f8f1a4-b995-4d81-9af7-f90a10fb861c",
   "metadata": {},
   "outputs": [
    {
     "name": "stdin",
     "output_type": "stream",
     "text": [
      " 6 8 10\n"
     ]
    },
    {
     "name": "stdout",
     "output_type": "stream",
     "text": [
      "right\n"
     ]
    },
    {
     "name": "stdin",
     "output_type": "stream",
     "text": [
      " 25 52 60\n"
     ]
    },
    {
     "name": "stdout",
     "output_type": "stream",
     "text": [
      "wrong\n"
     ]
    },
    {
     "name": "stdin",
     "output_type": "stream",
     "text": [
      " 5 12 13\n"
     ]
    },
    {
     "name": "stdout",
     "output_type": "stream",
     "text": [
      "right\n"
     ]
    },
    {
     "name": "stdin",
     "output_type": "stream",
     "text": [
      " 0 0 0\n"
     ]
    }
   ],
   "source": [
    "#4153\n",
    "#직각삼각형\n",
    "while True:\n",
    "    arr = list(map(int, input().split()))\n",
    "    arr.sort()\n",
    "    if arr[0]==arr[1]==arr[2]==0:\n",
    "        break\n",
    "    else:\n",
    "        if arr[0]**2+arr[1]**2==arr[2]**2:\n",
    "            print('right')\n",
    "        else:\n",
    "            print('wrong')"
   ]
  },
  {
   "cell_type": "code",
   "execution_count": 19,
   "id": "c6afc1d4-be64-4642-bff6-d9ee1a552a25",
   "metadata": {},
   "outputs": [
    {
     "name": "stdin",
     "output_type": "stream",
     "text": [
      " 42\n"
     ]
    },
    {
     "name": "stdout",
     "output_type": "stream",
     "text": [
      "5541.769440932395\n",
      "3528\n"
     ]
    }
   ],
   "source": [
    "#3053\n",
    "#택시 기하학\n",
    "import math\n",
    "r = int(input())\n",
    "print((r**2)*math.pi)\n",
    "print(r**2*2)"
   ]
  },
  {
   "cell_type": "code",
   "execution_count": 30,
   "id": "4b88bb10-32d1-4a95-8f54-f50ab941fec3",
   "metadata": {},
   "outputs": [
    {
     "name": "stdin",
     "output_type": "stream",
     "text": [
      " 3\n",
      " 0 0 13 40 0 37\n"
     ]
    },
    {
     "name": "stdout",
     "output_type": "stream",
     "text": [
      "2\n"
     ]
    },
    {
     "name": "stdin",
     "output_type": "stream",
     "text": [
      " 0 0 3 0 7 4\n"
     ]
    },
    {
     "name": "stdout",
     "output_type": "stream",
     "text": [
      "1\n"
     ]
    },
    {
     "name": "stdin",
     "output_type": "stream",
     "text": [
      " 1 1 1 1 1 5\n"
     ]
    },
    {
     "name": "stdout",
     "output_type": "stream",
     "text": [
      "0\n"
     ]
    }
   ],
   "source": [
    "#1002\n",
    "#터렛\n",
    "\n",
    "T = int(input())\n",
    "for _ in range(T):\n",
    "    x1, y1, a, x2, y2, b = map(int, input().split())\n",
    "    distance = ((x1-x2)**2+(y1-y2)**2)**0.5\n",
    "    if a>b:\n",
    "        r1 , r2 = b, a\n",
    "    elif a<=b:\n",
    "        r1, r2 = a, b\n",
    "    \n",
    "    if distance==0 and r1==r2:\n",
    "        print(-1)\n",
    "    elif distance>r1+r2 or distance<abs(r2-r1):\n",
    "        print(0)\n",
    "    elif distance == r1+r2 or distance == abs(r2-r1):\n",
    "        print(1)\n",
    "    elif abs(r1-r2)<distance<r1+r2:\n",
    "        print(2)\n",
    "    "
   ]
  }
 ],
 "metadata": {
  "kernelspec": {
   "display_name": "Python 3",
   "language": "python",
   "name": "python3"
  },
  "language_info": {
   "codemirror_mode": {
    "name": "ipython",
    "version": 3
   },
   "file_extension": ".py",
   "mimetype": "text/x-python",
   "name": "python",
   "nbconvert_exporter": "python",
   "pygments_lexer": "ipython3",
   "version": "3.8.8"
  }
 },
 "nbformat": 4,
 "nbformat_minor": 5
}
