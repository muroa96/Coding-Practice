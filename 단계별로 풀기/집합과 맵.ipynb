{
 "cells": [
  {
   "cell_type": "code",
   "execution_count": 4,
   "id": "9f6eec6a-520d-4523-b999-16bbdc8220e3",
   "metadata": {},
   "outputs": [
    {
     "name": "stdin",
     "output_type": "stream",
     "text": [
      " 6 3 2 10 -10\n",
      " 10 9 -5 2 3 4 5 -10\n"
     ]
    },
    {
     "name": "stdout",
     "output_type": "stream",
     "text": [
      "1 0 0 1 1 0 0 1 "
     ]
    }
   ],
   "source": [
    "#10815\n",
    "#숫자 카드\n",
    "n = int(input())\n",
    "nums = list(map(int, input().split()))\n",
    "m = int(input())\n",
    "isnum = list(map(int, input().split()))\n",
    "arr = [False]*20000001\n",
    "for i in nums:\n",
    "    arr[i+10000000] = True\n",
    "for j in isnum:\n",
    "    if arr[j+10000000]==True:\n",
    "        print(1, end = ' ')\n",
    "    else:\n",
    "        print(0, end = ' ')"
   ]
  },
  {
   "cell_type": "code",
   "execution_count": null,
   "id": "6037aaf4-e3bd-4b7e-b6dc-30e067570ace",
   "metadata": {},
   "outputs": [],
   "source": [
    "##### 14425\n",
    "#문자열 집합\n",
    "n, m = map(int, input().split())\n",
    "dic = {}\n",
    "for _ in range(n):\n",
    "    i = input()\n",
    "    dic[i] = True\n",
    "\n",
    "cnt = 0\n",
    "for _ in range(m):\n",
    "    j = input()\n",
    "    if dic.get(j)!=None:\n",
    "        cnt+=1\n",
    "print(cnt)"
   ]
  },
  {
   "cell_type": "code",
   "execution_count": 7,
   "id": "5bae2a6c-f3b9-48e0-976c-b325c7c5cfb3",
   "metadata": {},
   "outputs": [
    {
     "name": "stdout",
     "output_type": "stream",
     "text": [
      "['a', 'b', 'c', 'd', 'e', 'f', 'g', 'h', 'i', 'j', 'k', 'l', 'm', 'n', 'o', 'p', 'q', 'r', 's', 't', 'u', 'v', 'w', 'x', 'y', 'z', 'A', 'B', 'C', 'D', 'E', 'F', 'G', 'H', 'I', 'J', 'K', 'L', 'M', 'N', 'O', 'P', 'Q', 'R', 'S', 'T', 'U', 'V', 'W', 'X', 'Y', 'Z']\n"
     ]
    }
   ],
   "source": [
    "#1620\n",
    "#나는야 포켓몬 마스터 이다솜\n",
    "n, m = map(int, input().split())\n",
    "numlist = [str(i) for i in range(10)]\n",
    "dic_num = {}\n",
    "dic_name = {}\n",
    "for i in range(1,n+1):\n",
    "    n = input()\n",
    "    dic_num[str(i)] = n\n",
    "    dic_name[n] = i\n",
    "\n",
    "for _ in range(m):\n",
    "    x = input()\n",
    "    if x[0] in numlist: #숫자 입력\n",
    "        print(dic_num[x])\n",
    "    else:\n",
    "        print(dic_name[x])"
   ]
  },
  {
   "cell_type": "code",
   "execution_count": 24,
   "id": "c7a6f62e-f3f4-46c7-8d4d-880aad999a90",
   "metadata": {},
   "outputs": [
    {
     "name": "stdin",
     "output_type": "stream",
     "text": [
      " 10\n",
      " 6 3 2 10 10 10 -10 -10 7 3\n",
      " 8\n",
      " 10 9 -5 2 3 4 5 -10\n"
     ]
    },
    {
     "name": "stdout",
     "output_type": "stream",
     "text": [
      "3\n",
      "0\n",
      "0\n",
      "1\n",
      "2\n",
      "0\n",
      "0\n",
      "2\n"
     ]
    }
   ],
   "source": [
    "#10816\n",
    "#숫자 카드 2\n",
    "n = int(input())\n",
    "nums = list(map(int, input().split()))\n",
    "arr = [0]*20000001\n",
    "for i in nums:\n",
    "    arr[i+10000000]+=1\n",
    "m = int(input())\n",
    "isnum = list(map(int, input().split()))\n",
    "for j in isnum:\n",
    "    print(arr[j+10000000], end = ' ')"
   ]
  },
  {
   "cell_type": "code",
   "execution_count": 2,
   "id": "9a38553d-b664-4a90-a3d1-ee2c8c56511a",
   "metadata": {},
   "outputs": [
    {
     "name": "stdin",
     "output_type": "stream",
     "text": [
      " 3 4\n",
      " ohhenrie\n",
      " charlie\n",
      " baesangwook\n",
      " obama\n",
      " baesangwook\n",
      " ohhenrie\n",
      " clinton\n"
     ]
    },
    {
     "name": "stdout",
     "output_type": "stream",
     "text": [
      "2\n",
      "baesangwook\n",
      "ohhenrie\n"
     ]
    }
   ],
   "source": [
    "#1764\n",
    "#듣보잡\n",
    "n, m = map(int, input().split())\n",
    "nlist = [input() for _ in range(n)]\n",
    "mlist = [input() for _ in range(m)]\n",
    "\n",
    "hash = {}\n",
    "for i in range(len(nlist)):\n",
    "    hash[nlist[i]] = i\n",
    "\n",
    "answer = []\n",
    "for j in mlist:\n",
    "    if j in hash:\n",
    "        answer.append(j)\n",
    "answer.sort()\n",
    "print(len(answer))\n",
    "for k in answer:\n",
    "    print(k)"
   ]
  },
  {
   "cell_type": "code",
   "execution_count": 17,
   "id": "95e90621-4cff-4106-a230-663fbd311045",
   "metadata": {},
   "outputs": [
    {
     "name": "stdin",
     "output_type": "stream",
     "text": [
      " 3 5\n",
      " 1 2 4\n",
      " 2 3 4 5 6\n"
     ]
    },
    {
     "name": "stdout",
     "output_type": "stream",
     "text": [
      "{1, 3, 5, 6}\n"
     ]
    }
   ],
   "source": [
    "#1269\n",
    "#대칭 차집합\n",
    "a, b = map(int, input().split())\n",
    "\n",
    "alist = list(map(int, input().split()))\n",
    "blist = list(map(int, input().split()))\n",
    "seta = set(alist)\n",
    "setb = set(blist)\n",
    "u = seta|setb\n",
    "i = seta&setb\n",
    "an = u-i\n",
    "print(len(an))\n"
   ]
  },
  {
   "cell_type": "code",
   "execution_count": 30,
   "id": "e9337ca3-3de6-4cdf-9d76-9ceafcbceb42",
   "metadata": {},
   "outputs": [
    {
     "name": "stdin",
     "output_type": "stream",
     "text": [
      " ababc\n"
     ]
    },
    {
     "name": "stdout",
     "output_type": "stream",
     "text": [
      "{('c',), ('b',), ('a',)}\n",
      "{('a', 'a'), ('b', 'b'), ('a', 'b'), ('b', 'c'), ('a', 'c'), ('b', 'a')}\n",
      "{('a', 'b', 'a'), ('a', 'b', 'b'), ('b', 'a', 'c'), ('b', 'b', 'c'), ('a', 'b', 'c'), ('a', 'a', 'b'), ('a', 'a', 'c'), ('b', 'a', 'b')}\n",
      "{('b', 'a', 'b', 'c'), ('a', 'b', 'b', 'c'), ('a', 'b', 'a', 'b'), ('a', 'b', 'a', 'c'), ('a', 'a', 'b', 'c')}\n",
      "{('a', 'b', 'a', 'b', 'c')}\n",
      "23\n"
     ]
    }
   ],
   "source": [
    "#11478\n",
    "#서로 다른 부분 문자열의 개수\n",
    "n = input()\n",
    "for i in "
   ]
  }
 ],
 "metadata": {
  "kernelspec": {
   "display_name": "Python 3",
   "language": "python",
   "name": "python3"
  },
  "language_info": {
   "codemirror_mode": {
    "name": "ipython",
    "version": 3
   },
   "file_extension": ".py",
   "mimetype": "text/x-python",
   "name": "python",
   "nbconvert_exporter": "python",
   "pygments_lexer": "ipython3",
   "version": "3.8.8"
  }
 },
 "nbformat": 4,
 "nbformat_minor": 5
}
