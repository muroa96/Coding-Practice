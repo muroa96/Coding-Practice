{
 "cells": [
  {
   "cell_type": "code",
   "execution_count": 8,
   "id": "3935d296-2bcd-4a29-920a-e43c6a5fe4c8",
   "metadata": {},
   "outputs": [
    {
     "name": "stdin",
     "output_type": "stream",
     "text": [
      " 5\n",
      " 20 15 64 \n"
     ]
    },
    {
     "name": "stdout",
     "output_type": "stream",
     "text": [
      "15 64\n"
     ]
    }
   ],
   "source": [
    "#10818\n",
    "#최소, 최대\n",
    "n = int(input())\n",
    "arr = list(map(int, input().split()))\n",
    "print(min(arr), max(arr))"
   ]
  },
  {
   "cell_type": "code",
   "execution_count": 16,
   "id": "47a76fd6-0c3d-40b9-a54d-4de61b7d7823",
   "metadata": {},
   "outputs": [
    {
     "name": "stdin",
     "output_type": "stream",
     "text": [
      " 1\n",
      " 2\n",
      " 3\n",
      " 4\n",
      " 5\n",
      " 6\n",
      " 7\n",
      " 8\n",
      " 9\n"
     ]
    },
    {
     "name": "stdout",
     "output_type": "stream",
     "text": [
      "9\n",
      "9\n"
     ]
    }
   ],
   "source": [
    "#2562\n",
    "#최댓값\n",
    "arr = [int(input()) for _ in range(9)]\n",
    "print(max(arr))\n",
    "print(arr.index(max(arr))+1)"
   ]
  },
  {
   "cell_type": "code",
   "execution_count": 22,
   "id": "896e30a9-ffc4-4413-a401-e1f11540aeeb",
   "metadata": {},
   "outputs": [
    {
     "name": "stdin",
     "output_type": "stream",
     "text": [
      " 150\n",
      " 266\n",
      " 427\n"
     ]
    },
    {
     "name": "stdout",
     "output_type": "stream",
     "text": [
      "3\n",
      "1\n",
      "0\n",
      "2\n",
      "0\n",
      "0\n",
      "0\n",
      "2\n",
      "0\n",
      "0\n"
     ]
    }
   ],
   "source": [
    "#2577\n",
    "#숫자의 개수\n",
    "a = int(input())\n",
    "b = int(input())\n",
    "c = int(input())\n",
    "\n",
    "numstr = [str(i) for i in range(10)]\n",
    "\n",
    "# mul = [i for i in str(a*b*c)]\n",
    "mul = \"\".join(str(a*b*c)) #pythonic code\n",
    "for i in numstr:\n",
    "    print(mul.count(i))"
   ]
  },
  {
   "cell_type": "code",
   "execution_count": 28,
   "id": "7cfb938b-696c-4dad-8a54-6c5ead7250ef",
   "metadata": {},
   "outputs": [
    {
     "name": "stdin",
     "output_type": "stream",
     "text": [
      " 1\n",
      " 2\n",
      " 3\n",
      " 4\n",
      " 5\n",
      " 6\n",
      " 7\n",
      " 8\n",
      " 9\n",
      " 9\n"
     ]
    },
    {
     "name": "stdout",
     "output_type": "stream",
     "text": [
      "9\n"
     ]
    }
   ],
   "source": [
    "#3052\n",
    "#나머지\n",
    "arr = [int(input())%42 for _ in range(10)]\n",
    "\n",
    "arr = set(arr)\n",
    "# arr = list(arr)\n",
    "print(len(arr))"
   ]
  },
  {
   "cell_type": "code",
   "execution_count": 37,
   "id": "67f3e92d-45ac-475e-a188-f71bd367e6b7",
   "metadata": {},
   "outputs": [
    {
     "name": "stdin",
     "output_type": "stream",
     "text": [
      " 3\n",
      " 40 80 60\n"
     ]
    },
    {
     "name": "stdout",
     "output_type": "stream",
     "text": [
      "75.0\n"
     ]
    }
   ],
   "source": [
    "#1546\n",
    "#평균\n",
    "m = int(input())\n",
    "arr = list(map(int, input().split()))\n",
    "\n",
    "cnt = 0\n",
    "for i in arr:\n",
    "    cnt+=(i/max(arr))*100\n",
    "print(cnt/m)"
   ]
  },
  {
   "cell_type": "code",
   "execution_count": 59,
   "id": "1771976b-b871-41ca-9a60-b8ac704d10d4",
   "metadata": {},
   "outputs": [
    {
     "name": "stdin",
     "output_type": "stream",
     "text": [
      " 1\n",
      " OOXXOXXOOO\n"
     ]
    },
    {
     "name": "stdout",
     "output_type": "stream",
     "text": [
      "10\n"
     ]
    }
   ],
   "source": [
    "#8958\n",
    "#OX퀴즈\n",
    "n = int(input())\n",
    "arr = [input() for _ in range(n)]\n",
    "for i in arr:\n",
    "    cnt = 0\n",
    "    an = 0\n",
    "    for j in i:\n",
    "        if j=='O':\n",
    "            cnt+=1\n",
    "        elif j=='X':\n",
    "            an+=sum([k for k in range(1,cnt+1)])\n",
    "            cnt=0\n",
    "    an+=sum([k for k in range(1,cnt+1)])\n",
    "    print(an)"
   ]
  },
  {
   "cell_type": "code",
   "execution_count": 44,
   "id": "85bf734a-bad7-410d-a60a-e0ebddf33231",
   "metadata": {},
   "outputs": [
    {
     "name": "stdin",
     "output_type": "stream",
     "text": [
      " 1\n",
      " 5 50 50 70 80 100\n"
     ]
    },
    {
     "name": "stdout",
     "output_type": "stream",
     "text": [
      "40.000%\n"
     ]
    }
   ],
   "source": [
    "#4344\n",
    "#평균은 넘겠지\n",
    "#wrong\n",
    "c = int(input())\n",
    "for _ in range(c):\n",
    "    cnt = 0\n",
    "    arr = list(map(int, input().split()))\n",
    "    for i in arr[1:]:\n",
    "        if i > sum(arr[1:])/arr[0]:\n",
    "            cnt+=1\n",
    "    per = cnt/arr[0]*100\n",
    "    print(f'{per:.3f}%')\n",
    "    "
   ]
  }
 ],
 "metadata": {
  "kernelspec": {
   "display_name": "Python 3",
   "language": "python",
   "name": "python3"
  },
  "language_info": {
   "codemirror_mode": {
    "name": "ipython",
    "version": 3
   },
   "file_extension": ".py",
   "mimetype": "text/x-python",
   "name": "python",
   "nbconvert_exporter": "python",
   "pygments_lexer": "ipython3",
   "version": "3.8.8"
  }
 },
 "nbformat": 4,
 "nbformat_minor": 5
}
