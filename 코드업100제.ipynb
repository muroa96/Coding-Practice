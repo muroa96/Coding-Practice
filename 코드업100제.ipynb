{
  "nbformat": 4,
  "nbformat_minor": 0,
  "metadata": {
    "colab": {
      "name": "코드업100제.ipynb",
      "provenance": [],
      "collapsed_sections": [],
      "authorship_tag": "ABX9TyMq/qRlTl0jwRk5Y6iGDLfG",
      "include_colab_link": true
    },
    "kernelspec": {
      "name": "python3",
      "display_name": "Python 3"
    },
    "language_info": {
      "name": "python"
    }
  },
  "cells": [
    {
      "cell_type": "markdown",
      "metadata": {
        "id": "view-in-github",
        "colab_type": "text"
      },
      "source": [
        "<a href=\"https://colab.research.google.com/github/muroa96/Coding-Practice/blob/master/%EC%BD%94%EB%93%9C%EC%97%85100%EC%A0%9C.ipynb\" target=\"_parent\"><img src=\"https://colab.research.google.com/assets/colab-badge.svg\" alt=\"Open In Colab\"/></a>"
      ]
    },
    {
      "cell_type": "markdown",
      "source": [
        "코드업 100제"
      ],
      "metadata": {
        "id": "4nlaM0H38hrb"
      }
    },
    {
      "cell_type": "code",
      "execution_count": null,
      "metadata": {
        "colab": {
          "base_uri": "https://localhost:8080/"
        },
        "id": "MyfHc-aHttUO",
        "outputId": "943c8769-fcc2-4716-e661-a6d085fb4817"
      },
      "outputs": [
        {
          "output_type": "stream",
          "name": "stdout",
          "text": [
            "Hello\n"
          ]
        }
      ],
      "source": [
        "#6001\n",
        "print(\"Hello\")"
      ]
    },
    {
      "cell_type": "code",
      "source": [
        "#6002\n",
        "print(\"Hello World\")"
      ],
      "metadata": {
        "colab": {
          "base_uri": "https://localhost:8080/"
        },
        "id": "1p2f15Tt8-Kr",
        "outputId": "0bdb2225-32fa-43c9-c91f-b32e29f3f426"
      },
      "execution_count": null,
      "outputs": [
        {
          "output_type": "stream",
          "name": "stdout",
          "text": [
            "Hello World\n"
          ]
        }
      ]
    },
    {
      "cell_type": "code",
      "source": [
        "#6003\n",
        "print(\"Hello\")\n",
        "print(\"World\")"
      ],
      "metadata": {
        "colab": {
          "base_uri": "https://localhost:8080/"
        },
        "id": "YBkONrQW9Koy",
        "outputId": "d483156d-7641-4ec3-da61-a0005f652568"
      },
      "execution_count": null,
      "outputs": [
        {
          "output_type": "stream",
          "name": "stdout",
          "text": [
            "Hello\n",
            "World\n"
          ]
        }
      ]
    },
    {
      "cell_type": "code",
      "source": [
        "#6004\n",
        "print(\"'Hello'\")"
      ],
      "metadata": {
        "colab": {
          "base_uri": "https://localhost:8080/"
        },
        "id": "BHAZeiHP-afm",
        "outputId": "8cb0459d-0aa2-4e09-f732-c7dd42a88c7f"
      },
      "execution_count": null,
      "outputs": [
        {
          "output_type": "stream",
          "name": "stdout",
          "text": [
            "'Hello'\n"
          ]
        }
      ]
    },
    {
      "cell_type": "code",
      "source": [
        "#6005\n",
        "print('\"Hello World\"')"
      ],
      "metadata": {
        "colab": {
          "base_uri": "https://localhost:8080/"
        },
        "id": "bjoNSxEO-hvZ",
        "outputId": "b55933a9-c20b-40d2-c7b4-f2ef41b93cc3"
      },
      "execution_count": null,
      "outputs": [
        {
          "output_type": "stream",
          "name": "stdout",
          "text": [
            "\"Hello World\"\n"
          ]
        }
      ]
    },
    {
      "cell_type": "code",
      "source": [
        "#6006\n",
        "print('\\\"!@#$%^&*()\\'')"
      ],
      "metadata": {
        "colab": {
          "base_uri": "https://localhost:8080/"
        },
        "id": "V-zfMCSrbsSC",
        "outputId": "d8afd6a8-7a14-4e94-9eee-5a3f0cfc31c5"
      },
      "execution_count": null,
      "outputs": [
        {
          "output_type": "stream",
          "name": "stdout",
          "text": [
            "\"!@#$%^&*()'\n"
          ]
        }
      ]
    },
    {
      "cell_type": "code",
      "source": [
        "#6007\n",
        "print('\\\"C:\\\\Download\\\\\\'hello\\'.py\\\"')"
      ],
      "metadata": {
        "colab": {
          "base_uri": "https://localhost:8080/"
        },
        "id": "2jSeBJC5ki7A",
        "outputId": "d6e117b4-f306-4b61-b5bd-060405fa0647"
      },
      "execution_count": null,
      "outputs": [
        {
          "output_type": "stream",
          "name": "stdout",
          "text": [
            "\"C:\\Download\\'hello'.py\"\n"
          ]
        }
      ]
    },
    {
      "cell_type": "code",
      "source": [
        "#6008\n",
        "print('print(\"Hello\\\\nWorld\")')"
      ],
      "metadata": {
        "colab": {
          "base_uri": "https://localhost:8080/"
        },
        "id": "HUOUXIBekuud",
        "outputId": "f28cbde1-9f49-4915-d935-436651cd9b2d"
      },
      "execution_count": null,
      "outputs": [
        {
          "output_type": "stream",
          "name": "stdout",
          "text": [
            "print(\"Hello\\nWorld\")\n"
          ]
        }
      ]
    },
    {
      "cell_type": "code",
      "source": [
        "#6009\n",
        "c = input()\n",
        "print(c)"
      ],
      "metadata": {
        "colab": {
          "base_uri": "https://localhost:8080/"
        },
        "id": "gP7R5MMb-oI3",
        "outputId": "0b4319c5-4937-4f68-91a6-d7428483fce9"
      },
      "execution_count": null,
      "outputs": [
        {
          "output_type": "stream",
          "name": "stdout",
          "text": [
            "aa\n",
            "aa\n"
          ]
        }
      ]
    },
    {
      "cell_type": "code",
      "source": [
        "#6010\n",
        "n = input()\n",
        "n = int(n)\n",
        "print(n)"
      ],
      "metadata": {
        "colab": {
          "base_uri": "https://localhost:8080/"
        },
        "id": "AxjR7TcrFT5s",
        "outputId": "be1cac10-9ae5-4cd1-9f79-6fdc4d8d43db"
      },
      "execution_count": null,
      "outputs": [
        {
          "output_type": "stream",
          "name": "stdout",
          "text": [
            "5\n",
            "5\n"
          ]
        }
      ]
    },
    {
      "cell_type": "code",
      "source": [
        "#6011\n",
        "x = input()\n",
        "x = float(x)\n",
        "print(x)"
      ],
      "metadata": {
        "colab": {
          "base_uri": "https://localhost:8080/"
        },
        "id": "t_schvC2FuHP",
        "outputId": "a545c638-3520-4ee9-9621-d387d037c372"
      },
      "execution_count": null,
      "outputs": [
        {
          "output_type": "stream",
          "name": "stdout",
          "text": [
            "2.2\n",
            "2.2\n"
          ]
        }
      ]
    },
    {
      "cell_type": "code",
      "source": [
        "#6012\n",
        "x= input()\n",
        "y = input()\n",
        "print(x)\n",
        "print(y)"
      ],
      "metadata": {
        "colab": {
          "base_uri": "https://localhost:8080/"
        },
        "id": "T2txuPpCF1xF",
        "outputId": "386bae74-ba3d-4481-a582-9f7551c06d9c"
      },
      "execution_count": null,
      "outputs": [
        {
          "output_type": "stream",
          "name": "stdout",
          "text": [
            "1\n",
            "2\n",
            "1\n",
            "2\n"
          ]
        }
      ]
    },
    {
      "cell_type": "code",
      "source": [
        "#6013\n",
        "a = input()\n",
        "b = input()\n",
        "\n",
        "print(b)\n",
        "print(a)"
      ],
      "metadata": {
        "id": "Hrkk2K8QG3Iw",
        "colab": {
          "base_uri": "https://localhost:8080/"
        },
        "outputId": "9fe9237f-3cd4-4dc5-8140-c0e199766c14"
      },
      "execution_count": null,
      "outputs": [
        {
          "output_type": "stream",
          "name": "stdout",
          "text": [
            "1\n",
            "2\n",
            "2\n",
            "1\n"
          ]
        }
      ]
    },
    {
      "cell_type": "code",
      "source": [
        "#6014\n",
        "x = input()\n",
        "\n",
        "print(x)\n",
        "print(x)\n",
        "print(x)"
      ],
      "metadata": {
        "colab": {
          "base_uri": "https://localhost:8080/"
        },
        "id": "itCSt1DJXnsf",
        "outputId": "a39b71b2-9a5f-4208-d438-6375a0f7e4ed"
      },
      "execution_count": null,
      "outputs": [
        {
          "output_type": "stream",
          "name": "stdout",
          "text": [
            "0.1\n",
            "0.1\n",
            "0.1\n",
            "0.1\n"
          ]
        }
      ]
    },
    {
      "cell_type": "code",
      "source": [
        "#6015\n",
        "a, b = input().split()\n",
        "print(a)\n",
        "print(b)\n"
      ],
      "metadata": {
        "colab": {
          "base_uri": "https://localhost:8080/"
        },
        "id": "PU7Ce7ZxX0Se",
        "outputId": "1c191723-dd72-445d-f18c-29e4b94dd528"
      },
      "execution_count": null,
      "outputs": [
        {
          "output_type": "stream",
          "name": "stdout",
          "text": [
            "1 2\n",
            "1\n",
            "2\n"
          ]
        }
      ]
    },
    {
      "cell_type": "code",
      "source": [
        "#6016\n",
        "a, b = input().split()\n",
        "print(b, a)"
      ],
      "metadata": {
        "colab": {
          "base_uri": "https://localhost:8080/"
        },
        "id": "iEHhsUWUX-k5",
        "outputId": "a8189bd4-ceb9-4c6c-9255-59816fb5edaf"
      },
      "execution_count": null,
      "outputs": [
        {
          "output_type": "stream",
          "name": "stdout",
          "text": [
            "2 3\n",
            "3 2\n"
          ]
        }
      ]
    },
    {
      "cell_type": "code",
      "source": [
        "#6017\n",
        "s = input()\n",
        "print(s, s, s)"
      ],
      "metadata": {
        "colab": {
          "base_uri": "https://localhost:8080/"
        },
        "id": "Uv7S1oD5YOsQ",
        "outputId": "499620b9-ca0f-4faa-843c-dc4298fd1178"
      },
      "execution_count": null,
      "outputs": [
        {
          "output_type": "stream",
          "name": "stdout",
          "text": [
            "abc\n",
            "abc abc abc\n"
          ]
        }
      ]
    },
    {
      "cell_type": "code",
      "source": [
        "#6018\n",
        "a, b = input().split(':')\n",
        "print(a, b, sep=':')"
      ],
      "metadata": {
        "id": "1IAJ9YbuaxkQ",
        "colab": {
          "base_uri": "https://localhost:8080/"
        },
        "outputId": "34866768-427e-4d09-9eeb-67d5997c2435"
      },
      "execution_count": null,
      "outputs": [
        {
          "output_type": "stream",
          "name": "stdout",
          "text": [
            "3:16\n",
            "3:16\n"
          ]
        }
      ]
    },
    {
      "cell_type": "code",
      "source": [
        "#6019\n",
        "y, m, d = input().split('.')\n",
        "print(d, m, y, sep='-')"
      ],
      "metadata": {
        "colab": {
          "base_uri": "https://localhost:8080/"
        },
        "id": "45HJPIOiglgn",
        "outputId": "ed7c3cb8-0b75-490c-efc3-aa926162916d"
      },
      "execution_count": null,
      "outputs": [
        {
          "output_type": "stream",
          "name": "stdout",
          "text": [
            "2022.02.06\n",
            "06-02-2022\n"
          ]
        }
      ]
    },
    {
      "cell_type": "code",
      "source": [
        "#6020\n",
        "a, b = input().split('-')\n",
        "print(a, b, sep = '')"
      ],
      "metadata": {
        "colab": {
          "base_uri": "https://localhost:8080/"
        },
        "id": "o2V9fmUvhE2q",
        "outputId": "b9e0743f-329e-4b2d-ae92-2c47a9bfe6e3"
      },
      "execution_count": null,
      "outputs": [
        {
          "output_type": "stream",
          "name": "stdout",
          "text": [
            "961224-1234567\n",
            "9612241234567\n"
          ]
        }
      ]
    },
    {
      "cell_type": "code",
      "source": [
        "#6021\n",
        "s= input()\n",
        "for i in range(5):\n",
        "    print(s[i])"
      ],
      "metadata": {
        "colab": {
          "base_uri": "https://localhost:8080/"
        },
        "id": "s4JwiXJshSjB",
        "outputId": "0926aa10-c9d1-4bf8-cdfb-c78befb4b82d"
      },
      "execution_count": null,
      "outputs": [
        {
          "output_type": "stream",
          "name": "stdout",
          "text": [
            "Hello\n",
            "H\n",
            "e\n",
            "l\n",
            "l\n",
            "o\n"
          ]
        }
      ]
    },
    {
      "cell_type": "code",
      "source": [
        "#6022\n",
        "s = input()\n",
        "print(s[0:2], s[2:4], s[4:6])\n"
      ],
      "metadata": {
        "id": "KVn_kFh9hn-0",
        "colab": {
          "base_uri": "https://localhost:8080/"
        },
        "outputId": "e8619ba2-2c6c-4f96-9d5f-f7e50809a842"
      },
      "execution_count": null,
      "outputs": [
        {
          "output_type": "stream",
          "name": "stdout",
          "text": [
            "220216\n",
            "22 02 16\n"
          ]
        }
      ]
    },
    {
      "cell_type": "code",
      "source": [
        "#6023\n",
        "s = input()\n",
        "x = s.split(sep = ':')\n",
        "print(x[1])"
      ],
      "metadata": {
        "colab": {
          "base_uri": "https://localhost:8080/"
        },
        "id": "jeV0wDM5c4Eb",
        "outputId": "1588ff0c-77f5-4d28-9bfe-9a45fe75758f"
      },
      "execution_count": null,
      "outputs": [
        {
          "output_type": "stream",
          "name": "stdout",
          "text": [
            "21:18:5\n",
            "18\n"
          ]
        }
      ]
    },
    {
      "cell_type": "code",
      "source": [
        "#6024\n",
        "a1, a2 = input().split()\n",
        "print(a1+a2)"
      ],
      "metadata": {
        "colab": {
          "base_uri": "https://localhost:8080/"
        },
        "id": "MIPdl9_mdZYi",
        "outputId": "985c9f34-8618-44b7-ff0b-74298d29c10d"
      },
      "execution_count": null,
      "outputs": [
        {
          "output_type": "stream",
          "name": "stdout",
          "text": [
            "hello world\n",
            "helloworld\n"
          ]
        }
      ]
    },
    {
      "cell_type": "code",
      "source": [
        "#6025\n",
        "x, y = map(int, input().split())\n",
        "print(x+y)"
      ],
      "metadata": {
        "colab": {
          "base_uri": "https://localhost:8080/"
        },
        "id": "5EMmrBo6eaO1",
        "outputId": "e644ea2b-ddfa-4f00-e39e-dcc580823fec"
      },
      "execution_count": null,
      "outputs": [
        {
          "output_type": "stream",
          "name": "stdout",
          "text": [
            "2 5\n",
            "7\n"
          ]
        }
      ]
    },
    {
      "cell_type": "code",
      "source": [
        "#6026\n",
        "x = float(input())\n",
        "y = float(input())\n",
        "print(x+y)"
      ],
      "metadata": {
        "colab": {
          "base_uri": "https://localhost:8080/"
        },
        "id": "BGXBTawoemit",
        "outputId": "a3642698-e2b6-4312-8045-952ed978af30"
      },
      "execution_count": null,
      "outputs": [
        {
          "output_type": "stream",
          "name": "stdout",
          "text": [
            "2.1\n",
            "3.9\n",
            "6.0\n"
          ]
        }
      ]
    },
    {
      "cell_type": "code",
      "source": [
        "#6027(wrong)\n",
        "n = int(input())\n",
        "print('%x'% n)"
      ],
      "metadata": {
        "colab": {
          "base_uri": "https://localhost:8080/"
        },
        "id": "d-PegRute6ni",
        "outputId": "809707fd-f2e0-4936-8525-03f3029b6928"
      },
      "execution_count": null,
      "outputs": [
        {
          "output_type": "stream",
          "name": "stdout",
          "text": [
            "15\n",
            "f\n"
          ]
        }
      ]
    },
    {
      "cell_type": "code",
      "source": [
        "#6028\n",
        "n = int(input())\n",
        "print('%X'% n)"
      ],
      "metadata": {
        "colab": {
          "base_uri": "https://localhost:8080/"
        },
        "id": "qAqIL13sgmCq",
        "outputId": "f9de8d85-face-484b-b587-936afed78d7f"
      },
      "execution_count": null,
      "outputs": [
        {
          "output_type": "stream",
          "name": "stdout",
          "text": [
            "15\n",
            "F\n"
          ]
        }
      ]
    },
    {
      "cell_type": "code",
      "source": [
        "#6029(wrong)\n",
        "n = int(input(), 16)\n",
        "print('%o' % n) "
      ],
      "metadata": {
        "colab": {
          "base_uri": "https://localhost:8080/"
        },
        "id": "q9CKjXtPgy8N",
        "outputId": "61a0d0d7-9fdd-4100-8eb6-2ebe888863e4"
      },
      "execution_count": null,
      "outputs": [
        {
          "output_type": "stream",
          "name": "stdout",
          "text": [
            "35\n",
            "65\n"
          ]
        }
      ]
    },
    {
      "cell_type": "code",
      "source": [
        "#6030(wrong)\n",
        "n = ord(input())\n",
        "print(n)"
      ],
      "metadata": {
        "colab": {
          "base_uri": "https://localhost:8080/"
        },
        "id": "-XpOZ99phdH6",
        "outputId": "c5a3651a-c967-49ed-e82c-d64ae825eb25"
      },
      "execution_count": null,
      "outputs": [
        {
          "output_type": "stream",
          "name": "stdout",
          "text": [
            "d\n",
            "100\n"
          ]
        }
      ]
    },
    {
      "cell_type": "code",
      "source": [
        ""
      ],
      "metadata": {
        "id": "L5WZHDPshr7e"
      },
      "execution_count": null,
      "outputs": []
    }
  ]
}