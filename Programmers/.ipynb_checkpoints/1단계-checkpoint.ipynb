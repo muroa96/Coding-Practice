{
 "cells": [
  {
   "cell_type": "code",
   "execution_count": 1,
   "id": "2fad088a-3a79-4a31-a8a9-007106d0b7d0",
   "metadata": {},
   "outputs": [
    {
     "name": "stdin",
     "output_type": "stream",
     "text": [
      " 3 5\n"
     ]
    },
    {
     "name": "stdout",
     "output_type": "stream",
     "text": [
      "***\n",
      "***\n",
      "***\n",
      "***\n",
      "***\n"
     ]
    }
   ],
   "source": [
    "#직사각형 별찍기\n",
    "n, m = map(int, input().split())\n",
    "for i in range(m):\n",
    "    print('*'*n)"
   ]
  },
  {
   "cell_type": "code",
   "execution_count": 2,
   "id": "e515a6eb-671e-463a-b228-216e5220ac05",
   "metadata": {},
   "outputs": [],
   "source": [
    "#x만큼 간격이 있는 n개의 숫자\n",
    "def solution(x, n):\n",
    "    answer = [x*i for i in range(1,n+1)]\n",
    "    return answer"
   ]
  },
  {
   "cell_type": "code",
   "execution_count": 3,
   "id": "15bcd3aa-e0c5-4c3c-8b66-7cdf2d62f789",
   "metadata": {},
   "outputs": [],
   "source": [
    "#행렬의 덧셈\n",
    "def solution(arr1, arr2):\n",
    "    answer = []\n",
    "    for i in range(len(arr1)):\n",
    "        arr = []\n",
    "        for j in range(len(arr1[0])):\n",
    "            arr.append(arr1[i][j]+arr2[i][j])\n",
    "        answer.append(arr)\n",
    "    return answer"
   ]
  },
  {
   "cell_type": "code",
   "execution_count": 4,
   "id": "9765dba3-8211-4593-acf6-62642c78396f",
   "metadata": {},
   "outputs": [],
   "source": [
    "#핸드폰 번호 가리기\n",
    "def solution(phone_number):\n",
    "    answer = ''\n",
    "    answer+='*'*(len(phone_number)-4)+phone_number[-4:]\n",
    "    return answer"
   ]
  },
  {
   "cell_type": "code",
   "execution_count": 5,
   "id": "4ab9c7eb-3494-40d5-901e-4ace54c9e408",
   "metadata": {},
   "outputs": [],
   "source": [
    "#하샤드 수\n",
    "def solution(x):\n",
    "    num = sum([int(i) for i in str(x)])\n",
    "    if x%num ==0:\n",
    "        answer = True\n",
    "    else:\n",
    "        answer = False\n",
    "    return answer"
   ]
  },
  {
   "cell_type": "code",
   "execution_count": 6,
   "id": "aba06d7d-736f-4650-8aaa-89dbee212713",
   "metadata": {},
   "outputs": [],
   "source": [
    "#평균 구하기\n",
    "def solution(arr):\n",
    "    return (sum(arr)/len(arr))"
   ]
  },
  {
   "cell_type": "code",
   "execution_count": 7,
   "id": "b3f4d365-7168-41ce-8c36-cd35a89b1a6d",
   "metadata": {},
   "outputs": [],
   "source": [
    "#콜라츠 추측\n",
    "def solution(num):\n",
    "    answer = 0\n",
    "    while True:\n",
    "        if num==1 or answer>=500:\n",
    "            break\n",
    "        \n",
    "        if num%2==0:\n",
    "            num = num/2\n",
    "        elif num%2 != 0:\n",
    "            num = num*3+1\n",
    "        answer+=1\n",
    "    if answer ==500:\n",
    "        answer = -1\n",
    "    return answer"
   ]
  },
  {
   "cell_type": "code",
   "execution_count": 8,
   "id": "c7dca8b0-070f-4772-a5c8-79976bc5c692",
   "metadata": {},
   "outputs": [],
   "source": [
    "#최대공약수와 최소공배수\n",
    "import math\n",
    "def solution(n, m):\n",
    "    return [math.gcd(n,m),n*m/math.gcd(n,m)]"
   ]
  },
  {
   "cell_type": "code",
   "execution_count": 9,
   "id": "36b25e2e-f761-41c9-ab73-ce73b88c9a48",
   "metadata": {},
   "outputs": [],
   "source": [
    "#짝수와 홀수\n",
    "def solution(num):\n",
    "    return 'Even' if num%2==0 else 'Odd'"
   ]
  },
  {
   "cell_type": "code",
   "execution_count": 10,
   "id": "6fb1ab60-17d8-4c57-b7df-bd7b9263352d",
   "metadata": {},
   "outputs": [],
   "source": [
    "#제일 작은 수 제거하기\n",
    "def solution(arr):\n",
    "    arr.remove(min(arr))\n",
    "    return arr if len(arr) !=0 else [-1]"
   ]
  },
  {
   "cell_type": "code",
   "execution_count": 11,
   "id": "2aa3c2a3-a501-4d80-93c9-a23b609ea5c6",
   "metadata": {},
   "outputs": [],
   "source": [
    "#정수 제곱근 판별\n",
    "def solution(n):\n",
    "    return (n**0.5+1)**2 if n**0.5==int(n**0.5) else -1"
   ]
  },
  {
   "cell_type": "code",
   "execution_count": 1,
   "id": "639cb075-bac7-46ef-8f92-0d8d9ccd1929",
   "metadata": {},
   "outputs": [],
   "source": [
    "#정수 내림차순으로 배치하기\n",
    "def solution(n):\n",
    "    result = ''\n",
    "    arr = [int(i) for i in str(n)]\n",
    "    arr.sort(reverse = True)\n",
    "    for i in arr:\n",
    "        result+= str(i)\n",
    "    answer = int(result)\n",
    "    return answer"
   ]
  },
  {
   "cell_type": "code",
   "execution_count": 13,
   "id": "c8b4c8ae-a744-40d6-8e24-e3058ae8bfd0",
   "metadata": {},
   "outputs": [],
   "source": [
    "#자연수 뒤집어서 배열로 만들기\n",
    "def solution(n):\n",
    "    arr = [int(i) for i in str(n)]\n",
    "    return arr[::-1]"
   ]
  },
  {
   "cell_type": "code",
   "execution_count": 14,
   "id": "9429f179-ad65-4035-9670-65de194f2a48",
   "metadata": {},
   "outputs": [],
   "source": [
    "#자릿수 더하기\n",
    "def solution(n):\n",
    "    answer = 0\n",
    "    for i in str(n):\n",
    "        answer+=int(i)\n",
    "    return answer"
   ]
  },
  {
   "cell_type": "code",
   "execution_count": 2,
   "id": "627edd29-8dfe-4d9d-84b7-40b2e5ad7060",
   "metadata": {},
   "outputs": [],
   "source": [
    "#이상한 문자 만들기\n",
    "def solution(s):\n",
    "    answer = ''\n",
    "    arr = s.split(' ')\n",
    "    result = []\n",
    "    for i in arr:\n",
    "        answer = ''\n",
    "        for j in range(len(i)):\n",
    "            if j%2==0:\n",
    "                answer+=i[j].upper()\n",
    "            else:\n",
    "                answer+=i[j].lower()\n",
    "        result.append(answer)\n",
    "    answer = ' '.join(result)\n",
    "    return answer"
   ]
  },
  {
   "cell_type": "code",
   "execution_count": 3,
   "id": "4da2d989-72ab-4889-97d1-eba50dffc0ef",
   "metadata": {},
   "outputs": [],
   "source": [
    "#약수의 합\n",
    "def solution(n):\n",
    "    answer = 0\n",
    "    for i in range(1,n+1):\n",
    "        if n%i==0:\n",
    "            answer+=i\n",
    "    return answer"
   ]
  },
  {
   "cell_type": "code",
   "execution_count": 4,
   "id": "50455a3b-8e55-4376-a84e-8984ca759b5d",
   "metadata": {},
   "outputs": [],
   "source": [
    "#시저 암호\n",
    "import string\n",
    "def solution(s, n):\n",
    "    answer = ''\n",
    "    low = list(string.ascii_lowercase)*2\n",
    "    up = list(string.ascii_uppercase)*2\n",
    "    \n",
    "    for i in s:\n",
    "        if i in up:\n",
    "            a = up[up.index(i)+n]\n",
    "        elif i in low:\n",
    "            a = low[low.index(i)+n]\n",
    "        else:\n",
    "            a = ' '\n",
    "        answer+=a\n",
    "    return answer"
   ]
  },
  {
   "cell_type": "code",
   "execution_count": 5,
   "id": "3fc5ae51-a4b5-4bcb-a847-e2a34fe7ad33",
   "metadata": {},
   "outputs": [],
   "source": [
    "#문자열을 정수로 바꾸기\n",
    "def solution(s):\n",
    "    answer = 0\n",
    "    if '+' in s:\n",
    "        answer+=int(s[1:])\n",
    "    elif '-' in s:\n",
    "        answer-=int(s[1:])\n",
    "    else:\n",
    "        answer+=int(s)\n",
    "    return answer"
   ]
  },
  {
   "cell_type": "code",
   "execution_count": 6,
   "id": "7d0c7de7-e90b-454c-a957-d74b3c438691",
   "metadata": {},
   "outputs": [],
   "source": [
    "#수박수박수박수박수박수?\n",
    "def solution(n):\n",
    "    answer = ''\n",
    "    for i in range(n):\n",
    "        if i%2==0:\n",
    "            answer+='수'\n",
    "        else:\n",
    "            answer+='박'\n",
    "    return answer"
   ]
  },
  {
   "cell_type": "code",
   "execution_count": null,
   "id": "f537141d-0748-4427-8cb2-70d6a757eba2",
   "metadata": {},
   "outputs": [],
   "source": [
    "#소수 찾기\n"
   ]
  },
  {
   "cell_type": "code",
   "execution_count": 7,
   "id": "e8fda6aa-5ecf-44c3-9232-e5618e752c21",
   "metadata": {},
   "outputs": [],
   "source": [
    "#서울에서 김서방 찾기\n",
    "def solution(seoul):\n",
    "    location = seoul.index('Kim')\n",
    "    return f'김서방은 {location}에 있다'"
   ]
  },
  {
   "cell_type": "code",
   "execution_count": 8,
   "id": "b5614442-a9db-4004-a21a-625beaa6e494",
   "metadata": {},
   "outputs": [],
   "source": [
    "#문자열 다루기 기본\n",
    "def solution(s):\n",
    "    errorcases = 0\n",
    "    numlist = [str(i) for i in range(10)]\n",
    "    if len(s)!=4:\n",
    "        errorcases+=1\n",
    "    for i in s:\n",
    "        if i not in numlist:\n",
    "            errorcases+=1\n",
    "    \n",
    "    return True if errorcases==0 else False"
   ]
  },
  {
   "cell_type": "code",
   "execution_count": 9,
   "id": "433d3125-18e8-4273-bd8b-ff4f8e29af72",
   "metadata": {},
   "outputs": [],
   "source": [
    "#문자열 내림차순으로 배치하기\n",
    "from string import ascii_lowercase, ascii_uppercase\n",
    "def solution(s):\n",
    "    alphabets = list(ascii_uppercase)+list(ascii_lowercase)\n",
    "    answer = ''\n",
    "    arr = [[alphabets.index(i), i] for i in s]\n",
    "    arr.sort(reverse = True)\n",
    "    print(arr)\n",
    "    for i in arr:\n",
    "        answer+=i[1]\n",
    "    return answer\n",
    "\n",
    "#다른 사람 풀이(sorted함수 사용!)\n",
    "''.join(sorted(s, reverse = True))"
   ]
  },
  {
   "cell_type": "code",
   "execution_count": 11,
   "id": "a3644997-f0cb-4ca2-8a6d-d6b96e66d563",
   "metadata": {},
   "outputs": [],
   "source": [
    "#문자열 내 p와 y의 개수\n",
    "def solution(s):\n",
    "    return True if s.count('p')+s.count('P')==s.count('y')+s.count('Y') else False"
   ]
  },
  {
   "cell_type": "code",
   "execution_count": 12,
   "id": "21b867db-d60b-4086-8132-acc6eeece567",
   "metadata": {},
   "outputs": [],
   "source": [
    "#문자열 내 마음대로 정렬하기\n"
   ]
  },
  {
   "cell_type": "code",
   "execution_count": 13,
   "id": "66031c8e-1fad-4e93-b0dd-56f61c1fc6ab",
   "metadata": {},
   "outputs": [],
   "source": [
    "#두 정수 사이의 합\n",
    "def solution(a, b):\n",
    "    answer = 0\n",
    "    if a==b:\n",
    "        answer+=b\n",
    "    else:\n",
    "        for i in range(min(a,b), max(a,b)+1):\n",
    "            answer+=i\n",
    "    return answer"
   ]
  },
  {
   "cell_type": "code",
   "execution_count": 14,
   "id": "5a2b1603-eed7-4117-b8ee-f9e7d0d038db",
   "metadata": {},
   "outputs": [],
   "source": [
    "#나누어 떨어지는 숫자 배열\n",
    "def solution(arr, divisor):\n",
    "    answer = [i for i in arr if i%divisor==0]\n",
    "    answer.sort()\n",
    "    return answer if len(answer)>=1 else [-1]"
   ]
  },
  {
   "cell_type": "code",
   "execution_count": 15,
   "id": "322939f6-7775-48fb-bca8-93b18aff4ebc",
   "metadata": {},
   "outputs": [],
   "source": [
    "#같은 숫자는 싫어\n",
    "def solution(arr):\n",
    "    answer = [arr[i] for i in range(1,len(arr)) if arr[i]!=arr[i-1]]\n",
    "    answer.insert(0,arr[0])\n",
    "    return answer"
   ]
  },
  {
   "cell_type": "code",
   "execution_count": 16,
   "id": "d146c488-09af-4b2b-9c19-1e3c163cd379",
   "metadata": {},
   "outputs": [],
   "source": [
    "#[1차] 다트 게임\n",
    "def solution(dartResult):\n",
    "    #1. 점수 나누기\n",
    "    answer =0 \n",
    "    numlist = [str(i) for i in range(10)]\n",
    "    index_list =[]\n",
    "    for i in range(len(dartResult)):\n",
    "        if dartResult[i] in numlist:\n",
    "            if dartResult[i]=='0' and dartResult[i-1]=='1' and i!=0:#10인 경우\n",
    "                continue\n",
    "            index_list.append(i)\n",
    "    print(index_list)\n",
    "    score = []\n",
    "    score.append(dartResult[index_list[0]:index_list[1]])\n",
    "    score.append(dartResult[index_list[1]:index_list[2]])\n",
    "    score.append(dartResult[index_list[2]:])\n",
    "    print(score)\n",
    "    #2. 점수 계산하기\n",
    "    bonus = [' ','S','D','T']\n",
    "    answer_list = []\n",
    "    for i in score:\n",
    "        if '10' in i: #10점\n",
    "            cnt=10\n",
    "        else:\n",
    "            cnt = int(i[0])\n",
    "        for j in i:\n",
    "            if j in bonus:\n",
    "                cnt = cnt**(bonus.index(j))\n",
    "            elif j=='*':\n",
    "                if score.index(i)==0:\n",
    "                    cnt = cnt*2\n",
    "                else:\n",
    "                    answer_list[-1] = answer_list[-1]*2\n",
    "                    cnt = cnt*2\n",
    "            elif j=='#':\n",
    "                cnt = -cnt\n",
    "        answer_list.append(cnt)\n",
    "    print(answer_list)\n",
    "    return sum(answer_list)"
   ]
  },
  {
   "cell_type": "code",
   "execution_count": null,
   "id": "997e7b06-3937-4a72-829a-81b2ea22c4fc",
   "metadata": {},
   "outputs": [],
   "source": [
    "#가운데 글자 가져오기"
   ]
  }
 ],
 "metadata": {
  "kernelspec": {
   "display_name": "Python 3",
   "language": "python",
   "name": "python3"
  },
  "language_info": {
   "codemirror_mode": {
    "name": "ipython",
    "version": 3
   },
   "file_extension": ".py",
   "mimetype": "text/x-python",
   "name": "python",
   "nbconvert_exporter": "python",
   "pygments_lexer": "ipython3",
   "version": "3.8.8"
  }
 },
 "nbformat": 4,
 "nbformat_minor": 5
}
