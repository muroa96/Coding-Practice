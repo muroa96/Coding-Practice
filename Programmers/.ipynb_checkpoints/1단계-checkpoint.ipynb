{
 "cells": [
  {
   "cell_type": "code",
   "execution_count": 1,
   "id": "2fad088a-3a79-4a31-a8a9-007106d0b7d0",
   "metadata": {},
   "outputs": [
    {
     "name": "stdin",
     "output_type": "stream",
     "text": [
      " 3 5\n"
     ]
    },
    {
     "name": "stdout",
     "output_type": "stream",
     "text": [
      "***\n",
      "***\n",
      "***\n",
      "***\n",
      "***\n"
     ]
    }
   ],
   "source": [
    "#직사각형 별찍기\n",
    "n, m = map(int, input().split())\n",
    "for i in range(m):\n",
    "    print('*'*n)"
   ]
  },
  {
   "cell_type": "code",
   "execution_count": 2,
   "id": "e515a6eb-671e-463a-b228-216e5220ac05",
   "metadata": {},
   "outputs": [],
   "source": [
    "#x만큼 간격이 있는 n개의 숫자\n",
    "def solution(x, n):\n",
    "    answer = [x*i for i in range(1,n+1)]\n",
    "    return answer"
   ]
  },
  {
   "cell_type": "code",
   "execution_count": 3,
   "id": "15bcd3aa-e0c5-4c3c-8b66-7cdf2d62f789",
   "metadata": {},
   "outputs": [],
   "source": [
    "#행렬의 덧셈\n",
    "def solution(arr1, arr2):\n",
    "    answer = []\n",
    "    for i in range(len(arr1)):\n",
    "        arr = []\n",
    "        for j in range(len(arr1[0])):\n",
    "            arr.append(arr1[i][j]+arr2[i][j])\n",
    "        answer.append(arr)\n",
    "    return answer"
   ]
  },
  {
   "cell_type": "code",
   "execution_count": 4,
   "id": "9765dba3-8211-4593-acf6-62642c78396f",
   "metadata": {},
   "outputs": [],
   "source": [
    "#핸드폰 번호 가리기\n",
    "def solution(phone_number):\n",
    "    answer = ''\n",
    "    answer+='*'*(len(phone_number)-4)+phone_number[-4:]\n",
    "    return answer"
   ]
  },
  {
   "cell_type": "code",
   "execution_count": 5,
   "id": "4ab9c7eb-3494-40d5-901e-4ace54c9e408",
   "metadata": {},
   "outputs": [],
   "source": [
    "#하샤드 수\n",
    "def solution(x):\n",
    "    num = sum([int(i) for i in str(x)])\n",
    "    if x%num ==0:\n",
    "        answer = True\n",
    "    else:\n",
    "        answer = False\n",
    "    return answer"
   ]
  },
  {
   "cell_type": "code",
   "execution_count": 6,
   "id": "aba06d7d-736f-4650-8aaa-89dbee212713",
   "metadata": {},
   "outputs": [],
   "source": [
    "#평균 구하기\n",
    "def solution(arr):\n",
    "    return (sum(arr)/len(arr))"
   ]
  },
  {
   "cell_type": "code",
   "execution_count": 7,
   "id": "b3f4d365-7168-41ce-8c36-cd35a89b1a6d",
   "metadata": {},
   "outputs": [],
   "source": [
    "#콜라츠 추측\n",
    "def solution(num):\n",
    "    answer = 0\n",
    "    while True:\n",
    "        if num==1 or answer>=500:\n",
    "            break\n",
    "        \n",
    "        if num%2==0:\n",
    "            num = num/2\n",
    "        elif num%2 != 0:\n",
    "            num = num*3+1\n",
    "        answer+=1\n",
    "    if answer ==500:\n",
    "        answer = -1\n",
    "    return answer"
   ]
  },
  {
   "cell_type": "code",
   "execution_count": 8,
   "id": "c7dca8b0-070f-4772-a5c8-79976bc5c692",
   "metadata": {},
   "outputs": [],
   "source": [
    "#최대공약수와 최소공배수\n",
    "import math\n",
    "def solution(n, m):\n",
    "    return [math.gcd(n,m),n*m/math.gcd(n,m)]"
   ]
  },
  {
   "cell_type": "code",
   "execution_count": 9,
   "id": "36b25e2e-f761-41c9-ab73-ce73b88c9a48",
   "metadata": {},
   "outputs": [],
   "source": [
    "#짝수와 홀수\n",
    "def solution(num):\n",
    "    return 'Even' if num%2==0 else 'Odd'"
   ]
  },
  {
   "cell_type": "code",
   "execution_count": 10,
   "id": "6fb1ab60-17d8-4c57-b7df-bd7b9263352d",
   "metadata": {},
   "outputs": [],
   "source": [
    "#제일 작은 수 제거하기\n",
    "def solution(arr):\n",
    "    arr.remove(min(arr))\n",
    "    return arr if len(arr) !=0 else [-1]"
   ]
  },
  {
   "cell_type": "code",
   "execution_count": 11,
   "id": "2aa3c2a3-a501-4d80-93c9-a23b609ea5c6",
   "metadata": {},
   "outputs": [],
   "source": [
    "#정수 제곱근 판별\n",
    "def solution(n):\n",
    "    return (n**0.5+1)**2 if n**0.5==int(n**0.5) else -1"
   ]
  },
  {
   "cell_type": "code",
   "execution_count": 1,
   "id": "639cb075-bac7-46ef-8f92-0d8d9ccd1929",
   "metadata": {},
   "outputs": [],
   "source": [
    "#정수 내림차순으로 배치하기\n",
    "def solution(n):\n",
    "    result = ''\n",
    "    arr = [int(i) for i in str(n)]\n",
    "    arr.sort(reverse = True)\n",
    "    for i in arr:\n",
    "        result+= str(i)\n",
    "    answer = int(result)\n",
    "    return answer"
   ]
  },
  {
   "cell_type": "code",
   "execution_count": 13,
   "id": "c8b4c8ae-a744-40d6-8e24-e3058ae8bfd0",
   "metadata": {},
   "outputs": [],
   "source": [
    "#자연수 뒤집어서 배열로 만들기\n",
    "def solution(n):\n",
    "    arr = [int(i) for i in str(n)]\n",
    "    return arr[::-1]"
   ]
  },
  {
   "cell_type": "code",
   "execution_count": 14,
   "id": "9429f179-ad65-4035-9670-65de194f2a48",
   "metadata": {},
   "outputs": [],
   "source": [
    "#자릿수 더하기\n",
    "def solution(n):\n",
    "    answer = 0\n",
    "    for i in str(n):\n",
    "        answer+=int(i)\n",
    "    return answer"
   ]
  },
  {
   "cell_type": "code",
   "execution_count": 2,
   "id": "627edd29-8dfe-4d9d-84b7-40b2e5ad7060",
   "metadata": {},
   "outputs": [],
   "source": [
    "#이상한 문자 만들기\n",
    "def solution(s):\n",
    "    answer = ''\n",
    "    arr = s.split(' ')\n",
    "    result = []\n",
    "    for i in arr:\n",
    "        answer = ''\n",
    "        for j in range(len(i)):\n",
    "            if j%2==0:\n",
    "                answer+=i[j].upper()\n",
    "            else:\n",
    "                answer+=i[j].lower()\n",
    "        result.append(answer)\n",
    "    answer = ' '.join(result)\n",
    "    return answer"
   ]
  },
  {
   "cell_type": "code",
   "execution_count": 3,
   "id": "4da2d989-72ab-4889-97d1-eba50dffc0ef",
   "metadata": {},
   "outputs": [],
   "source": [
    "#약수의 합\n",
    "def solution(n):\n",
    "    answer = 0\n",
    "    for i in range(1,n+1):\n",
    "        if n%i==0:\n",
    "            answer+=i\n",
    "    return answer"
   ]
  },
  {
   "cell_type": "code",
   "execution_count": 4,
   "id": "50455a3b-8e55-4376-a84e-8984ca759b5d",
   "metadata": {},
   "outputs": [],
   "source": [
    "#시저 암호\n",
    "import string\n",
    "def solution(s, n):\n",
    "    answer = ''\n",
    "    low = list(string.ascii_lowercase)*2\n",
    "    up = list(string.ascii_uppercase)*2\n",
    "    \n",
    "    for i in s:\n",
    "        if i in up:\n",
    "            a = up[up.index(i)+n]\n",
    "        elif i in low:\n",
    "            a = low[low.index(i)+n]\n",
    "        else:\n",
    "            a = ' '\n",
    "        answer+=a\n",
    "    return answer"
   ]
  },
  {
   "cell_type": "code",
   "execution_count": 5,
   "id": "3fc5ae51-a4b5-4bcb-a847-e2a34fe7ad33",
   "metadata": {},
   "outputs": [],
   "source": [
    "#문자열을 정수로 바꾸기\n",
    "def solution(s):\n",
    "    answer = 0\n",
    "    if '+' in s:\n",
    "        answer+=int(s[1:])\n",
    "    elif '-' in s:\n",
    "        answer-=int(s[1:])\n",
    "    else:\n",
    "        answer+=int(s)\n",
    "    return answer"
   ]
  },
  {
   "cell_type": "code",
   "execution_count": 6,
   "id": "7d0c7de7-e90b-454c-a957-d74b3c438691",
   "metadata": {},
   "outputs": [],
   "source": [
    "#수박수박수박수박수박수?\n",
    "def solution(n):\n",
    "    answer = ''\n",
    "    for i in range(n):\n",
    "        if i%2==0:\n",
    "            answer+='수'\n",
    "        else:\n",
    "            answer+='박'\n",
    "    return answer"
   ]
  },
  {
   "cell_type": "code",
   "execution_count": 1,
   "id": "f537141d-0748-4427-8cb2-70d6a757eba2",
   "metadata": {},
   "outputs": [],
   "source": [
    "#소수 찾기\n",
    "def prime_list(m,n):\n",
    "    sieve = [True]*(n+1)\n",
    "    \n",
    "    x = int(n**0.5)\n",
    "    for i in range(2, x+1):\n",
    "        if sieve[i]==True:\n",
    "            for j in range(i+i, n+1, i):\n",
    "                sieve[j]=False\n",
    "    return [i for i in range(m,n+1) if sieve[i]==True]\n",
    "\n",
    "def solution(n):\n",
    "    answer = 0\n",
    "    for i in prime_list(1,n):\n",
    "        if i!=1:\n",
    "            answer+=1\n",
    "    return answer"
   ]
  },
  {
   "cell_type": "code",
   "execution_count": 7,
   "id": "e8fda6aa-5ecf-44c3-9232-e5618e752c21",
   "metadata": {},
   "outputs": [],
   "source": [
    "#서울에서 김서방 찾기\n",
    "def solution(seoul):\n",
    "    location = seoul.index('Kim')\n",
    "    return f'김서방은 {location}에 있다'"
   ]
  },
  {
   "cell_type": "code",
   "execution_count": 8,
   "id": "b5614442-a9db-4004-a21a-625beaa6e494",
   "metadata": {},
   "outputs": [],
   "source": [
    "#문자열 다루기 기본\n",
    "def solution(s):\n",
    "    errorcases = 0\n",
    "    numlist = [str(i) for i in range(10)]\n",
    "    if len(s)!=4:\n",
    "        errorcases+=1\n",
    "    for i in s:\n",
    "        if i not in numlist:\n",
    "            errorcases+=1\n",
    "    \n",
    "    return True if errorcases==0 else False"
   ]
  },
  {
   "cell_type": "code",
   "execution_count": 9,
   "id": "433d3125-18e8-4273-bd8b-ff4f8e29af72",
   "metadata": {},
   "outputs": [],
   "source": [
    "#문자열 내림차순으로 배치하기\n",
    "from string import ascii_lowercase, ascii_uppercase\n",
    "def solution(s):\n",
    "    alphabets = list(ascii_uppercase)+list(ascii_lowercase)\n",
    "    answer = ''\n",
    "    arr = [[alphabets.index(i), i] for i in s]\n",
    "    arr.sort(reverse = True)\n",
    "    print(arr)\n",
    "    for i in arr:\n",
    "        answer+=i[1]\n",
    "    return answer\n",
    "\n",
    "#다른 사람 풀이(sorted함수 사용!)\n",
    "''.join(sorted(s, reverse = True))"
   ]
  },
  {
   "cell_type": "code",
   "execution_count": 11,
   "id": "a3644997-f0cb-4ca2-8a6d-d6b96e66d563",
   "metadata": {},
   "outputs": [],
   "source": [
    "#문자열 내 p와 y의 개수\n",
    "def solution(s):\n",
    "    return True if s.count('p')+s.count('P')==s.count('y')+s.count('Y') else False"
   ]
  },
  {
   "cell_type": "code",
   "execution_count": 2,
   "id": "21b867db-d60b-4086-8132-acc6eeece567",
   "metadata": {},
   "outputs": [],
   "source": [
    "#문자열 내 마음대로 정렬하기\n",
    "def solution(strings, n):\n",
    "    strings = sorted(strings)\n",
    "    return sorted(strings, key = lambda x: x[n])"
   ]
  },
  {
   "cell_type": "code",
   "execution_count": 13,
   "id": "66031c8e-1fad-4e93-b0dd-56f61c1fc6ab",
   "metadata": {},
   "outputs": [],
   "source": [
    "#두 정수 사이의 합\n",
    "def solution(a, b):\n",
    "    answer = 0\n",
    "    if a==b:\n",
    "        answer+=b\n",
    "    else:\n",
    "        for i in range(min(a,b), max(a,b)+1):\n",
    "            answer+=i\n",
    "    return answer"
   ]
  },
  {
   "cell_type": "code",
   "execution_count": 14,
   "id": "5a2b1603-eed7-4117-b8ee-f9e7d0d038db",
   "metadata": {},
   "outputs": [],
   "source": [
    "#나누어 떨어지는 숫자 배열\n",
    "def solution(arr, divisor):\n",
    "    answer = [i for i in arr if i%divisor==0]\n",
    "    answer.sort()\n",
    "    return answer if len(answer)>=1 else [-1]"
   ]
  },
  {
   "cell_type": "code",
   "execution_count": 15,
   "id": "322939f6-7775-48fb-bca8-93b18aff4ebc",
   "metadata": {},
   "outputs": [],
   "source": [
    "#같은 숫자는 싫어\n",
    "def solution(arr):\n",
    "    answer = [arr[i] for i in range(1,len(arr)) if arr[i]!=arr[i-1]]\n",
    "    answer.insert(0,arr[0])\n",
    "    return answer"
   ]
  },
  {
   "cell_type": "code",
   "execution_count": 16,
   "id": "d146c488-09af-4b2b-9c19-1e3c163cd379",
   "metadata": {},
   "outputs": [],
   "source": [
    "#[1차] 다트 게임\n",
    "def solution(dartResult):\n",
    "    #1. 점수 나누기\n",
    "    answer =0 \n",
    "    numlist = [str(i) for i in range(10)]\n",
    "    index_list =[]\n",
    "    for i in range(len(dartResult)):\n",
    "        if dartResult[i] in numlist:\n",
    "            if dartResult[i]=='0' and dartResult[i-1]=='1' and i!=0:#10인 경우\n",
    "                continue\n",
    "            index_list.append(i)\n",
    "    print(index_list)\n",
    "    score = []\n",
    "    score.append(dartResult[index_list[0]:index_list[1]])\n",
    "    score.append(dartResult[index_list[1]:index_list[2]])\n",
    "    score.append(dartResult[index_list[2]:])\n",
    "    print(score)\n",
    "    #2. 점수 계산하기\n",
    "    bonus = [' ','S','D','T']\n",
    "    answer_list = []\n",
    "    for i in score:\n",
    "        if '10' in i: #10점\n",
    "            cnt=10\n",
    "        else:\n",
    "            cnt = int(i[0])\n",
    "        for j in i:\n",
    "            if j in bonus:\n",
    "                cnt = cnt**(bonus.index(j))\n",
    "            elif j=='*':\n",
    "                if score.index(i)==0:\n",
    "                    cnt = cnt*2\n",
    "                else:\n",
    "                    answer_list[-1] = answer_list[-1]*2\n",
    "                    cnt = cnt*2\n",
    "            elif j=='#':\n",
    "                cnt = -cnt\n",
    "        answer_list.append(cnt)\n",
    "    print(answer_list)\n",
    "    return sum(answer_list)"
   ]
  },
  {
   "cell_type": "code",
   "execution_count": 3,
   "id": "997e7b06-3937-4a72-829a-81b2ea22c4fc",
   "metadata": {},
   "outputs": [],
   "source": [
    "#가운데 글자 가져오기\n",
    "def solution(s):\n",
    "    l = len(s)\n",
    "    if l%2 == 0:\n",
    "        answer = s[int(l/2-1)] + s[int(l/2)]\n",
    "    if l%2 !=0:\n",
    "        answer = s[int((l-1)/2)]\n",
    "    return answer"
   ]
  },
  {
   "cell_type": "code",
   "execution_count": 6,
   "id": "d1c6394e-376e-4920-9169-ab6a61e9a0dd",
   "metadata": {},
   "outputs": [],
   "source": [
    "#[1차]비밀지도\n",
    "def solution(n, arr1, arr2):\n",
    "    answer = []\n",
    "    arr1 = [bin(i)[2:] for i in arr1]\n",
    "    arr2 = [bin(i)[2:] for i in arr2]\n",
    "    #길이 맞추기\n",
    "    for i in range(n):\n",
    "        if len(arr1[i])!=n:\n",
    "            arr1[i] = '0'*(n-len(arr1[i]))+arr1[i]\n",
    "        if len(arr2[i])!=n:\n",
    "            arr2[i] = '0'*(n-len(arr2[i]))+arr2[i]\n",
    "    \n",
    "    for i in range(n):\n",
    "        ans = ''\n",
    "        for j in range(n):\n",
    "            if arr1[i][j]==arr2[i][j]=='0':\n",
    "                ans += ' '\n",
    "            else:\n",
    "                ans += '#'\n",
    "        answer.append(ans)\n",
    "    return answer"
   ]
  },
  {
   "cell_type": "code",
   "execution_count": 7,
   "id": "286cecc9-4c6b-410e-8fa1-3fb642114f44",
   "metadata": {},
   "outputs": [],
   "source": [
    "#부족한 금액 계산하기\n",
    "def solution(price, money, count):\n",
    "    for i in range(1,count+1):\n",
    "        money-=price*i\n",
    "    return abs(money) if money<0 else 0"
   ]
  },
  {
   "cell_type": "code",
   "execution_count": 8,
   "id": "aaedda49-752a-4fa1-977f-409b6966cbdc",
   "metadata": {},
   "outputs": [],
   "source": [
    "#나머지가 1이 되는 수 찾기\n",
    "def solution(n):\n",
    "    answer = 0\n",
    "    for i in range(1,n+1):\n",
    "        if n%i==1:\n",
    "            answer+=i\n",
    "            break\n",
    "    return answer"
   ]
  },
  {
   "cell_type": "code",
   "execution_count": null,
   "id": "68e15db8-3e35-40ca-8b11-bcd73798e5eb",
   "metadata": {},
   "outputs": [],
   "source": [
    "#최소 직사각형(hard)\n",
    "def solution(sizes):\n",
    "    row = 0\n",
    "    col = 0\n",
    "    for a, b in sizes:\n",
    "        if a>b:\n",
    "            a, b = b, a\n",
    "        row = max(row, a)\n",
    "        col = max(col, b)\n",
    "    return row*col"
   ]
  },
  {
   "cell_type": "code",
   "execution_count": 9,
   "id": "3d959d9c-ecad-46f0-9783-3847c7519779",
   "metadata": {},
   "outputs": [],
   "source": [
    "#2016년\n",
    "def solution(a, b):\n",
    "    answer = ''\n",
    "    dates = [0,31,29,31,30,31,30,31,31,30,31,30,31]\n",
    "    words = ['FRI','SAT','SUN','MON','TUE','WED','THU']\n",
    "    total = sum(dates[:a])+b\n",
    "    \n",
    "    return words[total%7-1]"
   ]
  },
  {
   "cell_type": "code",
   "execution_count": 10,
   "id": "bfb5f8f1-bdf4-478d-bd54-aa418a829803",
   "metadata": {},
   "outputs": [],
   "source": [
    "#두 개 뽑아서 더하기\n",
    "import itertools\n",
    "def solution(numbers):\n",
    "    ls = itertools.combinations(numbers, 2)\n",
    "    answer = [sum(i) for i in ls]\n",
    "    answer = list(set(answer)) #중복 제거\n",
    "    answer.sort()\n",
    "    return answer"
   ]
  },
  {
   "cell_type": "code",
   "execution_count": 11,
   "id": "5d648e3d-515a-4173-9b0e-3733ede0f8d7",
   "metadata": {},
   "outputs": [],
   "source": [
    "#예산\n",
    "def solution(d, budget):\n",
    "    answer = 0\n",
    "    money = 0\n",
    "    d.sort()\n",
    "    for i in d:\n",
    "        money+=i\n",
    "        if money>budget:\n",
    "            continue\n",
    "        answer+=1     \n",
    "    return answer"
   ]
  },
  {
   "cell_type": "code",
   "execution_count": 12,
   "id": "1fc14665-e733-4a90-8a6c-b42ca49fc5df",
   "metadata": {},
   "outputs": [],
   "source": [
    "#3진법 뒤집기\n",
    "def three(n):\n",
    "    num = ''\n",
    "    while n>0:\n",
    "        n, mod = divmod(n,3)\n",
    "        num+=str(mod)\n",
    "    return num[::-1]\n",
    "def solution(n):\n",
    "    answer = 0\n",
    "    num = str(three(n))[::-1]#뒤집기\n",
    "    return int(num, 3)"
   ]
  },
  {
   "cell_type": "code",
   "execution_count": 13,
   "id": "923e853a-8d4d-44b7-b8ed-05f5eafab301",
   "metadata": {},
   "outputs": [],
   "source": [
    "#약수의 개수와 덧셈\n",
    "def solution(left, right):\n",
    "    answer = 0\n",
    "    for i in range(left,right+1):\n",
    "        cnt = 0 #약수의 개수\n",
    "        for j in range(1,i+1):\n",
    "            if i%j==0: #약수\n",
    "                cnt+=1\n",
    "        if cnt%2==0: #약수의 개수가 짝수\n",
    "            answer+=i\n",
    "        else:\n",
    "            answer-=i\n",
    "    return answer"
   ]
  },
  {
   "cell_type": "code",
   "execution_count": 1,
   "id": "dde4ef06-9f76-4e6c-904f-885aa3768f19",
   "metadata": {},
   "outputs": [],
   "source": [
    "#실패율\n",
    "def solution(N, stages):\n",
    "    initial =  len(stages)\n",
    "    arr = []\n",
    "    for i in range(1,N+1):\n",
    "        if initial!=0:\n",
    "            cnt = stages.count(i)\n",
    "            arr.append([cnt/initial,i])\n",
    "            initial-=cnt\n",
    "        else:\n",
    "            arr.append([0,i])\n",
    "    arr.sort(key = lambda x:x[0], reverse = True)\n",
    "    answer = [i[1] for i in arr]\n",
    "    return answer"
   ]
  },
  {
   "cell_type": "code",
   "execution_count": 2,
   "id": "14daf637-2c02-4441-b38f-f60cef503f94",
   "metadata": {},
   "outputs": [],
   "source": [
    "#폰켓몬\n",
    "def solution(nums):\n",
    "    howmany = len(nums)/2 #선택개수\n",
    "    variable = len(list(set(nums))) #번호개수\n",
    "    return variable if variable<=howmany else howmany\n"
   ]
  },
  {
   "cell_type": "code",
   "execution_count": 17,
   "id": "21010f9a-89ff-431c-a6a7-196bd6f638ba",
   "metadata": {},
   "outputs": [],
   "source": [
    "#체육복\n",
    "def solution(n, lost, reserve):\n",
    "    answer = n-len(lost)\n",
    "    #여벌 체육복이 도난\n",
    "    dup = list(set(lost).intersection(reserve)) #중복값\n",
    "    answer+=len(dup)\n",
    "    #중복값 제거\n",
    "    lost = [i for i in lost if i not in dup]\n",
    "    reserve = [j for j in reserve if j not in dup]\n",
    "    \n",
    "    lost.sort()\n",
    "    reserve.sort()\n",
    "    for i in lost:\n",
    "        if i-1 in reserve:\n",
    "            reserve[reserve.index(i-1)] = -1\n",
    "            answer+=1\n",
    "        elif i+1 in reserve:\n",
    "            reserve[reserve.index(i+1)] = -1\n",
    "            answer+=1\n",
    "    return answer"
   ]
  },
  {
   "cell_type": "code",
   "execution_count": 4,
   "id": "37a19e65-16a2-4a7f-9161-d4040ccbcebe",
   "metadata": {},
   "outputs": [],
   "source": [
    "#모의고사\n",
    "def solution(answers):\n",
    "    answer = []\n",
    "    num1 = [1,2,3,4,5]*(len(answers)//5+1)\n",
    "    num2 = [2,1,2,3,2,4,2,5]*(len(answers)//8+1)\n",
    "    num3 = [3,3,1,1,2,2,4,4,5,5]*(len(answers)//10+1)\n",
    "    \n",
    "    cnt1, cnt2, cnt3 = 0, 0, 0 #맞은 개수\n",
    "    for i in range(len(answers)):\n",
    "        if answers[i]==num1[i]:\n",
    "            cnt1+=1\n",
    "        if answers[i]==num2[i]:\n",
    "            cnt2+=1\n",
    "        if answers[i]==num3[i]:\n",
    "            cnt3+=1\n",
    "\n",
    "    answer.append([1, cnt1])\n",
    "    answer.append([2, cnt2])\n",
    "    answer.append([3, cnt3])\n",
    "    answer.sort(key = lambda x:x[1], reverse = True)\n",
    "    answer = [i[0] for i in answer if answer[0][1]==i[1]]\n",
    "    return answer"
   ]
  },
  {
   "cell_type": "code",
   "execution_count": 5,
   "id": "c9ce7a6b-4b41-4a47-a8bc-c7fa752d478d",
   "metadata": {},
   "outputs": [],
   "source": [
    "#K번째수\n",
    "def solution(array, commands):\n",
    "    answer = []\n",
    "    for i in commands:\n",
    "        ls = array[i[0]-1:i[1]]\n",
    "        ls.sort()\n",
    "        x = ls[i[2]-1]\n",
    "        answer.append(x)\n",
    "    return answer"
   ]
  },
  {
   "cell_type": "code",
   "execution_count": 6,
   "id": "c7bdb6fb-c9cb-4884-8191-4f5f9f0a616b",
   "metadata": {},
   "outputs": [],
   "source": [
    "#완주하지 못한 선수\n",
    "def solution(participant, completion):\n",
    "    answer = ''\n",
    "    sa = set(participant)\n",
    "    sb = set(completion)\n",
    "    ans = list(sa.difference(sb))\n",
    "    if len(ans)==1: #유일값존재(leo, vinko)\n",
    "        answer = ans[0]\n",
    "    else: #동명이인(mislav)\n",
    "        participant.sort()\n",
    "        completion.sort()\n",
    "        for i in range(len(participant)):\n",
    "            if participant[i]!=completion[i]:\n",
    "                answer = participant[i]\n",
    "                break\n",
    "    return answer"
   ]
  },
  {
   "cell_type": "code",
   "execution_count": 7,
   "id": "c71ee581-d4fd-48b0-86f5-b13cfb15af15",
   "metadata": {},
   "outputs": [],
   "source": [
    "#소수 만들기\n",
    "from itertools import combinations\n",
    "def prime_num(n): #소수\n",
    "    sieve = [True]*(n+1)\n",
    "    m = int(n**0.5)\n",
    "    for i in range(2,m+1):\n",
    "        if sieve[i]==True:\n",
    "            for j in range(i+i,n+1,i):\n",
    "                sieve[j]=False\n",
    "    return [i for i in range(2,n+1) if sieve[i]==True]\n",
    "def solution(nums):\n",
    "    #1. 가능한 가장 큰 소수집합\n",
    "    nums.sort()\n",
    "    n = sum(nums[-3:])\n",
    "    prime = prime_num(n)\n",
    "    #2. 소수의 개수 구하기\n",
    "    com_ls = list(combinations(nums, 3))\n",
    "    answer = 0\n",
    "    for i in com_ls:\n",
    "        if sum(i) in prime:\n",
    "            answer+=1\n",
    "    return answer"
   ]
  },
  {
   "cell_type": "code",
   "execution_count": 9,
   "id": "a45a79b7-a84d-4b76-87e8-486b8507bee0",
   "metadata": {},
   "outputs": [],
   "source": [
    "#내적\n",
    "def solution(a, b):\n",
    "    answer = 0\n",
    "    for i in range(len(a)):\n",
    "        answer+=a[i]*b[i]\n",
    "    return answer"
   ]
  },
  {
   "cell_type": "code",
   "execution_count": 10,
   "id": "b05a307e-f1d6-4460-ab58-33f9a28813e7",
   "metadata": {},
   "outputs": [],
   "source": [
    "#음양 더하기\n",
    "def solution(absolutes, signs):\n",
    "    answer = 0\n",
    "    ls = [absolutes[i] if signs[i]==True else -absolutes[i] for i in range(len(signs)) ]\n",
    "    return sum(ls)"
   ]
  },
  {
   "cell_type": "code",
   "execution_count": 11,
   "id": "5c6094d6-318b-44d9-981a-f09e2614979b",
   "metadata": {},
   "outputs": [],
   "source": [
    "#없는 숫자 더하기\n",
    "def solution(numbers):\n",
    "    ls = [i for i in range(10) if i not in numbers]\n",
    "    return sum(ls)"
   ]
  },
  {
   "cell_type": "code",
   "execution_count": 12,
   "id": "05db0a3d-4511-442c-854f-35edcbcd8739",
   "metadata": {},
   "outputs": [],
   "source": [
    "#크레인 인형뽑기 게임\n",
    "def solution(board, moves):\n",
    "    answer = 0\n",
    "    stack = []\n",
    "    for i in moves:\n",
    "        for j in range(len(board)):\n",
    "            if board[j][i-1]!=0:\n",
    "                stack.append(board[j][i-1])\n",
    "                board[j][i-1] = 0\n",
    "                if len(stack)>=2 and stack[-1] == stack[-2]:\n",
    "                    stack.pop()\n",
    "                    stack.pop()\n",
    "                    answer+=2\n",
    "                break\n",
    "    return answer"
   ]
  },
  {
   "cell_type": "code",
   "execution_count": 13,
   "id": "45eea627-5d6b-4555-8300-9f7bf241d28d",
   "metadata": {},
   "outputs": [],
   "source": [
    "#키패드 누르기\n",
    "def solution(numbers, hand):\n",
    "    answer = ''\n",
    "    \n",
    "    # 키패드 좌표로 변경\n",
    "    dic = {1: [0, 0], 2: [0, 1], 3: [0, 2],\n",
    "           4: [1, 0], 5: [1, 1], 6: [1, 2],\n",
    "           7: [2, 0], 8: [2, 1], 9: [2, 2],\n",
    "           '*':[3, 0], 0: [3, 1], '#': [3, 2]}\n",
    "    left = [1,4,7]\n",
    "    right = [3,6,9]\n",
    "    lhand = '*'\n",
    "    rhand = '#'\n",
    "    for i in numbers:\n",
    "        if i in left:\n",
    "            answer+='L'\n",
    "            lhand = i\n",
    "        elif i in right:\n",
    "            answer+='R'\n",
    "            rhand = i\n",
    "        else:\n",
    "            coor = dic[i]\n",
    "            right_coor = dic[rhand]\n",
    "            left_coor = dic[lhand]\n",
    "            right_dis = abs(coor[0]-right_coor[0])+abs(coor[1]-right_coor[1])\n",
    "            left_dis = abs(coor[0]-left_coor[0])+abs(coor[1]-left_coor[1])\n",
    "            if right_dis>left_dis:\n",
    "                lhand = i\n",
    "                answer+='L'\n",
    "            elif right_dis<left_dis:\n",
    "                rhand = i\n",
    "                answer+='R'\n",
    "            else:\n",
    "                if hand=='right':\n",
    "                    rhand = i\n",
    "                    answer+='R'\n",
    "                else:\n",
    "                    lhand = i\n",
    "                    answer+='L'\n",
    "    \n",
    "    return answer"
   ]
  },
  {
   "cell_type": "code",
   "execution_count": 14,
   "id": "517fa935-5877-44d8-9ee6-eb5ba29dce89",
   "metadata": {},
   "outputs": [],
   "source": [
    "#숫자 문자열과 영단어\n",
    "def solution(s):\n",
    "    dic = {'zero':0, 'one':1, 'two':2, 'three':3, 'four':4,\n",
    "          'five':5, 'six':6, 'seven':7, 'eight':8, 'nine':9}\n",
    "    numbers = ['zero', 'one', 'two', 'three', 'four',\n",
    "          'five', 'six', 'seven', 'eight', 'nine']\n",
    "    \n",
    "    for i in numbers:\n",
    "        cnt = numbers.count(i)\n",
    "        for _ in range(cnt):\n",
    "            s = s.replace(i,str(dic[i]))\n",
    "    return int(s)"
   ]
  },
  {
   "cell_type": "code",
   "execution_count": 15,
   "id": "c7df2405-b3fa-4559-97ab-f0854c69c41d",
   "metadata": {},
   "outputs": [],
   "source": [
    "#신규 아이디 추천\n",
    "import string\n",
    "def solution(new_id):\n",
    "    answer = ''\n",
    "    rules = list(string.ascii_lowercase)\n",
    "    rules += '-', '_', '.','0','1','2','3','4','5','6','7','8','9'\n",
    "    #1\n",
    "    new_id = new_id.lower()\n",
    "    #2\n",
    "    ls = [i for i in new_id if i in rules]\n",
    "    new_id = ''.join(ls)\n",
    "    #3\n",
    "    for _ in range(new_id.count('.')):\n",
    "        new_id = new_id.replace('..','.')\n",
    "    #4\n",
    "    new_id = new_id.strip('.')\n",
    "    #5\n",
    "    if len(new_id) == 0:\n",
    "        new_id = 'a'\n",
    "    #6\n",
    "    if len(new_id)>=16:\n",
    "        new_id = new_id[0:15]\n",
    "    new_id = new_id.strip('.')\n",
    "    #7\n",
    "    if len(new_id)<=2:\n",
    "        new_id+=new_id[-1]*(3-len(new_id))\n",
    "    return new_id"
   ]
  },
  {
   "cell_type": "code",
   "execution_count": 16,
   "id": "9153d8bc-887e-4f2e-a07e-e46c5b53d704",
   "metadata": {},
   "outputs": [],
   "source": [
    "#로또의 최고 순위와 최저 순위\n",
    "def solution(lottos, win_nums):\n",
    "    answer = []\n",
    "    dic = {0:6, 1:6, 2:5, 3:4, 4:3, 5:2, 6:1}\n",
    "    cnt = 0\n",
    "    for i in lottos:\n",
    "        if i in win_nums:\n",
    "            cnt+=1\n",
    "    maxnum = cnt+lottos.count(0)\n",
    "    answer.append(dic[maxnum])\n",
    "    answer.append(dic[cnt])\n",
    "    return answer"
   ]
  },
  {
   "cell_type": "code",
   "execution_count": null,
   "id": "2f2d7737-3021-467b-af22-92555ec67717",
   "metadata": {},
   "outputs": [],
   "source": []
  }
 ],
 "metadata": {
  "kernelspec": {
   "display_name": "Python 3",
   "language": "python",
   "name": "python3"
  },
  "language_info": {
   "codemirror_mode": {
    "name": "ipython",
    "version": 3
   },
   "file_extension": ".py",
   "mimetype": "text/x-python",
   "name": "python",
   "nbconvert_exporter": "python",
   "pygments_lexer": "ipython3",
   "version": "3.8.8"
  }
 },
 "nbformat": 4,
 "nbformat_minor": 5
}
