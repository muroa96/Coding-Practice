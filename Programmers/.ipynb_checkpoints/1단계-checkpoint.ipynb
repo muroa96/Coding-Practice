{
 "cells": [
  {
   "cell_type": "code",
   "execution_count": 1,
   "id": "2fad088a-3a79-4a31-a8a9-007106d0b7d0",
   "metadata": {},
   "outputs": [
    {
     "name": "stdin",
     "output_type": "stream",
     "text": [
      " 3 5\n"
     ]
    },
    {
     "name": "stdout",
     "output_type": "stream",
     "text": [
      "***\n",
      "***\n",
      "***\n",
      "***\n",
      "***\n"
     ]
    }
   ],
   "source": [
    "#직사각형 별찍기\n",
    "n, m = map(int, input().split())\n",
    "for i in range(m):\n",
    "    print('*'*n)"
   ]
  },
  {
   "cell_type": "code",
   "execution_count": 2,
   "id": "e515a6eb-671e-463a-b228-216e5220ac05",
   "metadata": {},
   "outputs": [],
   "source": [
    "#x만큼 간격이 있는 n개의 숫자\n",
    "def solution(x, n):\n",
    "    answer = [x*i for i in range(1,n+1)]\n",
    "    return answer"
   ]
  },
  {
   "cell_type": "code",
   "execution_count": 3,
   "id": "15bcd3aa-e0c5-4c3c-8b66-7cdf2d62f789",
   "metadata": {},
   "outputs": [],
   "source": [
    "#행렬의 덧셈\n",
    "def solution(arr1, arr2):\n",
    "    answer = []\n",
    "    for i in range(len(arr1)):\n",
    "        arr = []\n",
    "        for j in range(len(arr1[0])):\n",
    "            arr.append(arr1[i][j]+arr2[i][j])\n",
    "        answer.append(arr)\n",
    "    return answer"
   ]
  },
  {
   "cell_type": "code",
   "execution_count": 4,
   "id": "9765dba3-8211-4593-acf6-62642c78396f",
   "metadata": {},
   "outputs": [],
   "source": [
    "#핸드폰 번호 가리기\n",
    "def solution(phone_number):\n",
    "    answer = ''\n",
    "    answer+='*'*(len(phone_number)-4)+phone_number[-4:]\n",
    "    return answer"
   ]
  },
  {
   "cell_type": "code",
   "execution_count": 5,
   "id": "4ab9c7eb-3494-40d5-901e-4ace54c9e408",
   "metadata": {},
   "outputs": [],
   "source": [
    "#하샤드 수\n",
    "def solution(x):\n",
    "    num = sum([int(i) for i in str(x)])\n",
    "    if x%num ==0:\n",
    "        answer = True\n",
    "    else:\n",
    "        answer = False\n",
    "    return answer"
   ]
  },
  {
   "cell_type": "code",
   "execution_count": 6,
   "id": "aba06d7d-736f-4650-8aaa-89dbee212713",
   "metadata": {},
   "outputs": [],
   "source": [
    "#평균 구하기\n",
    "def solution(arr):\n",
    "    return (sum(arr)/len(arr))"
   ]
  },
  {
   "cell_type": "code",
   "execution_count": 7,
   "id": "b3f4d365-7168-41ce-8c36-cd35a89b1a6d",
   "metadata": {},
   "outputs": [],
   "source": [
    "#콜라츠 추측\n",
    "def solution(num):\n",
    "    answer = 0\n",
    "    while True:\n",
    "        if num==1 or answer>=500:\n",
    "            break\n",
    "        \n",
    "        if num%2==0:\n",
    "            num = num/2\n",
    "        elif num%2 != 0:\n",
    "            num = num*3+1\n",
    "        answer+=1\n",
    "    if answer ==500:\n",
    "        answer = -1\n",
    "    return answer"
   ]
  },
  {
   "cell_type": "code",
   "execution_count": 8,
   "id": "c7dca8b0-070f-4772-a5c8-79976bc5c692",
   "metadata": {},
   "outputs": [],
   "source": [
    "#최대공약수와 최소공배수\n",
    "import math\n",
    "def solution(n, m):\n",
    "    return [math.gcd(n,m),n*m/math.gcd(n,m)]"
   ]
  },
  {
   "cell_type": "code",
   "execution_count": 9,
   "id": "36b25e2e-f761-41c9-ab73-ce73b88c9a48",
   "metadata": {},
   "outputs": [],
   "source": [
    "#짝수와 홀수\n",
    "def solution(num):\n",
    "    return 'Even' if num%2==0 else 'Odd'"
   ]
  },
  {
   "cell_type": "code",
   "execution_count": 10,
   "id": "6fb1ab60-17d8-4c57-b7df-bd7b9263352d",
   "metadata": {},
   "outputs": [],
   "source": [
    "#제일 작은 수 제거하기\n",
    "def solution(arr):\n",
    "    arr.remove(min(arr))\n",
    "    return arr if len(arr) !=0 else [-1]"
   ]
  },
  {
   "cell_type": "code",
   "execution_count": 11,
   "id": "2aa3c2a3-a501-4d80-93c9-a23b609ea5c6",
   "metadata": {},
   "outputs": [],
   "source": [
    "#정수 제곱근 판별\n",
    "def solution(n):\n",
    "    return (n**0.5+1)**2 if n**0.5==int(n**0.5) else -1"
   ]
  },
  {
   "cell_type": "code",
   "execution_count": 12,
   "id": "639cb075-bac7-46ef-8f92-0d8d9ccd1929",
   "metadata": {},
   "outputs": [],
   "source": [
    "#정수 내림차순으로 배치하기\n"
   ]
  },
  {
   "cell_type": "code",
   "execution_count": 13,
   "id": "c8b4c8ae-a744-40d6-8e24-e3058ae8bfd0",
   "metadata": {},
   "outputs": [],
   "source": [
    "#자연수 뒤집어서 배열로 만들기\n",
    "def solution(n):\n",
    "    arr = [int(i) for i in str(n)]\n",
    "    return arr[::-1]"
   ]
  },
  {
   "cell_type": "code",
   "execution_count": 14,
   "id": "9429f179-ad65-4035-9670-65de194f2a48",
   "metadata": {},
   "outputs": [],
   "source": [
    "#자릿수 더하기\n",
    "def solution(n):\n",
    "    answer = 0\n",
    "    for i in str(n):\n",
    "        answer+=int(i)\n",
    "    return answer"
   ]
  },
  {
   "cell_type": "code",
   "execution_count": null,
   "id": "627edd29-8dfe-4d9d-84b7-40b2e5ad7060",
   "metadata": {},
   "outputs": [],
   "source": []
  }
 ],
 "metadata": {
  "kernelspec": {
   "display_name": "Python 3",
   "language": "python",
   "name": "python3"
  },
  "language_info": {
   "codemirror_mode": {
    "name": "ipython",
    "version": 3
   },
   "file_extension": ".py",
   "mimetype": "text/x-python",
   "name": "python",
   "nbconvert_exporter": "python",
   "pygments_lexer": "ipython3",
   "version": "3.8.8"
  }
 },
 "nbformat": 4,
 "nbformat_minor": 5
}
